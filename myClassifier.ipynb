{
  "nbformat": 4,
  "nbformat_minor": 0,
  "metadata": {
    "colab": {
      "provenance": []
    },
    "kernelspec": {
      "name": "python3",
      "display_name": "Python 3"
    },
    "language_info": {
      "name": "python"
    },
    "widgets": {
      "application/vnd.jupyter.widget-state+json": {
        "144fe531dffb425bbebd5cc47805f0f6": {
          "model_module": "@jupyter-widgets/controls",
          "model_name": "HBoxModel",
          "model_module_version": "1.5.0",
          "state": {
            "_dom_classes": [],
            "_model_module": "@jupyter-widgets/controls",
            "_model_module_version": "1.5.0",
            "_model_name": "HBoxModel",
            "_view_count": null,
            "_view_module": "@jupyter-widgets/controls",
            "_view_module_version": "1.5.0",
            "_view_name": "HBoxView",
            "box_style": "",
            "children": [
              "IPY_MODEL_0e1e6aa6e2d84a56abbab80e4254b547",
              "IPY_MODEL_25a4564fc47e437db54a2de598e1b16b",
              "IPY_MODEL_1d6078e1fc2448ceb33248925fc46f72"
            ],
            "layout": "IPY_MODEL_7244f2d39e6845ea86b0403349a1f8af"
          }
        },
        "0e1e6aa6e2d84a56abbab80e4254b547": {
          "model_module": "@jupyter-widgets/controls",
          "model_name": "HTMLModel",
          "model_module_version": "1.5.0",
          "state": {
            "_dom_classes": [],
            "_model_module": "@jupyter-widgets/controls",
            "_model_module_version": "1.5.0",
            "_model_name": "HTMLModel",
            "_view_count": null,
            "_view_module": "@jupyter-widgets/controls",
            "_view_module_version": "1.5.0",
            "_view_name": "HTMLView",
            "description": "",
            "description_tooltip": null,
            "layout": "IPY_MODEL_06bd9fce9fa04a96b6c1a44893eaf0eb",
            "placeholder": "​",
            "style": "IPY_MODEL_147d48202656463c90869507f9679790",
            "value": "Optimization Progress: 100%"
          }
        },
        "25a4564fc47e437db54a2de598e1b16b": {
          "model_module": "@jupyter-widgets/controls",
          "model_name": "FloatProgressModel",
          "model_module_version": "1.5.0",
          "state": {
            "_dom_classes": [],
            "_model_module": "@jupyter-widgets/controls",
            "_model_module_version": "1.5.0",
            "_model_name": "FloatProgressModel",
            "_view_count": null,
            "_view_module": "@jupyter-widgets/controls",
            "_view_module_version": "1.5.0",
            "_view_name": "ProgressView",
            "bar_style": "",
            "description": "",
            "description_tooltip": null,
            "layout": "IPY_MODEL_a4965298e5ad4af1bcccb00d7b3e6adb",
            "max": 150,
            "min": 0,
            "orientation": "horizontal",
            "style": "IPY_MODEL_76c5fb64538846638c90ac299880f4db",
            "value": 150
          }
        },
        "1d6078e1fc2448ceb33248925fc46f72": {
          "model_module": "@jupyter-widgets/controls",
          "model_name": "HTMLModel",
          "model_module_version": "1.5.0",
          "state": {
            "_dom_classes": [],
            "_model_module": "@jupyter-widgets/controls",
            "_model_module_version": "1.5.0",
            "_model_name": "HTMLModel",
            "_view_count": null,
            "_view_module": "@jupyter-widgets/controls",
            "_view_module_version": "1.5.0",
            "_view_name": "HTMLView",
            "description": "",
            "description_tooltip": null,
            "layout": "IPY_MODEL_704f9cd63dad4a659543805fb9495965",
            "placeholder": "​",
            "style": "IPY_MODEL_e413c53e964142209fe4fce004929c5d",
            "value": " 150/150 [00:49&lt;00:00,  4.65pipeline/s]"
          }
        },
        "7244f2d39e6845ea86b0403349a1f8af": {
          "model_module": "@jupyter-widgets/base",
          "model_name": "LayoutModel",
          "model_module_version": "1.2.0",
          "state": {
            "_model_module": "@jupyter-widgets/base",
            "_model_module_version": "1.2.0",
            "_model_name": "LayoutModel",
            "_view_count": null,
            "_view_module": "@jupyter-widgets/base",
            "_view_module_version": "1.2.0",
            "_view_name": "LayoutView",
            "align_content": null,
            "align_items": null,
            "align_self": null,
            "border": null,
            "bottom": null,
            "display": null,
            "flex": null,
            "flex_flow": null,
            "grid_area": null,
            "grid_auto_columns": null,
            "grid_auto_flow": null,
            "grid_auto_rows": null,
            "grid_column": null,
            "grid_gap": null,
            "grid_row": null,
            "grid_template_areas": null,
            "grid_template_columns": null,
            "grid_template_rows": null,
            "height": null,
            "justify_content": null,
            "justify_items": null,
            "left": null,
            "margin": null,
            "max_height": null,
            "max_width": null,
            "min_height": null,
            "min_width": null,
            "object_fit": null,
            "object_position": null,
            "order": null,
            "overflow": null,
            "overflow_x": null,
            "overflow_y": null,
            "padding": null,
            "right": null,
            "top": null,
            "visibility": "hidden",
            "width": null
          }
        },
        "06bd9fce9fa04a96b6c1a44893eaf0eb": {
          "model_module": "@jupyter-widgets/base",
          "model_name": "LayoutModel",
          "model_module_version": "1.2.0",
          "state": {
            "_model_module": "@jupyter-widgets/base",
            "_model_module_version": "1.2.0",
            "_model_name": "LayoutModel",
            "_view_count": null,
            "_view_module": "@jupyter-widgets/base",
            "_view_module_version": "1.2.0",
            "_view_name": "LayoutView",
            "align_content": null,
            "align_items": null,
            "align_self": null,
            "border": null,
            "bottom": null,
            "display": null,
            "flex": null,
            "flex_flow": null,
            "grid_area": null,
            "grid_auto_columns": null,
            "grid_auto_flow": null,
            "grid_auto_rows": null,
            "grid_column": null,
            "grid_gap": null,
            "grid_row": null,
            "grid_template_areas": null,
            "grid_template_columns": null,
            "grid_template_rows": null,
            "height": null,
            "justify_content": null,
            "justify_items": null,
            "left": null,
            "margin": null,
            "max_height": null,
            "max_width": null,
            "min_height": null,
            "min_width": null,
            "object_fit": null,
            "object_position": null,
            "order": null,
            "overflow": null,
            "overflow_x": null,
            "overflow_y": null,
            "padding": null,
            "right": null,
            "top": null,
            "visibility": null,
            "width": null
          }
        },
        "147d48202656463c90869507f9679790": {
          "model_module": "@jupyter-widgets/controls",
          "model_name": "DescriptionStyleModel",
          "model_module_version": "1.5.0",
          "state": {
            "_model_module": "@jupyter-widgets/controls",
            "_model_module_version": "1.5.0",
            "_model_name": "DescriptionStyleModel",
            "_view_count": null,
            "_view_module": "@jupyter-widgets/base",
            "_view_module_version": "1.2.0",
            "_view_name": "StyleView",
            "description_width": ""
          }
        },
        "a4965298e5ad4af1bcccb00d7b3e6adb": {
          "model_module": "@jupyter-widgets/base",
          "model_name": "LayoutModel",
          "model_module_version": "1.2.0",
          "state": {
            "_model_module": "@jupyter-widgets/base",
            "_model_module_version": "1.2.0",
            "_model_name": "LayoutModel",
            "_view_count": null,
            "_view_module": "@jupyter-widgets/base",
            "_view_module_version": "1.2.0",
            "_view_name": "LayoutView",
            "align_content": null,
            "align_items": null,
            "align_self": null,
            "border": null,
            "bottom": null,
            "display": null,
            "flex": null,
            "flex_flow": null,
            "grid_area": null,
            "grid_auto_columns": null,
            "grid_auto_flow": null,
            "grid_auto_rows": null,
            "grid_column": null,
            "grid_gap": null,
            "grid_row": null,
            "grid_template_areas": null,
            "grid_template_columns": null,
            "grid_template_rows": null,
            "height": null,
            "justify_content": null,
            "justify_items": null,
            "left": null,
            "margin": null,
            "max_height": null,
            "max_width": null,
            "min_height": null,
            "min_width": null,
            "object_fit": null,
            "object_position": null,
            "order": null,
            "overflow": null,
            "overflow_x": null,
            "overflow_y": null,
            "padding": null,
            "right": null,
            "top": null,
            "visibility": null,
            "width": null
          }
        },
        "76c5fb64538846638c90ac299880f4db": {
          "model_module": "@jupyter-widgets/controls",
          "model_name": "ProgressStyleModel",
          "model_module_version": "1.5.0",
          "state": {
            "_model_module": "@jupyter-widgets/controls",
            "_model_module_version": "1.5.0",
            "_model_name": "ProgressStyleModel",
            "_view_count": null,
            "_view_module": "@jupyter-widgets/base",
            "_view_module_version": "1.2.0",
            "_view_name": "StyleView",
            "bar_color": null,
            "description_width": ""
          }
        },
        "704f9cd63dad4a659543805fb9495965": {
          "model_module": "@jupyter-widgets/base",
          "model_name": "LayoutModel",
          "model_module_version": "1.2.0",
          "state": {
            "_model_module": "@jupyter-widgets/base",
            "_model_module_version": "1.2.0",
            "_model_name": "LayoutModel",
            "_view_count": null,
            "_view_module": "@jupyter-widgets/base",
            "_view_module_version": "1.2.0",
            "_view_name": "LayoutView",
            "align_content": null,
            "align_items": null,
            "align_self": null,
            "border": null,
            "bottom": null,
            "display": null,
            "flex": null,
            "flex_flow": null,
            "grid_area": null,
            "grid_auto_columns": null,
            "grid_auto_flow": null,
            "grid_auto_rows": null,
            "grid_column": null,
            "grid_gap": null,
            "grid_row": null,
            "grid_template_areas": null,
            "grid_template_columns": null,
            "grid_template_rows": null,
            "height": null,
            "justify_content": null,
            "justify_items": null,
            "left": null,
            "margin": null,
            "max_height": null,
            "max_width": null,
            "min_height": null,
            "min_width": null,
            "object_fit": null,
            "object_position": null,
            "order": null,
            "overflow": null,
            "overflow_x": null,
            "overflow_y": null,
            "padding": null,
            "right": null,
            "top": null,
            "visibility": null,
            "width": null
          }
        },
        "e413c53e964142209fe4fce004929c5d": {
          "model_module": "@jupyter-widgets/controls",
          "model_name": "DescriptionStyleModel",
          "model_module_version": "1.5.0",
          "state": {
            "_model_module": "@jupyter-widgets/controls",
            "_model_module_version": "1.5.0",
            "_model_name": "DescriptionStyleModel",
            "_view_count": null,
            "_view_module": "@jupyter-widgets/base",
            "_view_module_version": "1.2.0",
            "_view_name": "StyleView",
            "description_width": ""
          }
        },
        "7476d0666f77432c88034eeda3e091e3": {
          "model_module": "@jupyter-widgets/controls",
          "model_name": "HBoxModel",
          "model_module_version": "1.5.0",
          "state": {
            "_dom_classes": [],
            "_model_module": "@jupyter-widgets/controls",
            "_model_module_version": "1.5.0",
            "_model_name": "HBoxModel",
            "_view_count": null,
            "_view_module": "@jupyter-widgets/controls",
            "_view_module_version": "1.5.0",
            "_view_name": "HBoxView",
            "box_style": "",
            "children": [
              "IPY_MODEL_05fbdd4f3a7f4e1dbaf5a065fdff0a74",
              "IPY_MODEL_6f648d0ff2b14c87af96c523f4eb8c9f",
              "IPY_MODEL_13fdb9f669014d97b399786508c10c39"
            ],
            "layout": "IPY_MODEL_ff2e1d359ecf40ea876775f30b4089c0"
          }
        },
        "05fbdd4f3a7f4e1dbaf5a065fdff0a74": {
          "model_module": "@jupyter-widgets/controls",
          "model_name": "HTMLModel",
          "model_module_version": "1.5.0",
          "state": {
            "_dom_classes": [],
            "_model_module": "@jupyter-widgets/controls",
            "_model_module_version": "1.5.0",
            "_model_name": "HTMLModel",
            "_view_count": null,
            "_view_module": "@jupyter-widgets/controls",
            "_view_module_version": "1.5.0",
            "_view_name": "HTMLView",
            "description": "",
            "description_tooltip": null,
            "layout": "IPY_MODEL_b80aa17cb40d4a0aa107312f357019dd",
            "placeholder": "​",
            "style": "IPY_MODEL_d3fa68c564894b4d856f9586aafbbf85",
            "value": "Optimization Progress: 100%"
          }
        },
        "6f648d0ff2b14c87af96c523f4eb8c9f": {
          "model_module": "@jupyter-widgets/controls",
          "model_name": "FloatProgressModel",
          "model_module_version": "1.5.0",
          "state": {
            "_dom_classes": [],
            "_model_module": "@jupyter-widgets/controls",
            "_model_module_version": "1.5.0",
            "_model_name": "FloatProgressModel",
            "_view_count": null,
            "_view_module": "@jupyter-widgets/controls",
            "_view_module_version": "1.5.0",
            "_view_name": "ProgressView",
            "bar_style": "",
            "description": "",
            "description_tooltip": null,
            "layout": "IPY_MODEL_e90f6f41b3fb433190294ff9acd6417b",
            "max": 5050,
            "min": 0,
            "orientation": "horizontal",
            "style": "IPY_MODEL_8cedc627c47b44bba77db188174a28f8",
            "value": 5050
          }
        },
        "13fdb9f669014d97b399786508c10c39": {
          "model_module": "@jupyter-widgets/controls",
          "model_name": "HTMLModel",
          "model_module_version": "1.5.0",
          "state": {
            "_dom_classes": [],
            "_model_module": "@jupyter-widgets/controls",
            "_model_module_version": "1.5.0",
            "_model_name": "HTMLModel",
            "_view_count": null,
            "_view_module": "@jupyter-widgets/controls",
            "_view_module_version": "1.5.0",
            "_view_name": "HTMLView",
            "description": "",
            "description_tooltip": null,
            "layout": "IPY_MODEL_609c98e6d3f744689577dbe2142710e3",
            "placeholder": "​",
            "style": "IPY_MODEL_074de04ee9814d109898b4faab271c93",
            "value": " 5050/5050 [4:52:56&lt;00:00,  3.12s/pipeline]"
          }
        },
        "ff2e1d359ecf40ea876775f30b4089c0": {
          "model_module": "@jupyter-widgets/base",
          "model_name": "LayoutModel",
          "model_module_version": "1.2.0",
          "state": {
            "_model_module": "@jupyter-widgets/base",
            "_model_module_version": "1.2.0",
            "_model_name": "LayoutModel",
            "_view_count": null,
            "_view_module": "@jupyter-widgets/base",
            "_view_module_version": "1.2.0",
            "_view_name": "LayoutView",
            "align_content": null,
            "align_items": null,
            "align_self": null,
            "border": null,
            "bottom": null,
            "display": null,
            "flex": null,
            "flex_flow": null,
            "grid_area": null,
            "grid_auto_columns": null,
            "grid_auto_flow": null,
            "grid_auto_rows": null,
            "grid_column": null,
            "grid_gap": null,
            "grid_row": null,
            "grid_template_areas": null,
            "grid_template_columns": null,
            "grid_template_rows": null,
            "height": null,
            "justify_content": null,
            "justify_items": null,
            "left": null,
            "margin": null,
            "max_height": null,
            "max_width": null,
            "min_height": null,
            "min_width": null,
            "object_fit": null,
            "object_position": null,
            "order": null,
            "overflow": null,
            "overflow_x": null,
            "overflow_y": null,
            "padding": null,
            "right": null,
            "top": null,
            "visibility": "hidden",
            "width": null
          }
        },
        "b80aa17cb40d4a0aa107312f357019dd": {
          "model_module": "@jupyter-widgets/base",
          "model_name": "LayoutModel",
          "model_module_version": "1.2.0",
          "state": {
            "_model_module": "@jupyter-widgets/base",
            "_model_module_version": "1.2.0",
            "_model_name": "LayoutModel",
            "_view_count": null,
            "_view_module": "@jupyter-widgets/base",
            "_view_module_version": "1.2.0",
            "_view_name": "LayoutView",
            "align_content": null,
            "align_items": null,
            "align_self": null,
            "border": null,
            "bottom": null,
            "display": null,
            "flex": null,
            "flex_flow": null,
            "grid_area": null,
            "grid_auto_columns": null,
            "grid_auto_flow": null,
            "grid_auto_rows": null,
            "grid_column": null,
            "grid_gap": null,
            "grid_row": null,
            "grid_template_areas": null,
            "grid_template_columns": null,
            "grid_template_rows": null,
            "height": null,
            "justify_content": null,
            "justify_items": null,
            "left": null,
            "margin": null,
            "max_height": null,
            "max_width": null,
            "min_height": null,
            "min_width": null,
            "object_fit": null,
            "object_position": null,
            "order": null,
            "overflow": null,
            "overflow_x": null,
            "overflow_y": null,
            "padding": null,
            "right": null,
            "top": null,
            "visibility": null,
            "width": null
          }
        },
        "d3fa68c564894b4d856f9586aafbbf85": {
          "model_module": "@jupyter-widgets/controls",
          "model_name": "DescriptionStyleModel",
          "model_module_version": "1.5.0",
          "state": {
            "_model_module": "@jupyter-widgets/controls",
            "_model_module_version": "1.5.0",
            "_model_name": "DescriptionStyleModel",
            "_view_count": null,
            "_view_module": "@jupyter-widgets/base",
            "_view_module_version": "1.2.0",
            "_view_name": "StyleView",
            "description_width": ""
          }
        },
        "e90f6f41b3fb433190294ff9acd6417b": {
          "model_module": "@jupyter-widgets/base",
          "model_name": "LayoutModel",
          "model_module_version": "1.2.0",
          "state": {
            "_model_module": "@jupyter-widgets/base",
            "_model_module_version": "1.2.0",
            "_model_name": "LayoutModel",
            "_view_count": null,
            "_view_module": "@jupyter-widgets/base",
            "_view_module_version": "1.2.0",
            "_view_name": "LayoutView",
            "align_content": null,
            "align_items": null,
            "align_self": null,
            "border": null,
            "bottom": null,
            "display": null,
            "flex": null,
            "flex_flow": null,
            "grid_area": null,
            "grid_auto_columns": null,
            "grid_auto_flow": null,
            "grid_auto_rows": null,
            "grid_column": null,
            "grid_gap": null,
            "grid_row": null,
            "grid_template_areas": null,
            "grid_template_columns": null,
            "grid_template_rows": null,
            "height": null,
            "justify_content": null,
            "justify_items": null,
            "left": null,
            "margin": null,
            "max_height": null,
            "max_width": null,
            "min_height": null,
            "min_width": null,
            "object_fit": null,
            "object_position": null,
            "order": null,
            "overflow": null,
            "overflow_x": null,
            "overflow_y": null,
            "padding": null,
            "right": null,
            "top": null,
            "visibility": null,
            "width": null
          }
        },
        "8cedc627c47b44bba77db188174a28f8": {
          "model_module": "@jupyter-widgets/controls",
          "model_name": "ProgressStyleModel",
          "model_module_version": "1.5.0",
          "state": {
            "_model_module": "@jupyter-widgets/controls",
            "_model_module_version": "1.5.0",
            "_model_name": "ProgressStyleModel",
            "_view_count": null,
            "_view_module": "@jupyter-widgets/base",
            "_view_module_version": "1.2.0",
            "_view_name": "StyleView",
            "bar_color": null,
            "description_width": ""
          }
        },
        "609c98e6d3f744689577dbe2142710e3": {
          "model_module": "@jupyter-widgets/base",
          "model_name": "LayoutModel",
          "model_module_version": "1.2.0",
          "state": {
            "_model_module": "@jupyter-widgets/base",
            "_model_module_version": "1.2.0",
            "_model_name": "LayoutModel",
            "_view_count": null,
            "_view_module": "@jupyter-widgets/base",
            "_view_module_version": "1.2.0",
            "_view_name": "LayoutView",
            "align_content": null,
            "align_items": null,
            "align_self": null,
            "border": null,
            "bottom": null,
            "display": null,
            "flex": null,
            "flex_flow": null,
            "grid_area": null,
            "grid_auto_columns": null,
            "grid_auto_flow": null,
            "grid_auto_rows": null,
            "grid_column": null,
            "grid_gap": null,
            "grid_row": null,
            "grid_template_areas": null,
            "grid_template_columns": null,
            "grid_template_rows": null,
            "height": null,
            "justify_content": null,
            "justify_items": null,
            "left": null,
            "margin": null,
            "max_height": null,
            "max_width": null,
            "min_height": null,
            "min_width": null,
            "object_fit": null,
            "object_position": null,
            "order": null,
            "overflow": null,
            "overflow_x": null,
            "overflow_y": null,
            "padding": null,
            "right": null,
            "top": null,
            "visibility": null,
            "width": null
          }
        },
        "074de04ee9814d109898b4faab271c93": {
          "model_module": "@jupyter-widgets/controls",
          "model_name": "DescriptionStyleModel",
          "model_module_version": "1.5.0",
          "state": {
            "_model_module": "@jupyter-widgets/controls",
            "_model_module_version": "1.5.0",
            "_model_name": "DescriptionStyleModel",
            "_view_count": null,
            "_view_module": "@jupyter-widgets/base",
            "_view_module_version": "1.2.0",
            "_view_name": "StyleView",
            "description_width": ""
          }
        },
        "1ecc8d7072aa41bb8d4a792fe5298959": {
          "model_module": "@jupyter-widgets/controls",
          "model_name": "HBoxModel",
          "model_module_version": "1.5.0",
          "state": {
            "_dom_classes": [],
            "_model_module": "@jupyter-widgets/controls",
            "_model_module_version": "1.5.0",
            "_model_name": "HBoxModel",
            "_view_count": null,
            "_view_module": "@jupyter-widgets/controls",
            "_view_module_version": "1.5.0",
            "_view_name": "HBoxView",
            "box_style": "",
            "children": [
              "IPY_MODEL_7f4eef78027c40a4a768955cb5ec379d",
              "IPY_MODEL_579e4c7922314adbb1516ababcb05eec",
              "IPY_MODEL_f9f5905989054834a3cc6f6ece581d6b"
            ],
            "layout": "IPY_MODEL_b3eb892981d1463fbc11f21342d9d80a"
          }
        },
        "7f4eef78027c40a4a768955cb5ec379d": {
          "model_module": "@jupyter-widgets/controls",
          "model_name": "HTMLModel",
          "model_module_version": "1.5.0",
          "state": {
            "_dom_classes": [],
            "_model_module": "@jupyter-widgets/controls",
            "_model_module_version": "1.5.0",
            "_model_name": "HTMLModel",
            "_view_count": null,
            "_view_module": "@jupyter-widgets/controls",
            "_view_module_version": "1.5.0",
            "_view_name": "HTMLView",
            "description": "",
            "description_tooltip": null,
            "layout": "IPY_MODEL_43c179b881f542bcbcefeb7224aa7e7e",
            "placeholder": "​",
            "style": "IPY_MODEL_f4b2563c04724146b2ab37883eccd8c3",
            "value": "Downloading (…)lve/main/config.json: 100%"
          }
        },
        "579e4c7922314adbb1516ababcb05eec": {
          "model_module": "@jupyter-widgets/controls",
          "model_name": "FloatProgressModel",
          "model_module_version": "1.5.0",
          "state": {
            "_dom_classes": [],
            "_model_module": "@jupyter-widgets/controls",
            "_model_module_version": "1.5.0",
            "_model_name": "FloatProgressModel",
            "_view_count": null,
            "_view_module": "@jupyter-widgets/controls",
            "_view_module_version": "1.5.0",
            "_view_name": "ProgressView",
            "bar_style": "success",
            "description": "",
            "description_tooltip": null,
            "layout": "IPY_MODEL_39ad7a632cbe4768af975ccaedf388ea",
            "max": 313,
            "min": 0,
            "orientation": "horizontal",
            "style": "IPY_MODEL_a1cce537caaf465f902e64bc37343ac1",
            "value": 313
          }
        },
        "f9f5905989054834a3cc6f6ece581d6b": {
          "model_module": "@jupyter-widgets/controls",
          "model_name": "HTMLModel",
          "model_module_version": "1.5.0",
          "state": {
            "_dom_classes": [],
            "_model_module": "@jupyter-widgets/controls",
            "_model_module_version": "1.5.0",
            "_model_name": "HTMLModel",
            "_view_count": null,
            "_view_module": "@jupyter-widgets/controls",
            "_view_module_version": "1.5.0",
            "_view_name": "HTMLView",
            "description": "",
            "description_tooltip": null,
            "layout": "IPY_MODEL_e226e50acd7c4e97a498a15a03f52fca",
            "placeholder": "​",
            "style": "IPY_MODEL_31c2c5659c5a4634aceb1d8e4411fc2c",
            "value": " 313/313 [00:00&lt;00:00, 16.4kB/s]"
          }
        },
        "b3eb892981d1463fbc11f21342d9d80a": {
          "model_module": "@jupyter-widgets/base",
          "model_name": "LayoutModel",
          "model_module_version": "1.2.0",
          "state": {
            "_model_module": "@jupyter-widgets/base",
            "_model_module_version": "1.2.0",
            "_model_name": "LayoutModel",
            "_view_count": null,
            "_view_module": "@jupyter-widgets/base",
            "_view_module_version": "1.2.0",
            "_view_name": "LayoutView",
            "align_content": null,
            "align_items": null,
            "align_self": null,
            "border": null,
            "bottom": null,
            "display": null,
            "flex": null,
            "flex_flow": null,
            "grid_area": null,
            "grid_auto_columns": null,
            "grid_auto_flow": null,
            "grid_auto_rows": null,
            "grid_column": null,
            "grid_gap": null,
            "grid_row": null,
            "grid_template_areas": null,
            "grid_template_columns": null,
            "grid_template_rows": null,
            "height": null,
            "justify_content": null,
            "justify_items": null,
            "left": null,
            "margin": null,
            "max_height": null,
            "max_width": null,
            "min_height": null,
            "min_width": null,
            "object_fit": null,
            "object_position": null,
            "order": null,
            "overflow": null,
            "overflow_x": null,
            "overflow_y": null,
            "padding": null,
            "right": null,
            "top": null,
            "visibility": null,
            "width": null
          }
        },
        "43c179b881f542bcbcefeb7224aa7e7e": {
          "model_module": "@jupyter-widgets/base",
          "model_name": "LayoutModel",
          "model_module_version": "1.2.0",
          "state": {
            "_model_module": "@jupyter-widgets/base",
            "_model_module_version": "1.2.0",
            "_model_name": "LayoutModel",
            "_view_count": null,
            "_view_module": "@jupyter-widgets/base",
            "_view_module_version": "1.2.0",
            "_view_name": "LayoutView",
            "align_content": null,
            "align_items": null,
            "align_self": null,
            "border": null,
            "bottom": null,
            "display": null,
            "flex": null,
            "flex_flow": null,
            "grid_area": null,
            "grid_auto_columns": null,
            "grid_auto_flow": null,
            "grid_auto_rows": null,
            "grid_column": null,
            "grid_gap": null,
            "grid_row": null,
            "grid_template_areas": null,
            "grid_template_columns": null,
            "grid_template_rows": null,
            "height": null,
            "justify_content": null,
            "justify_items": null,
            "left": null,
            "margin": null,
            "max_height": null,
            "max_width": null,
            "min_height": null,
            "min_width": null,
            "object_fit": null,
            "object_position": null,
            "order": null,
            "overflow": null,
            "overflow_x": null,
            "overflow_y": null,
            "padding": null,
            "right": null,
            "top": null,
            "visibility": null,
            "width": null
          }
        },
        "f4b2563c04724146b2ab37883eccd8c3": {
          "model_module": "@jupyter-widgets/controls",
          "model_name": "DescriptionStyleModel",
          "model_module_version": "1.5.0",
          "state": {
            "_model_module": "@jupyter-widgets/controls",
            "_model_module_version": "1.5.0",
            "_model_name": "DescriptionStyleModel",
            "_view_count": null,
            "_view_module": "@jupyter-widgets/base",
            "_view_module_version": "1.2.0",
            "_view_name": "StyleView",
            "description_width": ""
          }
        },
        "39ad7a632cbe4768af975ccaedf388ea": {
          "model_module": "@jupyter-widgets/base",
          "model_name": "LayoutModel",
          "model_module_version": "1.2.0",
          "state": {
            "_model_module": "@jupyter-widgets/base",
            "_model_module_version": "1.2.0",
            "_model_name": "LayoutModel",
            "_view_count": null,
            "_view_module": "@jupyter-widgets/base",
            "_view_module_version": "1.2.0",
            "_view_name": "LayoutView",
            "align_content": null,
            "align_items": null,
            "align_self": null,
            "border": null,
            "bottom": null,
            "display": null,
            "flex": null,
            "flex_flow": null,
            "grid_area": null,
            "grid_auto_columns": null,
            "grid_auto_flow": null,
            "grid_auto_rows": null,
            "grid_column": null,
            "grid_gap": null,
            "grid_row": null,
            "grid_template_areas": null,
            "grid_template_columns": null,
            "grid_template_rows": null,
            "height": null,
            "justify_content": null,
            "justify_items": null,
            "left": null,
            "margin": null,
            "max_height": null,
            "max_width": null,
            "min_height": null,
            "min_width": null,
            "object_fit": null,
            "object_position": null,
            "order": null,
            "overflow": null,
            "overflow_x": null,
            "overflow_y": null,
            "padding": null,
            "right": null,
            "top": null,
            "visibility": null,
            "width": null
          }
        },
        "a1cce537caaf465f902e64bc37343ac1": {
          "model_module": "@jupyter-widgets/controls",
          "model_name": "ProgressStyleModel",
          "model_module_version": "1.5.0",
          "state": {
            "_model_module": "@jupyter-widgets/controls",
            "_model_module_version": "1.5.0",
            "_model_name": "ProgressStyleModel",
            "_view_count": null,
            "_view_module": "@jupyter-widgets/base",
            "_view_module_version": "1.2.0",
            "_view_name": "StyleView",
            "bar_color": null,
            "description_width": ""
          }
        },
        "e226e50acd7c4e97a498a15a03f52fca": {
          "model_module": "@jupyter-widgets/base",
          "model_name": "LayoutModel",
          "model_module_version": "1.2.0",
          "state": {
            "_model_module": "@jupyter-widgets/base",
            "_model_module_version": "1.2.0",
            "_model_name": "LayoutModel",
            "_view_count": null,
            "_view_module": "@jupyter-widgets/base",
            "_view_module_version": "1.2.0",
            "_view_name": "LayoutView",
            "align_content": null,
            "align_items": null,
            "align_self": null,
            "border": null,
            "bottom": null,
            "display": null,
            "flex": null,
            "flex_flow": null,
            "grid_area": null,
            "grid_auto_columns": null,
            "grid_auto_flow": null,
            "grid_auto_rows": null,
            "grid_column": null,
            "grid_gap": null,
            "grid_row": null,
            "grid_template_areas": null,
            "grid_template_columns": null,
            "grid_template_rows": null,
            "height": null,
            "justify_content": null,
            "justify_items": null,
            "left": null,
            "margin": null,
            "max_height": null,
            "max_width": null,
            "min_height": null,
            "min_width": null,
            "object_fit": null,
            "object_position": null,
            "order": null,
            "overflow": null,
            "overflow_x": null,
            "overflow_y": null,
            "padding": null,
            "right": null,
            "top": null,
            "visibility": null,
            "width": null
          }
        },
        "31c2c5659c5a4634aceb1d8e4411fc2c": {
          "model_module": "@jupyter-widgets/controls",
          "model_name": "DescriptionStyleModel",
          "model_module_version": "1.5.0",
          "state": {
            "_model_module": "@jupyter-widgets/controls",
            "_model_module_version": "1.5.0",
            "_model_name": "DescriptionStyleModel",
            "_view_count": null,
            "_view_module": "@jupyter-widgets/base",
            "_view_module_version": "1.2.0",
            "_view_name": "StyleView",
            "description_width": ""
          }
        },
        "393e1d3e8a2e4e9d93393bcadf102082": {
          "model_module": "@jupyter-widgets/controls",
          "model_name": "HBoxModel",
          "model_module_version": "1.5.0",
          "state": {
            "_dom_classes": [],
            "_model_module": "@jupyter-widgets/controls",
            "_model_module_version": "1.5.0",
            "_model_name": "HBoxModel",
            "_view_count": null,
            "_view_module": "@jupyter-widgets/controls",
            "_view_module_version": "1.5.0",
            "_view_name": "HBoxView",
            "box_style": "",
            "children": [
              "IPY_MODEL_1b6dfd6f6c9b4288a4faae70f57aaa2e",
              "IPY_MODEL_eb06ce329ca8437d9ecb07bdfc6ba1d7",
              "IPY_MODEL_53b2a2e78ba84523b50143e6a26a4b81"
            ],
            "layout": "IPY_MODEL_4d500e3c8b07493daa78025eb00b139f"
          }
        },
        "1b6dfd6f6c9b4288a4faae70f57aaa2e": {
          "model_module": "@jupyter-widgets/controls",
          "model_name": "HTMLModel",
          "model_module_version": "1.5.0",
          "state": {
            "_dom_classes": [],
            "_model_module": "@jupyter-widgets/controls",
            "_model_module_version": "1.5.0",
            "_model_name": "HTMLModel",
            "_view_count": null,
            "_view_module": "@jupyter-widgets/controls",
            "_view_module_version": "1.5.0",
            "_view_name": "HTMLView",
            "description": "",
            "description_tooltip": null,
            "layout": "IPY_MODEL_77a4be6ad6c24076812da3f5a94de845",
            "placeholder": "​",
            "style": "IPY_MODEL_ef5b43fd07654594a1aee58a61fbf01b",
            "value": "Downloading (…)solve/main/vocab.txt: 100%"
          }
        },
        "eb06ce329ca8437d9ecb07bdfc6ba1d7": {
          "model_module": "@jupyter-widgets/controls",
          "model_name": "FloatProgressModel",
          "model_module_version": "1.5.0",
          "state": {
            "_dom_classes": [],
            "_model_module": "@jupyter-widgets/controls",
            "_model_module_version": "1.5.0",
            "_model_name": "FloatProgressModel",
            "_view_count": null,
            "_view_module": "@jupyter-widgets/controls",
            "_view_module_version": "1.5.0",
            "_view_name": "ProgressView",
            "bar_style": "success",
            "description": "",
            "description_tooltip": null,
            "layout": "IPY_MODEL_9e86cb4e82a142df931667a58ec70919",
            "max": 213450,
            "min": 0,
            "orientation": "horizontal",
            "style": "IPY_MODEL_e1ff1dc5973b4e27a0b066af30849669",
            "value": 213450
          }
        },
        "53b2a2e78ba84523b50143e6a26a4b81": {
          "model_module": "@jupyter-widgets/controls",
          "model_name": "HTMLModel",
          "model_module_version": "1.5.0",
          "state": {
            "_dom_classes": [],
            "_model_module": "@jupyter-widgets/controls",
            "_model_module_version": "1.5.0",
            "_model_name": "HTMLModel",
            "_view_count": null,
            "_view_module": "@jupyter-widgets/controls",
            "_view_module_version": "1.5.0",
            "_view_name": "HTMLView",
            "description": "",
            "description_tooltip": null,
            "layout": "IPY_MODEL_56ae6e8d234447f6b778dc169163bbb0",
            "placeholder": "​",
            "style": "IPY_MODEL_eecff8bab8eb4432845bae66e1a18e49",
            "value": " 213k/213k [00:00&lt;00:00, 8.36MB/s]"
          }
        },
        "4d500e3c8b07493daa78025eb00b139f": {
          "model_module": "@jupyter-widgets/base",
          "model_name": "LayoutModel",
          "model_module_version": "1.2.0",
          "state": {
            "_model_module": "@jupyter-widgets/base",
            "_model_module_version": "1.2.0",
            "_model_name": "LayoutModel",
            "_view_count": null,
            "_view_module": "@jupyter-widgets/base",
            "_view_module_version": "1.2.0",
            "_view_name": "LayoutView",
            "align_content": null,
            "align_items": null,
            "align_self": null,
            "border": null,
            "bottom": null,
            "display": null,
            "flex": null,
            "flex_flow": null,
            "grid_area": null,
            "grid_auto_columns": null,
            "grid_auto_flow": null,
            "grid_auto_rows": null,
            "grid_column": null,
            "grid_gap": null,
            "grid_row": null,
            "grid_template_areas": null,
            "grid_template_columns": null,
            "grid_template_rows": null,
            "height": null,
            "justify_content": null,
            "justify_items": null,
            "left": null,
            "margin": null,
            "max_height": null,
            "max_width": null,
            "min_height": null,
            "min_width": null,
            "object_fit": null,
            "object_position": null,
            "order": null,
            "overflow": null,
            "overflow_x": null,
            "overflow_y": null,
            "padding": null,
            "right": null,
            "top": null,
            "visibility": null,
            "width": null
          }
        },
        "77a4be6ad6c24076812da3f5a94de845": {
          "model_module": "@jupyter-widgets/base",
          "model_name": "LayoutModel",
          "model_module_version": "1.2.0",
          "state": {
            "_model_module": "@jupyter-widgets/base",
            "_model_module_version": "1.2.0",
            "_model_name": "LayoutModel",
            "_view_count": null,
            "_view_module": "@jupyter-widgets/base",
            "_view_module_version": "1.2.0",
            "_view_name": "LayoutView",
            "align_content": null,
            "align_items": null,
            "align_self": null,
            "border": null,
            "bottom": null,
            "display": null,
            "flex": null,
            "flex_flow": null,
            "grid_area": null,
            "grid_auto_columns": null,
            "grid_auto_flow": null,
            "grid_auto_rows": null,
            "grid_column": null,
            "grid_gap": null,
            "grid_row": null,
            "grid_template_areas": null,
            "grid_template_columns": null,
            "grid_template_rows": null,
            "height": null,
            "justify_content": null,
            "justify_items": null,
            "left": null,
            "margin": null,
            "max_height": null,
            "max_width": null,
            "min_height": null,
            "min_width": null,
            "object_fit": null,
            "object_position": null,
            "order": null,
            "overflow": null,
            "overflow_x": null,
            "overflow_y": null,
            "padding": null,
            "right": null,
            "top": null,
            "visibility": null,
            "width": null
          }
        },
        "ef5b43fd07654594a1aee58a61fbf01b": {
          "model_module": "@jupyter-widgets/controls",
          "model_name": "DescriptionStyleModel",
          "model_module_version": "1.5.0",
          "state": {
            "_model_module": "@jupyter-widgets/controls",
            "_model_module_version": "1.5.0",
            "_model_name": "DescriptionStyleModel",
            "_view_count": null,
            "_view_module": "@jupyter-widgets/base",
            "_view_module_version": "1.2.0",
            "_view_name": "StyleView",
            "description_width": ""
          }
        },
        "9e86cb4e82a142df931667a58ec70919": {
          "model_module": "@jupyter-widgets/base",
          "model_name": "LayoutModel",
          "model_module_version": "1.2.0",
          "state": {
            "_model_module": "@jupyter-widgets/base",
            "_model_module_version": "1.2.0",
            "_model_name": "LayoutModel",
            "_view_count": null,
            "_view_module": "@jupyter-widgets/base",
            "_view_module_version": "1.2.0",
            "_view_name": "LayoutView",
            "align_content": null,
            "align_items": null,
            "align_self": null,
            "border": null,
            "bottom": null,
            "display": null,
            "flex": null,
            "flex_flow": null,
            "grid_area": null,
            "grid_auto_columns": null,
            "grid_auto_flow": null,
            "grid_auto_rows": null,
            "grid_column": null,
            "grid_gap": null,
            "grid_row": null,
            "grid_template_areas": null,
            "grid_template_columns": null,
            "grid_template_rows": null,
            "height": null,
            "justify_content": null,
            "justify_items": null,
            "left": null,
            "margin": null,
            "max_height": null,
            "max_width": null,
            "min_height": null,
            "min_width": null,
            "object_fit": null,
            "object_position": null,
            "order": null,
            "overflow": null,
            "overflow_x": null,
            "overflow_y": null,
            "padding": null,
            "right": null,
            "top": null,
            "visibility": null,
            "width": null
          }
        },
        "e1ff1dc5973b4e27a0b066af30849669": {
          "model_module": "@jupyter-widgets/controls",
          "model_name": "ProgressStyleModel",
          "model_module_version": "1.5.0",
          "state": {
            "_model_module": "@jupyter-widgets/controls",
            "_model_module_version": "1.5.0",
            "_model_name": "ProgressStyleModel",
            "_view_count": null,
            "_view_module": "@jupyter-widgets/base",
            "_view_module_version": "1.2.0",
            "_view_name": "StyleView",
            "bar_color": null,
            "description_width": ""
          }
        },
        "56ae6e8d234447f6b778dc169163bbb0": {
          "model_module": "@jupyter-widgets/base",
          "model_name": "LayoutModel",
          "model_module_version": "1.2.0",
          "state": {
            "_model_module": "@jupyter-widgets/base",
            "_model_module_version": "1.2.0",
            "_model_name": "LayoutModel",
            "_view_count": null,
            "_view_module": "@jupyter-widgets/base",
            "_view_module_version": "1.2.0",
            "_view_name": "LayoutView",
            "align_content": null,
            "align_items": null,
            "align_self": null,
            "border": null,
            "bottom": null,
            "display": null,
            "flex": null,
            "flex_flow": null,
            "grid_area": null,
            "grid_auto_columns": null,
            "grid_auto_flow": null,
            "grid_auto_rows": null,
            "grid_column": null,
            "grid_gap": null,
            "grid_row": null,
            "grid_template_areas": null,
            "grid_template_columns": null,
            "grid_template_rows": null,
            "height": null,
            "justify_content": null,
            "justify_items": null,
            "left": null,
            "margin": null,
            "max_height": null,
            "max_width": null,
            "min_height": null,
            "min_width": null,
            "object_fit": null,
            "object_position": null,
            "order": null,
            "overflow": null,
            "overflow_x": null,
            "overflow_y": null,
            "padding": null,
            "right": null,
            "top": null,
            "visibility": null,
            "width": null
          }
        },
        "eecff8bab8eb4432845bae66e1a18e49": {
          "model_module": "@jupyter-widgets/controls",
          "model_name": "DescriptionStyleModel",
          "model_module_version": "1.5.0",
          "state": {
            "_model_module": "@jupyter-widgets/controls",
            "_model_module_version": "1.5.0",
            "_model_name": "DescriptionStyleModel",
            "_view_count": null,
            "_view_module": "@jupyter-widgets/base",
            "_view_module_version": "1.2.0",
            "_view_name": "StyleView",
            "description_width": ""
          }
        }
      }
    }
  },
  "cells": [
    {
      "cell_type": "code",
      "execution_count": null,
      "metadata": {
        "id": "k1Sluiajyo_v"
      },
      "outputs": [],
      "source": [
        "######\n",
        "# Importing the libraries\n",
        "# They will be described/commented later\n",
        "\n",
        "from sklearn.pipeline import Pipeline\n",
        "from sklearn.feature_extraction.text import CountVectorizer, TfidfVectorizer\n",
        "from sklearn.svm import LinearSVC, SVC\n",
        "from sklearn.linear_model import LogisticRegression\n",
        "from sklearn.metrics import classification_report\n",
        "from sklearn.metrics import accuracy_score\n",
        "from sklearn.metrics import precision_score\n",
        "from sklearn.metrics import recall_score\n",
        "from sklearn.metrics import f1_score\n",
        "from sklearn.model_selection import GridSearchCV\n",
        "from sklearn.model_selection import RandomizedSearchCV\n",
        "from sklearn.model_selection import train_test_split\n",
        "import time\n",
        "import pandas as pd\n",
        "from sklearn.base import BaseEstimator, TransformerMixin # useful for implementing text preprocessing components that can be pipelined\n",
        "import nltk # nltk provides some useful algorithms and data for natural language processing\n",
        "from IPython.display import IFrame # to get a better output on Notebooks\n",
        "from sklearn.utils.fixes import loguniform\n",
        "from scipy.stats import uniform\n",
        "from sklearn.svm import SVC\n",
        "from sklearn.ensemble import RandomForestClassifier\n",
        "from sklearn.model_selection import cross_val_score\n",
        "import numpy as np\n",
        "\n",
        "import warnings\n",
        "warnings.filterwarnings(\"ignore\")"
      ]
    },
    {
      "cell_type": "markdown",
      "source": [
        "# Import Dataset"
      ],
      "metadata": {
        "id": "pToJjyKry9zV"
      }
    },
    {
      "cell_type": "code",
      "source": [
        "####################################\n",
        "# Function to load the dataset\n",
        "dfRaw = None\n",
        "\n",
        "def loadDataFrame():\n",
        "  # The next UEL allows us to download the gsheetdata as a .csv file\n",
        "  # Please, check it out the last part of the url: ?tqx=out:csv&gid=1\n",
        "  # ...out:csv is a request for csv data, gid=1 is a request for the first sheet\n",
        "  #urlCsv = \"https://docs.google.com/spreadsheets/d/1X6zJNKMWgBsu-Zhe1H3x9smHEz2ft2IZRE0QqTlhDZU/gviz/tq?tqx=out:csv&gid=1\"\n",
        "\n",
        "  url = 'https://drive.google.com/file/d/1A3uBbWtXKFYEnBu18ngOgNPCnqIjOpX3/view?usp=share_link'\n",
        "  path = 'https://drive.google.com/uc?export=download&id='+url.split('/')[-2]\n",
        "  # To get more info on pandas read_csv(), please refer to\n",
        "  # https://pandas.pydata.org/pandas-docs/stable/generated/pandas.read_csv.html\n",
        "  df = pd.read_csv(path,\n",
        "              quoting=0,  # Quoting=0 removes fields surrounding quotes\n",
        "              header=0,           # column names are in the first row (i.e., row 0)\n",
        "\n",
        "                     )\n",
        "  return df\n",
        "\n",
        "\n",
        "dfRaw = loadDataFrame()\n",
        "\n",
        "dfRaw.head()"
      ],
      "metadata": {
        "id": "pVWbmlIAzK9v",
        "colab": {
          "base_uri": "https://localhost:8080/",
          "height": 206
        },
        "outputId": "e43f281f-57cb-4465-e19e-f2c2fa025567"
      },
      "execution_count": null,
      "outputs": [
        {
          "output_type": "execute_result",
          "data": {
            "text/plain": [
              "   Index                                               text  y\n",
              "0   6565  Methods \\n       \\n         Trial design and s...  1\n",
              "1  28256  Ethics and Study Design \\n         The lactofe...  1\n",
              "2  13877  Study Design \\n         This study was a prosp...  1\n",
              "3  24481  Study design and participants \\n         This ...  1\n",
              "4  15211  Methods \\n       \\n         Trial design \\n   ...  1"
            ],
            "text/html": [
              "\n",
              "  <div id=\"df-4f802395-8161-4951-9da4-a6cf39b17751\">\n",
              "    <div class=\"colab-df-container\">\n",
              "      <div>\n",
              "<style scoped>\n",
              "    .dataframe tbody tr th:only-of-type {\n",
              "        vertical-align: middle;\n",
              "    }\n",
              "\n",
              "    .dataframe tbody tr th {\n",
              "        vertical-align: top;\n",
              "    }\n",
              "\n",
              "    .dataframe thead th {\n",
              "        text-align: right;\n",
              "    }\n",
              "</style>\n",
              "<table border=\"1\" class=\"dataframe\">\n",
              "  <thead>\n",
              "    <tr style=\"text-align: right;\">\n",
              "      <th></th>\n",
              "      <th>Index</th>\n",
              "      <th>text</th>\n",
              "      <th>y</th>\n",
              "    </tr>\n",
              "  </thead>\n",
              "  <tbody>\n",
              "    <tr>\n",
              "      <th>0</th>\n",
              "      <td>6565</td>\n",
              "      <td>Methods \\n       \\n         Trial design and s...</td>\n",
              "      <td>1</td>\n",
              "    </tr>\n",
              "    <tr>\n",
              "      <th>1</th>\n",
              "      <td>28256</td>\n",
              "      <td>Ethics and Study Design \\n         The lactofe...</td>\n",
              "      <td>1</td>\n",
              "    </tr>\n",
              "    <tr>\n",
              "      <th>2</th>\n",
              "      <td>13877</td>\n",
              "      <td>Study Design \\n         This study was a prosp...</td>\n",
              "      <td>1</td>\n",
              "    </tr>\n",
              "    <tr>\n",
              "      <th>3</th>\n",
              "      <td>24481</td>\n",
              "      <td>Study design and participants \\n         This ...</td>\n",
              "      <td>1</td>\n",
              "    </tr>\n",
              "    <tr>\n",
              "      <th>4</th>\n",
              "      <td>15211</td>\n",
              "      <td>Methods \\n       \\n         Trial design \\n   ...</td>\n",
              "      <td>1</td>\n",
              "    </tr>\n",
              "  </tbody>\n",
              "</table>\n",
              "</div>\n",
              "      <button class=\"colab-df-convert\" onclick=\"convertToInteractive('df-4f802395-8161-4951-9da4-a6cf39b17751')\"\n",
              "              title=\"Convert this dataframe to an interactive table.\"\n",
              "              style=\"display:none;\">\n",
              "        \n",
              "  <svg xmlns=\"http://www.w3.org/2000/svg\" height=\"24px\"viewBox=\"0 0 24 24\"\n",
              "       width=\"24px\">\n",
              "    <path d=\"M0 0h24v24H0V0z\" fill=\"none\"/>\n",
              "    <path d=\"M18.56 5.44l.94 2.06.94-2.06 2.06-.94-2.06-.94-.94-2.06-.94 2.06-2.06.94zm-11 1L8.5 8.5l.94-2.06 2.06-.94-2.06-.94L8.5 2.5l-.94 2.06-2.06.94zm10 10l.94 2.06.94-2.06 2.06-.94-2.06-.94-.94-2.06-.94 2.06-2.06.94z\"/><path d=\"M17.41 7.96l-1.37-1.37c-.4-.4-.92-.59-1.43-.59-.52 0-1.04.2-1.43.59L10.3 9.45l-7.72 7.72c-.78.78-.78 2.05 0 2.83L4 21.41c.39.39.9.59 1.41.59.51 0 1.02-.2 1.41-.59l7.78-7.78 2.81-2.81c.8-.78.8-2.07 0-2.86zM5.41 20L4 18.59l7.72-7.72 1.47 1.35L5.41 20z\"/>\n",
              "  </svg>\n",
              "      </button>\n",
              "      \n",
              "  <style>\n",
              "    .colab-df-container {\n",
              "      display:flex;\n",
              "      flex-wrap:wrap;\n",
              "      gap: 12px;\n",
              "    }\n",
              "\n",
              "    .colab-df-convert {\n",
              "      background-color: #E8F0FE;\n",
              "      border: none;\n",
              "      border-radius: 50%;\n",
              "      cursor: pointer;\n",
              "      display: none;\n",
              "      fill: #1967D2;\n",
              "      height: 32px;\n",
              "      padding: 0 0 0 0;\n",
              "      width: 32px;\n",
              "    }\n",
              "\n",
              "    .colab-df-convert:hover {\n",
              "      background-color: #E2EBFA;\n",
              "      box-shadow: 0px 1px 2px rgba(60, 64, 67, 0.3), 0px 1px 3px 1px rgba(60, 64, 67, 0.15);\n",
              "      fill: #174EA6;\n",
              "    }\n",
              "\n",
              "    [theme=dark] .colab-df-convert {\n",
              "      background-color: #3B4455;\n",
              "      fill: #D2E3FC;\n",
              "    }\n",
              "\n",
              "    [theme=dark] .colab-df-convert:hover {\n",
              "      background-color: #434B5C;\n",
              "      box-shadow: 0px 1px 3px 1px rgba(0, 0, 0, 0.15);\n",
              "      filter: drop-shadow(0px 1px 2px rgba(0, 0, 0, 0.3));\n",
              "      fill: #FFFFFF;\n",
              "    }\n",
              "  </style>\n",
              "\n",
              "      <script>\n",
              "        const buttonEl =\n",
              "          document.querySelector('#df-4f802395-8161-4951-9da4-a6cf39b17751 button.colab-df-convert');\n",
              "        buttonEl.style.display =\n",
              "          google.colab.kernel.accessAllowed ? 'block' : 'none';\n",
              "\n",
              "        async function convertToInteractive(key) {\n",
              "          const element = document.querySelector('#df-4f802395-8161-4951-9da4-a6cf39b17751');\n",
              "          const dataTable =\n",
              "            await google.colab.kernel.invokeFunction('convertToInteractive',\n",
              "                                                     [key], {});\n",
              "          if (!dataTable) return;\n",
              "\n",
              "          const docLinkHtml = 'Like what you see? Visit the ' +\n",
              "            '<a target=\"_blank\" href=https://colab.research.google.com/notebooks/data_table.ipynb>data table notebook</a>'\n",
              "            + ' to learn more about interactive tables.';\n",
              "          element.innerHTML = '';\n",
              "          dataTable['output_type'] = 'display_data';\n",
              "          await google.colab.output.renderOutput(dataTable, element);\n",
              "          const docLink = document.createElement('div');\n",
              "          docLink.innerHTML = docLinkHtml;\n",
              "          element.appendChild(docLink);\n",
              "        }\n",
              "      </script>\n",
              "    </div>\n",
              "  </div>\n",
              "  "
            ]
          },
          "metadata": {},
          "execution_count": 2
        }
      ]
    },
    {
      "cell_type": "markdown",
      "source": [
        "# Esploro il dataset"
      ],
      "metadata": {
        "id": "Rayk3RsZ0130"
      }
    },
    {
      "cell_type": "code",
      "source": [
        "##########################\n",
        "# Let's get some info about the dataframe\n",
        "# Showing the number of rows and columns of the DataFrame (i.e., of the data matrix)\n",
        "print(' dfraw.shape i.e., (num. of rows, num. of columns)')\n",
        "# .shape returns a tuple (# of lines, # of columns)\n",
        "print(dfRaw.shape) #\n",
        "print() # print an empty line\n",
        "\n",
        "# \\n is carriage return, \"a capo\" in Italian\n",
        "print(\"\\n Number of columns: \")\n",
        "print(dfRaw.shape[1])\n",
        "print() # print an empty line\n",
        "\n",
        "print(' Column names')\n",
        "# columns are turned into a list to get a cleaner output\n",
        "print(list(dfRaw.columns))"
      ],
      "metadata": {
        "colab": {
          "base_uri": "https://localhost:8080/"
        },
        "id": "8o2gZuQE04q-",
        "outputId": "c3908f1f-83da-46ec-e2d4-af8bc4795862"
      },
      "execution_count": null,
      "outputs": [
        {
          "output_type": "stream",
          "name": "stdout",
          "text": [
            " dfraw.shape i.e., (num. of rows, num. of columns)\n",
            "(267, 3)\n",
            "\n",
            "\n",
            " Number of columns: \n",
            "3\n",
            "\n",
            " Column names\n",
            "['Index', 'text', 'y']\n"
          ]
        }
      ]
    },
    {
      "cell_type": "markdown",
      "source": [
        "# Data Quality"
      ],
      "metadata": {
        "id": "jwQYcqD00-TN"
      }
    },
    {
      "cell_type": "code",
      "source": [
        "######\n",
        "# Looking for missing values i.e., null values (in pandas they are called NaN)\n",
        "missingValueMask = dfRaw.isnull().any(axis = 1)\n",
        "print('Rows with missing values')\n",
        "# display is like print, it works only in notebooks and\n",
        "# provide a nice output\n",
        "display(dfRaw.loc[missingValueMask,:])\n",
        "print()\n",
        "\n",
        "print('dfRaw.loc[missingValueMask,:].shape')\n",
        "print(dfRaw.loc[missingValueMask,:].shape)"
      ],
      "metadata": {
        "colab": {
          "base_uri": "https://localhost:8080/",
          "height": 119
        },
        "id": "IT1sUeRt1Frp",
        "outputId": "d425b346-2bcb-45fa-d814-3918dbd09d5c"
      },
      "execution_count": null,
      "outputs": [
        {
          "output_type": "stream",
          "name": "stdout",
          "text": [
            "Rows with missing values\n"
          ]
        },
        {
          "output_type": "display_data",
          "data": {
            "text/plain": [
              "Empty DataFrame\n",
              "Columns: [Index, text, y]\n",
              "Index: []"
            ],
            "text/html": [
              "\n",
              "  <div id=\"df-08a15343-080e-44ea-9f48-b82c35368a91\">\n",
              "    <div class=\"colab-df-container\">\n",
              "      <div>\n",
              "<style scoped>\n",
              "    .dataframe tbody tr th:only-of-type {\n",
              "        vertical-align: middle;\n",
              "    }\n",
              "\n",
              "    .dataframe tbody tr th {\n",
              "        vertical-align: top;\n",
              "    }\n",
              "\n",
              "    .dataframe thead th {\n",
              "        text-align: right;\n",
              "    }\n",
              "</style>\n",
              "<table border=\"1\" class=\"dataframe\">\n",
              "  <thead>\n",
              "    <tr style=\"text-align: right;\">\n",
              "      <th></th>\n",
              "      <th>Index</th>\n",
              "      <th>text</th>\n",
              "      <th>y</th>\n",
              "    </tr>\n",
              "  </thead>\n",
              "  <tbody>\n",
              "  </tbody>\n",
              "</table>\n",
              "</div>\n",
              "      <button class=\"colab-df-convert\" onclick=\"convertToInteractive('df-08a15343-080e-44ea-9f48-b82c35368a91')\"\n",
              "              title=\"Convert this dataframe to an interactive table.\"\n",
              "              style=\"display:none;\">\n",
              "        \n",
              "  <svg xmlns=\"http://www.w3.org/2000/svg\" height=\"24px\"viewBox=\"0 0 24 24\"\n",
              "       width=\"24px\">\n",
              "    <path d=\"M0 0h24v24H0V0z\" fill=\"none\"/>\n",
              "    <path d=\"M18.56 5.44l.94 2.06.94-2.06 2.06-.94-2.06-.94-.94-2.06-.94 2.06-2.06.94zm-11 1L8.5 8.5l.94-2.06 2.06-.94-2.06-.94L8.5 2.5l-.94 2.06-2.06.94zm10 10l.94 2.06.94-2.06 2.06-.94-2.06-.94-.94-2.06-.94 2.06-2.06.94z\"/><path d=\"M17.41 7.96l-1.37-1.37c-.4-.4-.92-.59-1.43-.59-.52 0-1.04.2-1.43.59L10.3 9.45l-7.72 7.72c-.78.78-.78 2.05 0 2.83L4 21.41c.39.39.9.59 1.41.59.51 0 1.02-.2 1.41-.59l7.78-7.78 2.81-2.81c.8-.78.8-2.07 0-2.86zM5.41 20L4 18.59l7.72-7.72 1.47 1.35L5.41 20z\"/>\n",
              "  </svg>\n",
              "      </button>\n",
              "      \n",
              "  <style>\n",
              "    .colab-df-container {\n",
              "      display:flex;\n",
              "      flex-wrap:wrap;\n",
              "      gap: 12px;\n",
              "    }\n",
              "\n",
              "    .colab-df-convert {\n",
              "      background-color: #E8F0FE;\n",
              "      border: none;\n",
              "      border-radius: 50%;\n",
              "      cursor: pointer;\n",
              "      display: none;\n",
              "      fill: #1967D2;\n",
              "      height: 32px;\n",
              "      padding: 0 0 0 0;\n",
              "      width: 32px;\n",
              "    }\n",
              "\n",
              "    .colab-df-convert:hover {\n",
              "      background-color: #E2EBFA;\n",
              "      box-shadow: 0px 1px 2px rgba(60, 64, 67, 0.3), 0px 1px 3px 1px rgba(60, 64, 67, 0.15);\n",
              "      fill: #174EA6;\n",
              "    }\n",
              "\n",
              "    [theme=dark] .colab-df-convert {\n",
              "      background-color: #3B4455;\n",
              "      fill: #D2E3FC;\n",
              "    }\n",
              "\n",
              "    [theme=dark] .colab-df-convert:hover {\n",
              "      background-color: #434B5C;\n",
              "      box-shadow: 0px 1px 3px 1px rgba(0, 0, 0, 0.15);\n",
              "      filter: drop-shadow(0px 1px 2px rgba(0, 0, 0, 0.3));\n",
              "      fill: #FFFFFF;\n",
              "    }\n",
              "  </style>\n",
              "\n",
              "      <script>\n",
              "        const buttonEl =\n",
              "          document.querySelector('#df-08a15343-080e-44ea-9f48-b82c35368a91 button.colab-df-convert');\n",
              "        buttonEl.style.display =\n",
              "          google.colab.kernel.accessAllowed ? 'block' : 'none';\n",
              "\n",
              "        async function convertToInteractive(key) {\n",
              "          const element = document.querySelector('#df-08a15343-080e-44ea-9f48-b82c35368a91');\n",
              "          const dataTable =\n",
              "            await google.colab.kernel.invokeFunction('convertToInteractive',\n",
              "                                                     [key], {});\n",
              "          if (!dataTable) return;\n",
              "\n",
              "          const docLinkHtml = 'Like what you see? Visit the ' +\n",
              "            '<a target=\"_blank\" href=https://colab.research.google.com/notebooks/data_table.ipynb>data table notebook</a>'\n",
              "            + ' to learn more about interactive tables.';\n",
              "          element.innerHTML = '';\n",
              "          dataTable['output_type'] = 'display_data';\n",
              "          await google.colab.output.renderOutput(dataTable, element);\n",
              "          const docLink = document.createElement('div');\n",
              "          docLink.innerHTML = docLinkHtml;\n",
              "          element.appendChild(docLink);\n",
              "        }\n",
              "      </script>\n",
              "    </div>\n",
              "  </div>\n",
              "  "
            ]
          },
          "metadata": {}
        },
        {
          "output_type": "stream",
          "name": "stdout",
          "text": [
            "\n",
            "dfRaw.loc[missingValueMask,:].shape\n",
            "(0, 3)\n"
          ]
        }
      ]
    },
    {
      "cell_type": "code",
      "source": [
        "######\n",
        "# Removing missing values, if any\n",
        "print('Shape before removing missing values', dfRaw.shape)\n",
        "df = dfRaw.dropna()\n",
        "print('Shape after', df.shape)\n",
        "print()\n",
        "\n",
        "#removing rows with label different than (1,2,3,4)\n",
        "print('Removing undesired labels')\n",
        "print('df.shape', df.shape)\n",
        "permittedLabels=[0,1]\n",
        "#Below, .isin() works well also when df2.CategoryID has float values\n",
        "#while permittedLabels has int elements\n",
        "df2=df.loc[df.loc[:,'y'].isin(permittedLabels)] #,:\n",
        "print('df2.shape', df2.shape)\n",
        "print()\n",
        "\n",
        "# Evaluating Category Sizes (i.e., label subset size)\n",
        "print('Cat. sizes')\n",
        "print(df2.loc[:,'y'].value_counts())\n"
      ],
      "metadata": {
        "colab": {
          "base_uri": "https://localhost:8080/"
        },
        "id": "XaFNa3kG1v0K",
        "outputId": "2f61d9cc-3da7-4bf0-f349-0655f0401433"
      },
      "execution_count": null,
      "outputs": [
        {
          "output_type": "stream",
          "name": "stdout",
          "text": [
            "Shape before removing missing values (267, 3)\n",
            "Shape after (267, 3)\n",
            "\n",
            "Removing undesired labels\n",
            "df.shape (267, 3)\n",
            "df2.shape (267, 3)\n",
            "\n",
            "Cat. sizes\n",
            "0    168\n",
            "1     99\n",
            "Name: y, dtype: int64\n"
          ]
        }
      ]
    },
    {
      "cell_type": "code",
      "source": [
        "##########################\n",
        "# Converting y label to int\n",
        "# (in case it were saved in a non numeric format)\n",
        "df2['y'] = df2['y'].astype(int)\n",
        "print('df2.dtypes') # visualizzo i tipi delle colonne. In pandas, le colonne sono chiamate Series.\n",
        "print(df2.dtypes)\n",
        "df2.head()"
      ],
      "metadata": {
        "colab": {
          "base_uri": "https://localhost:8080/",
          "height": 293
        },
        "id": "2vX-_iXL184w",
        "outputId": "379da8a5-0082-43e0-86f2-7a10565715ad"
      },
      "execution_count": null,
      "outputs": [
        {
          "output_type": "stream",
          "name": "stdout",
          "text": [
            "df2.dtypes\n",
            "Index     int64\n",
            "text     object\n",
            "y         int64\n",
            "dtype: object\n"
          ]
        },
        {
          "output_type": "execute_result",
          "data": {
            "text/plain": [
              "   Index                                               text  y\n",
              "0   6565  Methods \\n       \\n         Trial design and s...  1\n",
              "1  28256  Ethics and Study Design \\n         The lactofe...  1\n",
              "2  13877  Study Design \\n         This study was a prosp...  1\n",
              "3  24481  Study design and participants \\n         This ...  1\n",
              "4  15211  Methods \\n       \\n         Trial design \\n   ...  1"
            ],
            "text/html": [
              "\n",
              "  <div id=\"df-974d72bf-3406-46bf-be10-562a155a381c\">\n",
              "    <div class=\"colab-df-container\">\n",
              "      <div>\n",
              "<style scoped>\n",
              "    .dataframe tbody tr th:only-of-type {\n",
              "        vertical-align: middle;\n",
              "    }\n",
              "\n",
              "    .dataframe tbody tr th {\n",
              "        vertical-align: top;\n",
              "    }\n",
              "\n",
              "    .dataframe thead th {\n",
              "        text-align: right;\n",
              "    }\n",
              "</style>\n",
              "<table border=\"1\" class=\"dataframe\">\n",
              "  <thead>\n",
              "    <tr style=\"text-align: right;\">\n",
              "      <th></th>\n",
              "      <th>Index</th>\n",
              "      <th>text</th>\n",
              "      <th>y</th>\n",
              "    </tr>\n",
              "  </thead>\n",
              "  <tbody>\n",
              "    <tr>\n",
              "      <th>0</th>\n",
              "      <td>6565</td>\n",
              "      <td>Methods \\n       \\n         Trial design and s...</td>\n",
              "      <td>1</td>\n",
              "    </tr>\n",
              "    <tr>\n",
              "      <th>1</th>\n",
              "      <td>28256</td>\n",
              "      <td>Ethics and Study Design \\n         The lactofe...</td>\n",
              "      <td>1</td>\n",
              "    </tr>\n",
              "    <tr>\n",
              "      <th>2</th>\n",
              "      <td>13877</td>\n",
              "      <td>Study Design \\n         This study was a prosp...</td>\n",
              "      <td>1</td>\n",
              "    </tr>\n",
              "    <tr>\n",
              "      <th>3</th>\n",
              "      <td>24481</td>\n",
              "      <td>Study design and participants \\n         This ...</td>\n",
              "      <td>1</td>\n",
              "    </tr>\n",
              "    <tr>\n",
              "      <th>4</th>\n",
              "      <td>15211</td>\n",
              "      <td>Methods \\n       \\n         Trial design \\n   ...</td>\n",
              "      <td>1</td>\n",
              "    </tr>\n",
              "  </tbody>\n",
              "</table>\n",
              "</div>\n",
              "      <button class=\"colab-df-convert\" onclick=\"convertToInteractive('df-974d72bf-3406-46bf-be10-562a155a381c')\"\n",
              "              title=\"Convert this dataframe to an interactive table.\"\n",
              "              style=\"display:none;\">\n",
              "        \n",
              "  <svg xmlns=\"http://www.w3.org/2000/svg\" height=\"24px\"viewBox=\"0 0 24 24\"\n",
              "       width=\"24px\">\n",
              "    <path d=\"M0 0h24v24H0V0z\" fill=\"none\"/>\n",
              "    <path d=\"M18.56 5.44l.94 2.06.94-2.06 2.06-.94-2.06-.94-.94-2.06-.94 2.06-2.06.94zm-11 1L8.5 8.5l.94-2.06 2.06-.94-2.06-.94L8.5 2.5l-.94 2.06-2.06.94zm10 10l.94 2.06.94-2.06 2.06-.94-2.06-.94-.94-2.06-.94 2.06-2.06.94z\"/><path d=\"M17.41 7.96l-1.37-1.37c-.4-.4-.92-.59-1.43-.59-.52 0-1.04.2-1.43.59L10.3 9.45l-7.72 7.72c-.78.78-.78 2.05 0 2.83L4 21.41c.39.39.9.59 1.41.59.51 0 1.02-.2 1.41-.59l7.78-7.78 2.81-2.81c.8-.78.8-2.07 0-2.86zM5.41 20L4 18.59l7.72-7.72 1.47 1.35L5.41 20z\"/>\n",
              "  </svg>\n",
              "      </button>\n",
              "      \n",
              "  <style>\n",
              "    .colab-df-container {\n",
              "      display:flex;\n",
              "      flex-wrap:wrap;\n",
              "      gap: 12px;\n",
              "    }\n",
              "\n",
              "    .colab-df-convert {\n",
              "      background-color: #E8F0FE;\n",
              "      border: none;\n",
              "      border-radius: 50%;\n",
              "      cursor: pointer;\n",
              "      display: none;\n",
              "      fill: #1967D2;\n",
              "      height: 32px;\n",
              "      padding: 0 0 0 0;\n",
              "      width: 32px;\n",
              "    }\n",
              "\n",
              "    .colab-df-convert:hover {\n",
              "      background-color: #E2EBFA;\n",
              "      box-shadow: 0px 1px 2px rgba(60, 64, 67, 0.3), 0px 1px 3px 1px rgba(60, 64, 67, 0.15);\n",
              "      fill: #174EA6;\n",
              "    }\n",
              "\n",
              "    [theme=dark] .colab-df-convert {\n",
              "      background-color: #3B4455;\n",
              "      fill: #D2E3FC;\n",
              "    }\n",
              "\n",
              "    [theme=dark] .colab-df-convert:hover {\n",
              "      background-color: #434B5C;\n",
              "      box-shadow: 0px 1px 3px 1px rgba(0, 0, 0, 0.15);\n",
              "      filter: drop-shadow(0px 1px 2px rgba(0, 0, 0, 0.3));\n",
              "      fill: #FFFFFF;\n",
              "    }\n",
              "  </style>\n",
              "\n",
              "      <script>\n",
              "        const buttonEl =\n",
              "          document.querySelector('#df-974d72bf-3406-46bf-be10-562a155a381c button.colab-df-convert');\n",
              "        buttonEl.style.display =\n",
              "          google.colab.kernel.accessAllowed ? 'block' : 'none';\n",
              "\n",
              "        async function convertToInteractive(key) {\n",
              "          const element = document.querySelector('#df-974d72bf-3406-46bf-be10-562a155a381c');\n",
              "          const dataTable =\n",
              "            await google.colab.kernel.invokeFunction('convertToInteractive',\n",
              "                                                     [key], {});\n",
              "          if (!dataTable) return;\n",
              "\n",
              "          const docLinkHtml = 'Like what you see? Visit the ' +\n",
              "            '<a target=\"_blank\" href=https://colab.research.google.com/notebooks/data_table.ipynb>data table notebook</a>'\n",
              "            + ' to learn more about interactive tables.';\n",
              "          element.innerHTML = '';\n",
              "          dataTable['output_type'] = 'display_data';\n",
              "          await google.colab.output.renderOutput(dataTable, element);\n",
              "          const docLink = document.createElement('div');\n",
              "          docLink.innerHTML = docLinkHtml;\n",
              "          element.appendChild(docLink);\n",
              "        }\n",
              "      </script>\n",
              "    </div>\n",
              "  </div>\n",
              "  "
            ]
          },
          "metadata": {},
          "execution_count": 6
        }
      ]
    },
    {
      "cell_type": "markdown",
      "source": [
        "# Balancing the dataset"
      ],
      "metadata": {
        "id": "kI-9FWl12Lji"
      }
    },
    {
      "cell_type": "code",
      "source": [
        "##########################\n",
        "# Unfortunately, the dataset is unbalanced\n",
        "# Balancing by undersammpling\n",
        "def underSample2Min(df, labelName):\n",
        "    ''' The dataset is undersampled so that all label groups will have the same size,\n",
        "        corresponding to the (original) minimal label set.\n",
        "        The parameter labelName is the DataFrmae column hosting the labels'''\n",
        "\n",
        "    vc = df.loc[:,labelName].value_counts() # Counting label frequencies\n",
        "    lab2freq = dict(zip(vc.index.tolist(), vc.values.tolist()))\n",
        "    #print(lab2freq) # if you want to see lab2freq, please uncomment this command\n",
        "    #print(min(lab2freq.values()))\n",
        "    minfreq = min(lab2freq.values())\n",
        "    #print(minfreq)\n",
        "    idxSample=[]\n",
        "    for selectedLabel, actualFreq in lab2freq.items():\n",
        "        selIndexes=df.loc[df.loc[:,labelName]==selectedLabel, :].sample(n=minfreq, random_state = 42).index.tolist()\n",
        "        idxSample+=selIndexes\n",
        "    idxSample.sort()\n",
        "    #print(type(idxSample), idxSample)\n",
        "    #print(list(df.index)[:5])\n",
        "\n",
        "    df2 = df.loc[idxSample, :]\n",
        "    #print(len(idxSample), df2.shape);exit()\n",
        "    df2 = df2.reset_index() # otherwise missing index may cause problem\n",
        "    return df2\n",
        "\n",
        "df3 = underSample2Min(df2, 'y')\n",
        "\n",
        "# Let's look again to the category sizes\n",
        "print('Cat. sizes')\n",
        "print(df3.loc[:,'y'].value_counts())"
      ],
      "metadata": {
        "colab": {
          "base_uri": "https://localhost:8080/"
        },
        "id": "RTfUG5lH2N2o",
        "outputId": "d82d1ac3-19b3-420a-f6a3-590b860c0732"
      },
      "execution_count": null,
      "outputs": [
        {
          "output_type": "stream",
          "name": "stdout",
          "text": [
            "Cat. sizes\n",
            "1    99\n",
            "0    99\n",
            "Name: y, dtype: int64\n"
          ]
        }
      ]
    },
    {
      "cell_type": "code",
      "source": [],
      "metadata": {
        "id": "MbK02S0Zr5cj"
      },
      "execution_count": null,
      "outputs": []
    },
    {
      "cell_type": "markdown",
      "source": [
        "# Text Processing and Machine Learning"
      ],
      "metadata": {
        "id": "F_jYBUlK2WMz"
      }
    },
    {
      "cell_type": "markdown",
      "source": [
        "##Classi per gestire i Text"
      ],
      "metadata": {
        "id": "3EEsc5qb35NO"
      }
    },
    {
      "cell_type": "code",
      "metadata": {
        "id": "QxrnNtxX8QrG"
      },
      "source": [
        "########################\n",
        "# Let's customize (and improve) the preprocessing\n",
        "\n",
        "# seguono delle classi per implementare gestire dei testi\n",
        "\n",
        "class BaseWrapper(BaseEstimator, TransformerMixin):\n",
        "    \"\"\"class wrapping a sentence processing function so that it can be used in a sklearn.pipeline.Pipeline\"\"\"\n",
        "\n",
        "    def fit(self, x, y=None): #This method is usually overridden in children classes\n",
        "        \"\"\" This method actually does nothing.\n",
        "        It will be overridden by the child classes.\n",
        "        In its children implementations this method will perform all the\n",
        "        setup activities required before calling either the method transform()\n",
        "        or the method predict().\n",
        "        E.g., a machine learning classifier is trained calling the fit() method,\n",
        "        once trained it can be used to classify new elements by calling the method predict()\n",
        "        \"\"\"\n",
        "        return self\n",
        "\n",
        "    def manageSentence(self, sentence): #This method is usually overridden in children classes\n",
        "        \"\"\"Called by transform(). The sentence is expected to be a either a string or a list of words,\n",
        "        this method can return either a string or a list of words\"\"\"\n",
        "        return sentence\n",
        "\n",
        "    def transform(self, listOfSentences):\n",
        "        \"\"\" sentenceList: list of sentences.\n",
        "        Every sentence can be either a string or a list of words\n",
        "        Return a list of lists. Each sentence is preprocessed using the manageSentence() method.\n",
        "        Each child class can override the manageSentence() method to implement a specific preprocessing behavior.\n",
        "        The list of preprocessed documents is returned.\"\"\"\n",
        "        toReturn = []\n",
        "        for sentence in listOfSentences:\n",
        "            processedSentence = self.manageSentence(sentence)\n",
        "            toReturn.append(processedSentence)\n",
        "        return toReturn\n",
        "        # using python list comprehension, the above method can be implemented in a single line:\n",
        "        # return [self.manageSentence(sentence) for sentence in listOfSentences]\n",
        "        # more details https://towardsdatascience.com/python-basics-list-comprehensions-631278f22c40\n",
        "\n",
        "class HTMLAccentsReplacer(BaseWrapper):\n",
        "    def manageSentence(self, sentence):\n",
        "        \"\"\"Replace html representations of special letters with the corresponding unicode character.\n",
        "        E.g.  &agrave with à.\n",
        "        Args:\n",
        "           * s(string): the string where the html codes should be replaced  \"\"\"\n",
        "        assert type(sentence)==type('') or type(sentence)==type(u''), \"HTMLAccentsReplacer Assertion Error\" # if the parameter is not the right type, the execution is interrupted. This is useful to catch errors\n",
        "        # sostituita con la versione seguente piu' completa\n",
        "        replacemap={u'&Ecirc;': u'\\xca', u'&raquo;': u'\\xbb', u'&eth;': u'\\xf0', u'&divide;': u'\\xf7',\n",
        "                    u'&atilde;': u'\\xe3', u'&Aelig;': u'\\xc6', u'&frac34;': u'\\xbe', u'&nbsp;': u' ',\n",
        "                    u'&Aumbl;': u'\\xc4', u'&Ouml;': u'\\xd6', u'&Egrave;': u'\\xc8', u'&Icirc;': u'\\xce',\n",
        "                    u'&deg;': u'\\xb0', u'&ocirc;': u'\\xf4', u'&Ugrave;': u'\\xd9', u'&ndash;': u'\\u2013',\n",
        "                    u'&gt;': u'>', u'&Thorn;': u'\\xde', u'&aring;': u'\\xe5', u'&frac12;': u'\\xbd',\n",
        "                    u'&frac14;': u'\\xbc', u'&Aacute;': u'\\xc1', u'&szlig;': u'\\xdf', u'&trade;': u'\\u2122',\n",
        "                    u'&igrave;': u'\\xec', u'&aelig;': u'\\xe6', u'&times;': u'\\xd7', u'&egrave;': u'\\xe8',\n",
        "                    u'&Atilde;': u'\\xc3', u'&Igrave;': u'\\xcc', u'&Eth;': u'\\xd0', u'&ucirc;': u'\\xfb',\n",
        "                    u'&lsquo;': u'\\u2018', u'&agrave;': u'\\xe0', u'&thorn;': u'\\xfe', u'&Ucirc;': u'\\xdb',\n",
        "                    u'&amp;': u'&', u'&uuml;': u'\\xfc', u'&yuml;': u'', u'&ecirc;': u'\\xea', u'&laquo;': u'\\xab',\n",
        "                    u'&infin;': u'\\u221e', u'&Ograve;': u'\\xd2', u'&oslash;': u'\\xf8', u'&yacute;': u'\\xfd',\n",
        "                    u'&plusmn;': u'\\xb1', u'&icirc;': u'\\xee', u'&auml;': u'\\xe4', u'&ouml;': u'\\xf6',\n",
        "                    u'&Ccedil;': u'\\xc7', u'&euml;': u'\\xeb', u'&lt;': u'<', u'&eacute;': u'\\xe9',\n",
        "                    u'&ntilde;': u'\\xf1', u'&pound;': u'\\xa3', u'&Iuml;': u'\\xcf', u'&Eacute;': u'\\xc9',\n",
        "                    u'&Ntilde;': u'\\xd1', u'&rsquo;': u'\\u2019', u'&euro;': u'\\u20ac', u'&rdquo;': u'\\u201d',\n",
        "                    u'&Acirc;': u'\\xc2', u'&ccedil;': u'\\xe7', u'&Iacute;': u'\\xcd', u'&quot;': u'\"',\n",
        "                    u'&Aring;': u'\\xc5', u'&Oslash;': u'\\xd8', u'&Otilde;': u'\\xd5', u'&Uacute;': u'\\xda',\n",
        "                    u'&reg;': u'\\xae', u'&Yacute;': u'\\xdd', u'&iuml;': u'\\xef', u'&ugrave;': u'\\xf9',\n",
        "                    u'&alpha;': u'\\u03b1', u'&copy;': u'\\xa9', u'&ldquo;': u'\\u201c', u'&oacute;': u'\\xf3',\n",
        "                    u'&Euml;': u'\\xcb', u'&uacute;': u'\\xfa', u'&ograve;': u'\\xf2', u'&acirc;': u'\\xe2',\n",
        "                    u'&aacute;': u'\\xe1', u'&Agrave;': u'\\xc0', u'&Oacute;': u'\\xd3', u'&Uuml;': u'\\xdc',\n",
        "                    u'&iacute;': u'\\xed', u'&cent;': u'\\xa2', u'&Ocirc;': u'\\xd4', u'&mdash;': u'\\u2014',\n",
        "                    u'&otilde;': u'\\xf5', u'&beta;': u'\\u03b2'}\n",
        "        for before in replacemap:\n",
        "            after=replacemap[before] # getting the string to be replaced\n",
        "            sentence=sentence.replace(before, after)\n",
        "        return sentence\n",
        "\n",
        "'''\n",
        "# Required in python2, no more necessary in python3\n",
        "class Str2Unicode(BaseWrapper):\n",
        "    def manageSentence(self, sentence):\n",
        "        \"\"\"Converts raw strings to unicode, to better manage accented letters, money symbols (e.g., pounds)\"\"\"\n",
        "        #print(type(sentence), sentence) # ****** cancellami\n",
        "        # if the parameter is not the right type, the execution is interrupted\n",
        "        assert type(sentence)==type('') or type(sentence)==type(u''), \"Str2Unicode Assertion Error\"\n",
        "        if type(sentence)==type(u''): # Now it should work also with python3\n",
        "            return sentence\n",
        "        elif type(sentence)==type(''):\n",
        "            return sentence.decode('utf-8', errors='strict')  # interpret all raw strings into unicode\n",
        "        else:\n",
        "            return sentence\n",
        "'''\n",
        "\n",
        "class Tokenizer(BaseWrapper):\n",
        "    def manageSentence(self, sentence):\n",
        "        \"\"\"This method turn a single document (i.e., a string)\n",
        "         into a list of single words (i.e., tokens).\n",
        "        The parameter \"sentence\" is expected to be a string,\n",
        "         this method returns a list of strings whereas each string\n",
        "        is a tokenized word. This method replaces all the punctuation with spaces.\n",
        "        Two or more consecuitve spaces are reduced to a single space.\n",
        "        Then the string is splitted in substring using the spaces as split markers\"\"\"\n",
        "\n",
        "        if sentence==None:\n",
        "            return[]\n",
        "        # if the parameter is not the right type, the execution is interrupted\n",
        "        assert type(sentence)==type('') or type(sentence)==type(u''), \"Tokenizer Assertion Error\"\n",
        "        punteggiatura=u'!{}[]?\"\",;.:-<>|/\\\\*=+-_% \\n\\t\\r()'+u\"'\" +u'\\u2019'+u'\\u2018'\n",
        "        #\\r and \\n can be used as \"new line\"\n",
        "        # Unicode Character 'RIGHT SINGLE QUOTATION MARK' (U+2019)\n",
        "        #\n",
        "        for l in punteggiatura:\n",
        "           #print(s)\n",
        "           sentence=sentence.replace(l,u\" \") #replacing all punctuation characters with spaces\n",
        "\n",
        "        # loop untill all double spaces are removed\n",
        "        while sentence.find(u\"  \")!=-1:\n",
        "            sentence=sentence.replace(u\"  \",u\" \")  #replacing double spaces with a single one\n",
        "        return sentence.split(u' ')   #e.g., \"a b c d\".split(' ')  returns ['a','b','c','d']\n",
        "\n",
        "class LowerCaseReducer(BaseWrapper):\n",
        "    def manageSentence(self, sentence):\n",
        "        \"\"\"sentence is expected to be a list of words (each item is a string),\n",
        "        this method returns a list of strings whereas each string is the lower case version of the original word\"\"\"\n",
        "        # preliminary check over the input data type\n",
        "        assert type(sentence)==type([]), \"LowerCaseReducer, Assertion Error\"\n",
        "        # The next line uses a python trick called List Comprehensions.\n",
        "        # More details about List Comprehension on http://www.pythonforbeginners.com/basics/list-comprehensions-in-python\n",
        "        return [w.lower() for w in sentence]\n",
        "        # builds a new list, where each word of the original list is turned into a lower case string\n",
        "\n",
        "\n",
        "class EnglishStopWordsRemover(BaseWrapper):\n",
        "    def getStopWords(self):\n",
        "        \"\"\"This method returns a list of English stop words. Stop words can be added to the list\"\"\"\n",
        "        return [u'i', u'me', u'my', u'myself', u'we', u'our', u'ours', u'ourselves',\n",
        "                u'you', u'your', u'yours', u'yourself', u'yourselves',\n",
        "                u'he', u'him', u'his', u'himself', u'she', u'her', u'hers', u'herself',\n",
        "                u'it', u'its', u'itself', u'they', u'them', u'their', u'theirs', u'themselves',\n",
        "                u'what', u'which', u'who', u'whom', u'this', u'that', u'these', u'those',\n",
        "                u'am', u'is', u'are', u'was', u'were', u'be', u'been', u'being',\n",
        "                u'have', u'has', u'had', u'having', u'do', u'does', u'did', u'doing',\n",
        "                u'a', u'an', u'the', u'and', u'but', u'if', u'or', u'because', u'as',\n",
        "                u'until', u'while', u'of', u'at', u'by', u'for', u'with', u'about',\n",
        "                u'against', u'between', u'into', u'through', u'during', u'before',\n",
        "                u'after', u'above', u'below', u'to', u'from', u'up', u'down', u'in',\n",
        "                u'out', u'on', u'off', u'over', u'under', u'again', u'further',\n",
        "                u'then', u'once', u'here', u'there', u'when', u'where', u'why', u'how',\n",
        "                u'all', u'any', u'both', u'each', u'few', u'more', u'most', u'other',\n",
        "                u'some', u'such', u'no', u'nor', u'not', u'only', u'own', u'same',\n",
        "                u'so', u'than', u'too', u'very', u's', u't', u'can', u'will', u'just',\n",
        "                u'don', u'should', u'now', u'd', u'll', u'm', u'o', u're', u've', u'y',\n",
        "                u'ain', u'aren', u'couldn', u'didn', u'doesn', u'hadn', u'hasn', u'haven', u'isn',\n",
        "                u'ma', u'mightn', u'mustn', u'needn', u'shan', u'shouldn', u'wasn', u'weren',\n",
        "                u'won', u'wouldn']\n",
        "\n",
        "    def manageSentence(self, sentence):\n",
        "        \"\"\"sentence is expected to be a list of words (a list where each item is a string containing a single word),\n",
        "        this method returns the input list where the stop words are removed \"\"\"\n",
        "        assert type(sentence)==type([]) , \"EnglishStopWordsRemover, Assertion Error\"\n",
        "        stopWords = self.getStopWords()\n",
        "        return [w for w in sentence if w not in stopWords]\n",
        "\n",
        "class EnglishStemmer(BaseWrapper):\n",
        "    def __init__(self):\n",
        "        \"\"\"Load the NLTK English stemmer. A stemmer is an algorithm that recues a word\n",
        "        to its base form  e.g., \"books\" is reduced to \"book\",\n",
        "        'children' is reduced to 'child'. \"\"\"\n",
        "        self.st = nltk.stem.SnowballStemmer(\"english\") # loading the NLTK stemmer\n",
        "    def  manageSentence(self, sentence):\n",
        "        \"\"\"sentence is expected to be a list of words (a list where each item is a\n",
        "        string containing a single word), this method returns a list of stemmed words\"\"\"\n",
        "        assert type(sentence)==type([]), \"EnglishStemmer, Assertion Error\"\n",
        "        return [self.st.stem(w) for w in sentence]\n",
        "\n",
        "# Here it is an examle about stemming\n",
        "#es = EnglishStemmer()\n",
        "#wt = Tokenizer()\n",
        "#res=es.transform(wt.transform([\"we are looking for some new cars\", \"having better performances\"]))\n",
        "#print(res)\n",
        "# [[u'we', u'are', u'look', u'for', u'some', u'new', u'car'], [u'have', u'better', u'perform']]\n",
        "\n",
        "\n",
        "class RemoveNumbers(BaseWrapper):\n",
        "    def manageSentence(self, sentence):\n",
        "        \"\"\"Sentence is expected to be a list of words (a list where each item is a string containing a single word),\n",
        "        this method returns the input list where the numbers are removed. \"\"\"\n",
        "        assert type(sentence)==type([]), \"RemoveNumbers, Assertion Error\"\n",
        "        return [w for w in sentence if w.isdigit()==False]\n",
        "\n",
        "class RemoveEmptyWords(BaseWrapper):\n",
        "    def manageSentence(self, sentence):\n",
        "        \"\"\"Sentence is expected to be a list of words (a list where each item is a string containing a single word),\n",
        "        this method returns the input list where the empty words are removed \"\"\"\n",
        "        assert type(sentence)==type([]), \"RemoveEmptyWords, Assertion Error\"\n",
        "        return [w for w in sentence if not (w==u'' or w=='')]\n",
        "\n",
        "# No more required. Useful for previous versions of CountVectorizer\n",
        "class Bag2Text(BaseWrapper):\n",
        "    def manageSentence(self, sentence):\n",
        "        \"\"\"sentence is expected to be a list of words (a list where each item is a string containing a single word),\n",
        "        this method returns a single string obtained joining the words and separing them using the space\"\"\"\n",
        "        assert type(sentence)==type([]), \"Bag2Text, Assertion Error\"\n",
        "        # Next line builds a string by joining with spaces all the elements of sentence\n",
        "        return u' '.join(sentence)\n",
        "\n",
        "def unityFunction(x):\n",
        "  \"\"\"This function returns the same object received as input.\n",
        "  For advanced pythonists: equivalent to lambda x:x \"\"\"\n",
        "  return x"
      ],
      "execution_count": null,
      "outputs": []
    },
    {
      "cell_type": "markdown",
      "source": [
        "##Train Test Split\n"
      ],
      "metadata": {
        "id": "3PxsweLs2fm-"
      }
    },
    {
      "cell_type": "code",
      "source": [
        "######\n",
        "# Splitting the dataset into train and test\n",
        "\n",
        "xAll = df3.loc[:,'text'] # Selecting the text column. It will be used as input feature i.e., the x\n",
        "yAll = df3.loc[:,'y'] # Selecting the y column i.e., the y\n",
        "print('type(xAll)', type(xAll), 'xAll.shape', xAll.shape)\n",
        "print('type(yAll)', type(yAll), 'xAll.shape', yAll.shape)\n",
        "print()\n",
        "\n",
        "# Suddivido xAll e yAll in due sottoinsiemi, rispettivamente di training e test\n",
        "xTrainVec, xTestVec, yTrain, yTest = train_test_split(\n",
        "    xAll, yAll, # the x and y to be partitioned\n",
        "    test_size=0.30, # the test set size will be 30% of the original dataset,\n",
        "                    # i.e. trainini size will be 70%\n",
        "    random_state=0, # random_state is the seed to make random number\n",
        "                    # generation reproducible (and hence the split into train and test)\n",
        "    stratify=yAll # stratify: tries to ensure a proportional\n",
        "                  # distribution of labels among train and test set\n",
        ")\n",
        "\n",
        "# Now I want to inspect the shape\n",
        "varDi = {'xAll':xAll, 'yAll':yAll, 'xTrainVec':xTrainVec, 'xTestVec':xTestVec, 'yTrain':yTrain, 'yTest':yTest}\n",
        "for varName, var in varDi.items(): # return a list of key-value pairs\n",
        "  print(varName, var.shape)\n",
        "# since xAll and xTrainVec are pandas Series (i.e., columns), info about the number of columns is missing because is trivial\n",
        "\n",
        "# xTrain e' una pandas series (semplificando, una colonna del DataFrame),\n",
        "# la trasformo in una lista di stringhe\n",
        "xTrain = list(xTrainVec)\n",
        "xTest = list(xTestVec)"
      ],
      "metadata": {
        "colab": {
          "base_uri": "https://localhost:8080/"
        },
        "id": "zHp7A0Ko2msN",
        "outputId": "4388a405-a035-4e7f-e6eb-a7e1661e6bcf"
      },
      "execution_count": null,
      "outputs": [
        {
          "output_type": "stream",
          "name": "stdout",
          "text": [
            "type(xAll) <class 'pandas.core.series.Series'> xAll.shape (198,)\n",
            "type(yAll) <class 'pandas.core.series.Series'> xAll.shape (198,)\n",
            "\n",
            "xAll (198,)\n",
            "yAll (198,)\n",
            "xTrainVec (138,)\n",
            "xTestVec (60,)\n",
            "yTrain (138,)\n",
            "yTest (60,)\n"
          ]
        }
      ]
    },
    {
      "cell_type": "markdown",
      "source": [
        "# Pipeline to process Papers - Logistic Regression"
      ],
      "metadata": {
        "id": "3Nqpr1Xi3p0Q"
      }
    },
    {
      "cell_type": "code",
      "source": [
        "######\n",
        "#\n",
        "\n",
        "# Let's build a pipeline for preprocessing and classifying job vacancy titles\n",
        "cpLogit = Pipeline([\n",
        "   #('Str2Unicode', Str2Unicode()), no more required in Python3\n",
        "   ('HTMLAccentsReplacer', HTMLAccentsReplacer() ),\n",
        "   ('Tokenizer', Tokenizer() ),\n",
        "   ('LowerCaseReducer', LowerCaseReducer() ),\n",
        "   ('StopWordsRemover', EnglishStopWordsRemover() ),\n",
        "   ('Stemmer', EnglishStemmer() ),\n",
        "   ('RemoveNumbers', RemoveNumbers() ),\n",
        "   ('RemoveEmptyWords', RemoveEmptyWords() ),\n",
        "   #('Bag2Text', Bag2Text() ),\n",
        "   ('vectorizer', TfidfVectorizer()),\n",
        "   ('classifier', LogisticRegression() ), # LinearSVC\n",
        "                           ])\n",
        "\n",
        "# Collecting all the param values in a single data structure.\n",
        "# The parameter keyword should be composed as follows: pipelineComponentName + '__' + paramName.\n",
        "clsfParams = {\n",
        "   'classifier__C': 0.001,\n",
        "   'classifier__random_state': 42,\n",
        "   'vectorizer__preprocessor': unityFunction, # since we provided a customized preprocessing pipeline, we turn off the usual preprocessing pipeline\n",
        "   'vectorizer__tokenizer': unityFunction, # Same as above.\n",
        "   'vectorizer__ngram_range': (1,1),\n",
        "}\n",
        "\n",
        "cpLogit.set_params(**clsfParams)\n",
        "cpLogit.fit(xTrain, yTrain)\n",
        "print(\"Cross val score\")\n",
        "print(np.mean(cross_val_score(cpLogit, xTrain, yTrain, cv=5)))\n",
        "yPred=cpLogit.predict(xTest)\n",
        "print('Classification report')\n",
        "clasRepSt02Logit = classification_report(yTest,yPred)\n",
        "print(clasRepSt02Logit)\n",
        "print('Accuracy')\n",
        "print(accuracy_score(yTest,yPred))\n",
        "\n",
        "print(\"Accuracy Train\")\n",
        "print(accuracy_score(yTrain,cpLogit.predict(xTrain)))\n"
      ],
      "metadata": {
        "colab": {
          "base_uri": "https://localhost:8080/"
        },
        "id": "y03clE7U3svP",
        "outputId": "4ec84555-51f9-471d-cef7-59ffbf585e5a"
      },
      "execution_count": null,
      "outputs": [
        {
          "output_type": "stream",
          "name": "stdout",
          "text": [
            "Cross val score\n",
            "0.7068783068783068\n",
            "Classification report\n",
            "              precision    recall  f1-score   support\n",
            "\n",
            "           0       0.83      0.63      0.72        30\n",
            "           1       0.70      0.87      0.78        30\n",
            "\n",
            "    accuracy                           0.75        60\n",
            "   macro avg       0.76      0.75      0.75        60\n",
            "weighted avg       0.76      0.75      0.75        60\n",
            "\n",
            "Accuracy\n",
            "0.75\n",
            "Accuracy Train\n",
            "0.9492753623188406\n"
          ]
        }
      ]
    },
    {
      "cell_type": "code",
      "source": [
        "display(cpLogit)"
      ],
      "metadata": {
        "colab": {
          "base_uri": "https://localhost:8080/",
          "height": 366
        },
        "id": "5LnWn7Ug7ix-",
        "outputId": "44ecd5cd-b049-45f5-f659-c83d77260e28"
      },
      "execution_count": null,
      "outputs": [
        {
          "output_type": "display_data",
          "data": {
            "text/plain": [
              "Pipeline(steps=[('HTMLAccentsReplacer', HTMLAccentsReplacer()),\n",
              "                ('Tokenizer', Tokenizer()),\n",
              "                ('LowerCaseReducer', LowerCaseReducer()),\n",
              "                ('StopWordsRemover', EnglishStopWordsRemover()),\n",
              "                ('Stemmer', EnglishStemmer()),\n",
              "                ('RemoveNumbers', RemoveNumbers()),\n",
              "                ('RemoveEmptyWords', RemoveEmptyWords()),\n",
              "                ('vectorizer',\n",
              "                 TfidfVectorizer(preprocessor=<function unityFunction at 0x7f53bde25630>,\n",
              "                                 tokenizer=<function unityFunction at 0x7f53bde25630>)),\n",
              "                ('classifier', LogisticRegression(C=0.001, random_state=42))])"
            ],
            "text/html": [
              "<style>#sk-container-id-1 {color: black;background-color: white;}#sk-container-id-1 pre{padding: 0;}#sk-container-id-1 div.sk-toggleable {background-color: white;}#sk-container-id-1 label.sk-toggleable__label {cursor: pointer;display: block;width: 100%;margin-bottom: 0;padding: 0.3em;box-sizing: border-box;text-align: center;}#sk-container-id-1 label.sk-toggleable__label-arrow:before {content: \"▸\";float: left;margin-right: 0.25em;color: #696969;}#sk-container-id-1 label.sk-toggleable__label-arrow:hover:before {color: black;}#sk-container-id-1 div.sk-estimator:hover label.sk-toggleable__label-arrow:before {color: black;}#sk-container-id-1 div.sk-toggleable__content {max-height: 0;max-width: 0;overflow: hidden;text-align: left;background-color: #f0f8ff;}#sk-container-id-1 div.sk-toggleable__content pre {margin: 0.2em;color: black;border-radius: 0.25em;background-color: #f0f8ff;}#sk-container-id-1 input.sk-toggleable__control:checked~div.sk-toggleable__content {max-height: 200px;max-width: 100%;overflow: auto;}#sk-container-id-1 input.sk-toggleable__control:checked~label.sk-toggleable__label-arrow:before {content: \"▾\";}#sk-container-id-1 div.sk-estimator input.sk-toggleable__control:checked~label.sk-toggleable__label {background-color: #d4ebff;}#sk-container-id-1 div.sk-label input.sk-toggleable__control:checked~label.sk-toggleable__label {background-color: #d4ebff;}#sk-container-id-1 input.sk-hidden--visually {border: 0;clip: rect(1px 1px 1px 1px);clip: rect(1px, 1px, 1px, 1px);height: 1px;margin: -1px;overflow: hidden;padding: 0;position: absolute;width: 1px;}#sk-container-id-1 div.sk-estimator {font-family: monospace;background-color: #f0f8ff;border: 1px dotted black;border-radius: 0.25em;box-sizing: border-box;margin-bottom: 0.5em;}#sk-container-id-1 div.sk-estimator:hover {background-color: #d4ebff;}#sk-container-id-1 div.sk-parallel-item::after {content: \"\";width: 100%;border-bottom: 1px solid gray;flex-grow: 1;}#sk-container-id-1 div.sk-label:hover label.sk-toggleable__label {background-color: #d4ebff;}#sk-container-id-1 div.sk-serial::before {content: \"\";position: absolute;border-left: 1px solid gray;box-sizing: border-box;top: 0;bottom: 0;left: 50%;z-index: 0;}#sk-container-id-1 div.sk-serial {display: flex;flex-direction: column;align-items: center;background-color: white;padding-right: 0.2em;padding-left: 0.2em;position: relative;}#sk-container-id-1 div.sk-item {position: relative;z-index: 1;}#sk-container-id-1 div.sk-parallel {display: flex;align-items: stretch;justify-content: center;background-color: white;position: relative;}#sk-container-id-1 div.sk-item::before, #sk-container-id-1 div.sk-parallel-item::before {content: \"\";position: absolute;border-left: 1px solid gray;box-sizing: border-box;top: 0;bottom: 0;left: 50%;z-index: -1;}#sk-container-id-1 div.sk-parallel-item {display: flex;flex-direction: column;z-index: 1;position: relative;background-color: white;}#sk-container-id-1 div.sk-parallel-item:first-child::after {align-self: flex-end;width: 50%;}#sk-container-id-1 div.sk-parallel-item:last-child::after {align-self: flex-start;width: 50%;}#sk-container-id-1 div.sk-parallel-item:only-child::after {width: 0;}#sk-container-id-1 div.sk-dashed-wrapped {border: 1px dashed gray;margin: 0 0.4em 0.5em 0.4em;box-sizing: border-box;padding-bottom: 0.4em;background-color: white;}#sk-container-id-1 div.sk-label label {font-family: monospace;font-weight: bold;display: inline-block;line-height: 1.2em;}#sk-container-id-1 div.sk-label-container {text-align: center;}#sk-container-id-1 div.sk-container {/* jupyter's `normalize.less` sets `[hidden] { display: none; }` but bootstrap.min.css set `[hidden] { display: none !important; }` so we also need the `!important` here to be able to override the default hidden behavior on the sphinx rendered scikit-learn.org. See: https://github.com/scikit-learn/scikit-learn/issues/21755 */display: inline-block !important;position: relative;}#sk-container-id-1 div.sk-text-repr-fallback {display: none;}</style><div id=\"sk-container-id-1\" class=\"sk-top-container\"><div class=\"sk-text-repr-fallback\"><pre>Pipeline(steps=[(&#x27;HTMLAccentsReplacer&#x27;, HTMLAccentsReplacer()),\n",
              "                (&#x27;Tokenizer&#x27;, Tokenizer()),\n",
              "                (&#x27;LowerCaseReducer&#x27;, LowerCaseReducer()),\n",
              "                (&#x27;StopWordsRemover&#x27;, EnglishStopWordsRemover()),\n",
              "                (&#x27;Stemmer&#x27;, EnglishStemmer()),\n",
              "                (&#x27;RemoveNumbers&#x27;, RemoveNumbers()),\n",
              "                (&#x27;RemoveEmptyWords&#x27;, RemoveEmptyWords()),\n",
              "                (&#x27;vectorizer&#x27;,\n",
              "                 TfidfVectorizer(preprocessor=&lt;function unityFunction at 0x7f53bde25630&gt;,\n",
              "                                 tokenizer=&lt;function unityFunction at 0x7f53bde25630&gt;)),\n",
              "                (&#x27;classifier&#x27;, LogisticRegression(C=0.001, random_state=42))])</pre><b>In a Jupyter environment, please rerun this cell to show the HTML representation or trust the notebook. <br />On GitHub, the HTML representation is unable to render, please try loading this page with nbviewer.org.</b></div><div class=\"sk-container\" hidden><div class=\"sk-item sk-dashed-wrapped\"><div class=\"sk-label-container\"><div class=\"sk-label sk-toggleable\"><input class=\"sk-toggleable__control sk-hidden--visually\" id=\"sk-estimator-id-1\" type=\"checkbox\" ><label for=\"sk-estimator-id-1\" class=\"sk-toggleable__label sk-toggleable__label-arrow\">Pipeline</label><div class=\"sk-toggleable__content\"><pre>Pipeline(steps=[(&#x27;HTMLAccentsReplacer&#x27;, HTMLAccentsReplacer()),\n",
              "                (&#x27;Tokenizer&#x27;, Tokenizer()),\n",
              "                (&#x27;LowerCaseReducer&#x27;, LowerCaseReducer()),\n",
              "                (&#x27;StopWordsRemover&#x27;, EnglishStopWordsRemover()),\n",
              "                (&#x27;Stemmer&#x27;, EnglishStemmer()),\n",
              "                (&#x27;RemoveNumbers&#x27;, RemoveNumbers()),\n",
              "                (&#x27;RemoveEmptyWords&#x27;, RemoveEmptyWords()),\n",
              "                (&#x27;vectorizer&#x27;,\n",
              "                 TfidfVectorizer(preprocessor=&lt;function unityFunction at 0x7f53bde25630&gt;,\n",
              "                                 tokenizer=&lt;function unityFunction at 0x7f53bde25630&gt;)),\n",
              "                (&#x27;classifier&#x27;, LogisticRegression(C=0.001, random_state=42))])</pre></div></div></div><div class=\"sk-serial\"><div class=\"sk-item\"><div class=\"sk-estimator sk-toggleable\"><input class=\"sk-toggleable__control sk-hidden--visually\" id=\"sk-estimator-id-2\" type=\"checkbox\" ><label for=\"sk-estimator-id-2\" class=\"sk-toggleable__label sk-toggleable__label-arrow\">HTMLAccentsReplacer</label><div class=\"sk-toggleable__content\"><pre>HTMLAccentsReplacer()</pre></div></div></div><div class=\"sk-item\"><div class=\"sk-estimator sk-toggleable\"><input class=\"sk-toggleable__control sk-hidden--visually\" id=\"sk-estimator-id-3\" type=\"checkbox\" ><label for=\"sk-estimator-id-3\" class=\"sk-toggleable__label sk-toggleable__label-arrow\">Tokenizer</label><div class=\"sk-toggleable__content\"><pre>Tokenizer()</pre></div></div></div><div class=\"sk-item\"><div class=\"sk-estimator sk-toggleable\"><input class=\"sk-toggleable__control sk-hidden--visually\" id=\"sk-estimator-id-4\" type=\"checkbox\" ><label for=\"sk-estimator-id-4\" class=\"sk-toggleable__label sk-toggleable__label-arrow\">LowerCaseReducer</label><div class=\"sk-toggleable__content\"><pre>LowerCaseReducer()</pre></div></div></div><div class=\"sk-item\"><div class=\"sk-estimator sk-toggleable\"><input class=\"sk-toggleable__control sk-hidden--visually\" id=\"sk-estimator-id-5\" type=\"checkbox\" ><label for=\"sk-estimator-id-5\" class=\"sk-toggleable__label sk-toggleable__label-arrow\">EnglishStopWordsRemover</label><div class=\"sk-toggleable__content\"><pre>EnglishStopWordsRemover()</pre></div></div></div><div class=\"sk-item\"><div class=\"sk-estimator sk-toggleable\"><input class=\"sk-toggleable__control sk-hidden--visually\" id=\"sk-estimator-id-6\" type=\"checkbox\" ><label for=\"sk-estimator-id-6\" class=\"sk-toggleable__label sk-toggleable__label-arrow\">EnglishStemmer</label><div class=\"sk-toggleable__content\"><pre>EnglishStemmer()</pre></div></div></div><div class=\"sk-item\"><div class=\"sk-estimator sk-toggleable\"><input class=\"sk-toggleable__control sk-hidden--visually\" id=\"sk-estimator-id-7\" type=\"checkbox\" ><label for=\"sk-estimator-id-7\" class=\"sk-toggleable__label sk-toggleable__label-arrow\">RemoveNumbers</label><div class=\"sk-toggleable__content\"><pre>RemoveNumbers()</pre></div></div></div><div class=\"sk-item\"><div class=\"sk-estimator sk-toggleable\"><input class=\"sk-toggleable__control sk-hidden--visually\" id=\"sk-estimator-id-8\" type=\"checkbox\" ><label for=\"sk-estimator-id-8\" class=\"sk-toggleable__label sk-toggleable__label-arrow\">RemoveEmptyWords</label><div class=\"sk-toggleable__content\"><pre>RemoveEmptyWords()</pre></div></div></div><div class=\"sk-item\"><div class=\"sk-estimator sk-toggleable\"><input class=\"sk-toggleable__control sk-hidden--visually\" id=\"sk-estimator-id-9\" type=\"checkbox\" ><label for=\"sk-estimator-id-9\" class=\"sk-toggleable__label sk-toggleable__label-arrow\">TfidfVectorizer</label><div class=\"sk-toggleable__content\"><pre>TfidfVectorizer(preprocessor=&lt;function unityFunction at 0x7f53bde25630&gt;,\n",
              "                tokenizer=&lt;function unityFunction at 0x7f53bde25630&gt;)</pre></div></div></div><div class=\"sk-item\"><div class=\"sk-estimator sk-toggleable\"><input class=\"sk-toggleable__control sk-hidden--visually\" id=\"sk-estimator-id-10\" type=\"checkbox\" ><label for=\"sk-estimator-id-10\" class=\"sk-toggleable__label sk-toggleable__label-arrow\">LogisticRegression</label><div class=\"sk-toggleable__content\"><pre>LogisticRegression(C=0.001, random_state=42)</pre></div></div></div></div></div></div></div>"
            ]
          },
          "metadata": {}
        }
      ]
    },
    {
      "cell_type": "markdown",
      "source": [
        "## Implemento GridSearch"
      ],
      "metadata": {
        "id": "SjcWmWlD5T8V"
      }
    },
    {
      "cell_type": "code",
      "source": [
        "# Setting for each parameter the value space (i.e., the set of values to evaluate)\n",
        "paramSpace = {\n",
        "   'classifier__C': [0.001, 0.01, 0.1, 1, 10, 100], # Values for grid search should be enclosed by []\n",
        "   'classifier__solver': ['liblinear'],\n",
        "   'classifier__class_weight': [None, 'balanced'], # if the classes were imbalanced, we could try this approach\n",
        "   'classifier__random_state': [42],\n",
        "   'vectorizer__preprocessor': [unityFunction], # since we provided a customized preprocessing pipeline,\n",
        "                                                # we turn off the usual preprocessing pipeline\n",
        "   'vectorizer__tokenizer': [unityFunction], # Same as above.\n",
        "   'vectorizer__ngram_range': [(1,1), (1,2), (1,3)],   #\n",
        "   'vectorizer__max_df': [0.7],  # If a term is in more of the 70% of documents, it is too frequent to be discriminative\n",
        "   'vectorizer__min_df': [2, 4,7], # Minimum number of documents where the term should appear\n",
        "                                   # (otherwise it won't be considered in the Vocabulary)\n",
        "   'vectorizer__norm': [\"l1\", \"l2\", None],\n",
        "   'vectorizer__use_idf': [True, False]\n",
        "\n",
        "} # a python list [] is mandatory even if only one element is in"
      ],
      "metadata": {
        "id": "iotgC3Se5bsA"
      },
      "execution_count": null,
      "outputs": []
    },
    {
      "cell_type": "code",
      "source": [
        "start_time = time.time()\n",
        "# cv=4 k-fold validation, con k=4\n",
        "gsLogit = GridSearchCV(cpLogit, param_grid=paramSpace, scoring='accuracy', cv=5, verbose = 10, n_jobs = -1)\n",
        "gsLogit.fit(xTrain,yTrain)\n",
        "# ora mostro il tempo di fine\n",
        "print(\"--- %s seconds ---\" % (time.time() - start_time))\n",
        "print(gsLogit.best_params_)\n",
        "print('Scoring result')\n",
        "print(gsLogit.best_score_)"
      ],
      "metadata": {
        "colab": {
          "base_uri": "https://localhost:8080/"
        },
        "id": "ZGbBrOv08FBt",
        "outputId": "16d263c5-5ee6-4858-8d6e-0e3c731ecbec"
      },
      "execution_count": null,
      "outputs": [
        {
          "output_type": "stream",
          "name": "stdout",
          "text": [
            "Fitting 5 folds for each of 648 candidates, totalling 3240 fits\n",
            "--- 259.72527503967285 seconds ---\n",
            "{'classifier__C': 100, 'classifier__class_weight': None, 'classifier__random_state': 42, 'classifier__solver': 'liblinear', 'vectorizer__max_df': 0.7, 'vectorizer__min_df': 7, 'vectorizer__ngram_range': (1, 3), 'vectorizer__norm': 'l2', 'vectorizer__preprocessor': <function unityFunction at 0x7f53bde25630>, 'vectorizer__tokenizer': <function unityFunction at 0x7f53bde25630>, 'vectorizer__use_idf': False}\n",
            "Scoring result\n",
            "0.8253968253968254\n"
          ]
        }
      ]
    },
    {
      "cell_type": "code",
      "source": [
        "print(classification_report(yTest, gsLogit.predict(xTest)))"
      ],
      "metadata": {
        "colab": {
          "base_uri": "https://localhost:8080/"
        },
        "id": "mBNHkakKerbz",
        "outputId": "ac971407-7a62-414f-ea31-c570e088ee73"
      },
      "execution_count": null,
      "outputs": [
        {
          "output_type": "stream",
          "name": "stdout",
          "text": [
            "              precision    recall  f1-score   support\n",
            "\n",
            "           0       0.76      0.83      0.79        30\n",
            "           1       0.81      0.73      0.77        30\n",
            "\n",
            "    accuracy                           0.78        60\n",
            "   macro avg       0.79      0.78      0.78        60\n",
            "weighted avg       0.79      0.78      0.78        60\n",
            "\n"
          ]
        }
      ]
    },
    {
      "cell_type": "code",
      "source": [
        "######\n",
        "#\n",
        "\n",
        "# Doing classification again, using the best parameters, as selected by Grid Search.\n",
        "# The params used here might be sligthly different w.r.t to the previous grid search output\n",
        "cpLogitCV = Pipeline([\n",
        "   #('Str2Unicode', Str2Unicode()), no more required in Python3\n",
        "   ('HTMLAccentsReplacer', HTMLAccentsReplacer() ),\n",
        "   ('Tokenizer', Tokenizer() ),\n",
        "   ('LowerCaseReducer', LowerCaseReducer() ),\n",
        "   ('StopWordsRemover', EnglishStopWordsRemover() ),\n",
        "   ('Stemmer', EnglishStemmer() ),\n",
        "   ('RemoveNumbers', RemoveNumbers() ),\n",
        "   ('RemoveEmptyWords', RemoveEmptyWords() ),\n",
        "   #('Bag2Text', Bag2Text() ),\n",
        "   ('vectorizer', TfidfVectorizer()),\n",
        "   ('classifier', LogisticRegression() ), # LinearSVC\n",
        "                           ])\n",
        "clsfParams = {\n",
        "   'classifier__C': 1,\n",
        "   'classifier__solver': 'liblinear',\n",
        "   'classifier__random_state': 42,\n",
        "   'vectorizer__preprocessor': unityFunction, # since we provided a customized preprocessing pipeline, we turn off the usual preprocessing pipeline\n",
        "   'vectorizer__tokenizer': unityFunction,\n",
        "   'vectorizer__ngram_range': (1,3),\n",
        "   'vectorizer__min_df': 4,\n",
        "   'vectorizer__max_df': 0.7,\n",
        "   'vectorizer__norm': None,\n",
        "   'vectorizer__use_idf': False\n",
        "}\n",
        "cpLogitCV.set_params(**clsfParams)\n",
        "cpLogitCV.fit(xTrain, yTrain)\n",
        "yPred=cpLogitCV.predict(xTest)\n",
        "print('Classification report')\n",
        "print(classification_report(yTest,yPred))\n",
        "print('Accuracy')\n",
        "print(accuracy_score(yTest,yPred))\n",
        "\n",
        "print(\"Accuracy Train\")\n",
        "print(accuracy_score(yTrain,cpLogitCV.predict(xTrain)))"
      ],
      "metadata": {
        "colab": {
          "base_uri": "https://localhost:8080/"
        },
        "id": "RlTBC3aB8cVX",
        "outputId": "3e4979f9-0fa3-4bdd-9294-6cba5715c89f"
      },
      "execution_count": null,
      "outputs": [
        {
          "output_type": "stream",
          "name": "stdout",
          "text": [
            "Classification report\n",
            "              precision    recall  f1-score   support\n",
            "\n",
            "           0       0.90      0.87      0.88        30\n",
            "           1       0.87      0.90      0.89        30\n",
            "\n",
            "    accuracy                           0.88        60\n",
            "   macro avg       0.88      0.88      0.88        60\n",
            "weighted avg       0.88      0.88      0.88        60\n",
            "\n",
            "Accuracy\n",
            "0.8833333333333333\n",
            "Accuracy Train\n",
            "0.9927536231884058\n"
          ]
        }
      ]
    },
    {
      "cell_type": "markdown",
      "source": [
        "Migliorato. Overfitting?\n",
        "\n"
      ],
      "metadata": {
        "id": "WQ5j19iv81Tn"
      }
    },
    {
      "cell_type": "code",
      "source": [
        "from sklearn.model_selection import learning_curve, LearningCurveDisplay\n",
        "import matplotlib.pyplot as plt\n",
        "\n",
        "train_size_abs, train_scores, test_scores = learning_curve(cpLogitCV, xAll, yAll, train_sizes=[0.1,0.2,0.3,0.4,0.5,0.6,0.7,0.8,0.9])\n",
        "\n",
        "\n"
      ],
      "metadata": {
        "id": "RJaejVIWkUvC"
      },
      "execution_count": null,
      "outputs": []
    },
    {
      "cell_type": "code",
      "source": [
        "LearningCurveDisplay.from_estimator(cpLogitCV, xAll, yAll, train_sizes = [0.1,0.2,0.3,0.4,0.5,0.6,0.7,0.8,0.9])\n",
        "plt.show()\n"
      ],
      "metadata": {
        "colab": {
          "base_uri": "https://localhost:8080/",
          "height": 449
        },
        "id": "E_Bj96oJmgmD",
        "outputId": "d322093a-991a-465e-9f2f-4e356438faf3"
      },
      "execution_count": null,
      "outputs": [
        {
          "output_type": "display_data",
          "data": {
            "text/plain": [
              "<Figure size 640x480 with 1 Axes>"
            ],
            "image/png": "[encoded data removed]"
          },
          "metadata": {}
        }
      ]
    },
    {
      "cell_type": "markdown",
      "source": [
        "Più osservazioni abbiamo meglio è"
      ],
      "metadata": {
        "id": "RpDLhlAEoQuK"
      }
    },
    {
      "cell_type": "markdown",
      "source": [
        "## Provo RandomizedSearchCV\n"
      ],
      "metadata": {
        "id": "XCQKSh8WUuFE"
      }
    },
    {
      "cell_type": "code",
      "source": [
        "\n",
        "# Setting for each parameter the value space (i.e., the set of values to evaluate)\n",
        "paramSpace = {\n",
        "   'classifier__C': loguniform(1e-4, 1e3), # Values for grid search should be enclosed by []\n",
        "   'classifier__solver': ['liblinear'],\n",
        "   'classifier__class_weight': [None, 'balanced'], # if the classes were imbalanced, we could try this approach\n",
        "   'classifier__random_state': [42],\n",
        "   'vectorizer__preprocessor': [unityFunction], # since we provided a customized preprocessing pipeline, we turn off the usual preprocessing pipeline\n",
        "   'vectorizer__tokenizer': [unityFunction], # Same as above.\n",
        "   'vectorizer__ngram_range': [(1,1), (1,2), (1,3)],   #\n",
        "   'vectorizer__max_df': uniform.rvs(0.5, 0.4, size = 1000, random_state = 42),  # If a term is in more of the 70% of documents, it is too frequent to be discriminative\n",
        "   'vectorizer__min_df': uniform.rvs(0, 0.3, size = 1000, random_state = 42), # Minimum number of documents where the term should appear (otherwise it won't be considered in the Vocabulary)\n",
        "   'vectorizer__norm': [\"l1\", \"l2\", None],\n",
        "   'vectorizer__use_idf': [True, False]\n",
        "\n",
        "} # a python list [] is mandatory even if only one element is in\n"
      ],
      "metadata": {
        "id": "F_LON6ZwT-ZN"
      },
      "execution_count": null,
      "outputs": []
    },
    {
      "cell_type": "code",
      "source": [
        "start_time = time.time()\n",
        "# cv=5 k-fold validation, con k=5\n",
        "gsRndLogit = RandomizedSearchCV(cpLogit, param_distributions=paramSpace, scoring='accuracy', cv=5, verbose = 10, random_state = 42, n_jobs = -1, n_iter=650, error_score = \"raise\")\n",
        "gsRndLogit.fit(xTrain,yTrain)\n",
        "# ora mostro il tempo di fine\n",
        "print(\"--- %s seconds ---\" % (time.time() - start_time))\n",
        "print(gsRndLogit.best_params_)\n",
        "print('Scoring result')\n",
        "print(gsRndLogit.best_score_)"
      ],
      "metadata": {
        "colab": {
          "base_uri": "https://localhost:8080/"
        },
        "id": "0zJ8w7NNT-Vs",
        "outputId": "81affac6-a490-4414-cb1b-47a33bc3b8ca"
      },
      "execution_count": null,
      "outputs": [
        {
          "output_type": "stream",
          "name": "stdout",
          "text": [
            "Fitting 5 folds for each of 650 candidates, totalling 3250 fits\n",
            "--- 251.90070796012878 seconds ---\n",
            "{'classifier__C': 30.678058688236316, 'classifier__class_weight': None, 'classifier__random_state': 42, 'classifier__solver': 'liblinear', 'vectorizer__max_df': 0.5180874680424757, 'vectorizer__min_df': 0.24540442977674792, 'vectorizer__ngram_range': (1, 1), 'vectorizer__norm': 'l2', 'vectorizer__preprocessor': <function unityFunction at 0x7f53bde25630>, 'vectorizer__tokenizer': <function unityFunction at 0x7f53bde25630>, 'vectorizer__use_idf': False}\n",
            "Scoring result\n",
            "0.8693121693121693\n"
          ]
        }
      ]
    },
    {
      "cell_type": "code",
      "source": [
        "print(classification_report(yTest, gsRndLogit.predict(xTest)))"
      ],
      "metadata": {
        "colab": {
          "base_uri": "https://localhost:8080/"
        },
        "id": "ZUkHrbhRXCoP",
        "outputId": "f4838bb9-1c96-48aa-e765-fe03248fd81b"
      },
      "execution_count": null,
      "outputs": [
        {
          "output_type": "stream",
          "name": "stdout",
          "text": [
            "              precision    recall  f1-score   support\n",
            "\n",
            "           0       0.81      0.87      0.84        30\n",
            "           1       0.86      0.80      0.83        30\n",
            "\n",
            "    accuracy                           0.83        60\n",
            "   macro avg       0.83      0.83      0.83        60\n",
            "weighted avg       0.83      0.83      0.83        60\n",
            "\n"
          ]
        }
      ]
    },
    {
      "cell_type": "code",
      "source": [
        "######\n",
        "#\n",
        "\n",
        "# Doing classification again, using the best parameters, as selected by Grid Search.\n",
        "# The params used here might be sligthly different w.r.t to the previous grid search output\n",
        "cpLogitRandCV = Pipeline([\n",
        "   #('Str2Unicode', Str2Unicode()), no more required in Python3\n",
        "   ('HTMLAccentsReplacer', HTMLAccentsReplacer() ),\n",
        "   ('Tokenizer', Tokenizer() ),\n",
        "   ('LowerCaseReducer', LowerCaseReducer() ),\n",
        "   ('StopWordsRemover', EnglishStopWordsRemover() ),\n",
        "   ('Stemmer', EnglishStemmer() ),\n",
        "   ('RemoveNumbers', RemoveNumbers() ),\n",
        "   ('RemoveEmptyWords', RemoveEmptyWords() ),\n",
        "   #('Bag2Text', Bag2Text() ),\n",
        "   ('vectorizer', TfidfVectorizer()),\n",
        "   ('classifier', LogisticRegression() ), # LinearSVC\n",
        "                           ])\n",
        "clsfParams = {\n",
        "   'classifier__C': 97.32492732174423,\n",
        "   'classifier__class_weight': 'balanced',\n",
        "   'classifier__solver': 'liblinear',\n",
        "   'classifier__random_state': 42,\n",
        "   'vectorizer__preprocessor': unityFunction, # since we provided a customized preprocessing pipeline, we turn off the usual preprocessing pipeline\n",
        "   'vectorizer__tokenizer': unityFunction,\n",
        "   'vectorizer__ngram_range': (1,2),\n",
        "   'vectorizer__min_df': 0.2695662565581238,\n",
        "   'vectorizer__max_df': 0.6696888036987905,\n",
        "   'vectorizer__norm': 'l2',\n",
        "   'vectorizer__use_idf': False\n",
        "}\n",
        "cpLogitRandCV.set_params(**clsfParams)\n",
        "cpLogitRandCV.fit(xTrain, yTrain)\n",
        "yPred=cpLogitRandCV.predict(xTest)\n",
        "print('Classification report')\n",
        "print(classification_report(yTest,yPred))\n",
        "print('Accuracy')\n",
        "print(accuracy_score(yTest,yPred))\n",
        "\n",
        "print(\"Accuracy Train\")\n",
        "print(accuracy_score(yTrain,cpLogitRandCV.predict(xTrain)))"
      ],
      "metadata": {
        "colab": {
          "base_uri": "https://localhost:8080/"
        },
        "id": "M9XyB4FKb3nV",
        "outputId": "01f8b139-d970-4715-84a9-aeaeb085d5bc"
      },
      "execution_count": null,
      "outputs": [
        {
          "output_type": "stream",
          "name": "stdout",
          "text": [
            "Classification report\n",
            "              precision    recall  f1-score   support\n",
            "\n",
            "           0       0.84      0.90      0.87        30\n",
            "           1       0.89      0.83      0.86        30\n",
            "\n",
            "    accuracy                           0.87        60\n",
            "   macro avg       0.87      0.87      0.87        60\n",
            "weighted avg       0.87      0.87      0.87        60\n",
            "\n",
            "Accuracy\n",
            "0.8666666666666667\n",
            "Accuracy Train\n",
            "0.8768115942028986\n"
          ]
        }
      ]
    },
    {
      "cell_type": "markdown",
      "source": [
        "è meglio puntare su accuracy migliore o evitare overfitting?\n"
      ],
      "metadata": {
        "id": "X43jzIrmpiQx"
      }
    },
    {
      "cell_type": "markdown",
      "source": [
        "# Provo SVM - baseline\n",
        "\n",
        "Ha senso normalizzare la matrice d-t?"
      ],
      "metadata": {
        "id": "4Wg8g3u69OU0"
      }
    },
    {
      "cell_type": "code",
      "source": [
        "\n",
        "######\n",
        "#\n",
        "\n",
        "# Let's build a pipeline for preprocessing and classifying job vacancy titles\n",
        "cpSVM = Pipeline([\n",
        "   #('Str2Unicode', Str2Unicode()), no more required in Python3\n",
        "   ('HTMLAccentsReplacer', HTMLAccentsReplacer() ),\n",
        "   ('Tokenizer', Tokenizer() ),\n",
        "   ('LowerCaseReducer', LowerCaseReducer() ),\n",
        "   ('StopWordsRemover', EnglishStopWordsRemover() ),\n",
        "   ('Stemmer', EnglishStemmer() ),\n",
        "   ('RemoveNumbers', RemoveNumbers() ),\n",
        "   ('RemoveEmptyWords', RemoveEmptyWords() ),\n",
        "   #('Bag2Text', Bag2Text() ),\n",
        "   ('vectorizer', TfidfVectorizer()),\n",
        "   ('classifier', SVC() ), # LinearSVC\n",
        "                           ])\n",
        "\n",
        "# Collecting all the param values in a single data structure.\n",
        "# The parameter keyword should be composed as follows: pipelineComponentName + '__' + paramName.\n",
        "clsfParams = {\n",
        "   #'classifier__C': 0.001,\n",
        "   'vectorizer__preprocessor': unityFunction, # since we provided a customized preprocessing pipeline, we turn off the usual preprocessing pipeline\n",
        "   'vectorizer__tokenizer': unityFunction, # Same as above.\n",
        "   'vectorizer__ngram_range': (1,1),\n",
        "}\n",
        "\n",
        "cpSVM.set_params(**clsfParams)\n",
        "cpSVM.fit(xTrain, yTrain)\n",
        "\n",
        "print(\"Cross val score\")\n",
        "print(np.mean(cross_val_score(cpSVM, xTrain, yTrain, cv = 5)))\n",
        "yPred=cpSVM.predict(xTest)\n",
        "print('Classification report')\n",
        "clasRepSt02SVM = classification_report(yTest,yPred)\n",
        "print(clasRepSt02SVM)\n",
        "print('Accuracy')\n",
        "print(accuracy_score(yTest,yPred))\n",
        "\n",
        "yPredTrain =cpSVM.predict(xTrain)\n",
        "print(\"Accuracy Train\")\n",
        "print(accuracy_score(yTrain,yPredTrain))"
      ],
      "metadata": {
        "colab": {
          "base_uri": "https://localhost:8080/"
        },
        "id": "x09tRQkh9TDT",
        "outputId": "85a23358-9661-4f70-f4bc-c5b824299d49"
      },
      "execution_count": null,
      "outputs": [
        {
          "output_type": "stream",
          "name": "stdout",
          "text": [
            "Cross val score\n",
            "0.8108465608465607\n",
            "Classification report\n",
            "              precision    recall  f1-score   support\n",
            "\n",
            "           0       0.83      0.67      0.74        30\n",
            "           1       0.72      0.87      0.79        30\n",
            "\n",
            "    accuracy                           0.77        60\n",
            "   macro avg       0.78      0.77      0.76        60\n",
            "weighted avg       0.78      0.77      0.76        60\n",
            "\n",
            "Accuracy\n",
            "0.7666666666666667\n",
            "Accuracy Train\n",
            "1.0\n"
          ]
        }
      ]
    },
    {
      "cell_type": "markdown",
      "source": [
        "Overfitting?"
      ],
      "metadata": {
        "id": "QsRFwMwgxMOz"
      }
    },
    {
      "cell_type": "markdown",
      "source": [
        "# SVM - GridSearchCV\n"
      ],
      "metadata": {
        "id": "IgRcqOdqdyXn"
      }
    },
    {
      "cell_type": "code",
      "source": [
        "# Setting for each parameter the value space (i.e., the set of values to evaluate)\n",
        "paramSpace = {\n",
        "   'classifier__C': [0.001, 0.01, 0.1, 1, 10, 100], # Values for grid search should be enclosed by []\n",
        "   'classifier__gamma':[0.0001, 0.001, 0.01, 0.1, 1, 10, 100],\n",
        "   #'classifier__solver': ['liblinear'],\n",
        "   #'classifier__class_weight': [None, 'balanced'], # if the classes were imbalanced, we could try this approach\n",
        "   'vectorizer__preprocessor': [unityFunction], # since we provided a customized preprocessing pipeline, we turn off the usual preprocessing pipeline\n",
        "   'vectorizer__tokenizer': [unityFunction], # Same as above.\n",
        "   'vectorizer__ngram_range': [(1,1), (1,2), (1,3)],   #\n",
        "   'vectorizer__max_df': [0.7],  # If a term is in more of the 70% of documents, it is too frequent to be discriminative\n",
        "   'vectorizer__min_df': [2, 4,7], # Minimum number of documents where the term should appear (otherwise it won't be considered in the Vocabulary)\n",
        "   'vectorizer__norm': [\"l1\", \"l2\", None],\n",
        "   'vectorizer__use_idf': [True, False]\n",
        "\n",
        "} # a python list [] is mandatory even if only one element is in"
      ],
      "metadata": {
        "id": "61n-d-Kdd3__"
      },
      "execution_count": null,
      "outputs": []
    },
    {
      "cell_type": "code",
      "source": [
        "start_time = time.time()\n",
        "# cv=4 k-fold validation, con k=4\n",
        "gsSVM = GridSearchCV(cpSVM, param_grid=paramSpace, scoring='accuracy', cv=5, n_jobs = -1, verbose = 10)\n",
        "gsSVM.fit(xTrain,yTrain)\n",
        "# ora mostro il tempo di fine\n",
        "print(\"--- %s seconds ---\" % (time.time() - start_time))\n",
        "print(gsSVM.best_params_)\n",
        "print('Scoring result')\n",
        "print(gsSVM.best_score_)"
      ],
      "metadata": {
        "colab": {
          "base_uri": "https://localhost:8080/"
        },
        "id": "2bUy3-HRgr1-",
        "outputId": "83f3c1b7-534c-48bb-bafa-5fd23b2ce304"
      },
      "execution_count": null,
      "outputs": [
        {
          "output_type": "stream",
          "name": "stdout",
          "text": [
            "Fitting 5 folds for each of 2268 candidates, totalling 11340 fits\n",
            "--- 868.2556958198547 seconds ---\n",
            "{'classifier__C': 10, 'classifier__gamma': 10, 'vectorizer__max_df': 0.7, 'vectorizer__min_df': 4, 'vectorizer__ngram_range': (1, 2), 'vectorizer__norm': 'l1', 'vectorizer__preprocessor': <function unityFunction at 0x7f53bde25630>, 'vectorizer__tokenizer': <function unityFunction at 0x7f53bde25630>, 'vectorizer__use_idf': False}\n",
            "Scoring result\n",
            "0.8619047619047618\n"
          ]
        }
      ]
    },
    {
      "cell_type": "code",
      "source": [
        "######\n",
        "#\n",
        "\n",
        "# Doing classification again, using the best parameters, as selected by Grid Search.\n",
        "# The params used here might be sligthly different w.r.t to the previous grid search output\n",
        "cpSVM_CV = Pipeline([\n",
        "   #('Str2Unicode', Str2Unicode()), no more required in Python3\n",
        "   ('HTMLAccentsReplacer', HTMLAccentsReplacer() ),\n",
        "   ('Tokenizer', Tokenizer() ),\n",
        "   ('LowerCaseReducer', LowerCaseReducer() ),\n",
        "   ('StopWordsRemover', EnglishStopWordsRemover() ),\n",
        "   ('Stemmer', EnglishStemmer() ),\n",
        "   ('RemoveNumbers', RemoveNumbers() ),\n",
        "   ('RemoveEmptyWords', RemoveEmptyWords() ),\n",
        "   #('Bag2Text', Bag2Text() ),\n",
        "   ('vectorizer', TfidfVectorizer()),\n",
        "   ('classifier', SVC() ), # LinearSVC\n",
        "                           ])\n",
        "clsfParams = {\n",
        "   'classifier__C': 10,\n",
        "   'classifier__gamma': 10,\n",
        "   'vectorizer__preprocessor': unityFunction, # since we provided a customized preprocessing pipeline, we turn off the usual preprocessing pipeline\n",
        "   'vectorizer__tokenizer': unityFunction,\n",
        "   'vectorizer__ngram_range': (1,3),\n",
        "   'vectorizer__min_df': 4,\n",
        "   'vectorizer__max_df': 0.7,\n",
        "   'vectorizer__norm': \"l1\",\n",
        "   'vectorizer__use_idf': False\n",
        "}\n",
        "cpSVM_CV.set_params(**clsfParams)\n",
        "cpSVM_CV.fit(xTrain, yTrain)\n",
        "yPred=cpSVM_CV.predict(xTest)\n",
        "print('Classification report')\n",
        "print(classification_report(yTest,yPred))\n",
        "print('Accuracy')\n",
        "print(accuracy_score(yTest,yPred))\n",
        "\n",
        "print(\"Accuracy Train\")\n",
        "print(accuracy_score(yTrain,cpSVM_CV.predict(xTrain)))"
      ],
      "metadata": {
        "colab": {
          "base_uri": "https://localhost:8080/"
        },
        "id": "QhJxsn0pxSiG",
        "outputId": "fa21e363-adb8-49da-d561-b62373d1fd68"
      },
      "execution_count": null,
      "outputs": [
        {
          "output_type": "stream",
          "name": "stdout",
          "text": [
            "Classification report\n",
            "              precision    recall  f1-score   support\n",
            "\n",
            "           0       0.91      0.97      0.94        30\n",
            "           1       0.96      0.90      0.93        30\n",
            "\n",
            "    accuracy                           0.93        60\n",
            "   macro avg       0.94      0.93      0.93        60\n",
            "weighted avg       0.94      0.93      0.93        60\n",
            "\n",
            "Accuracy\n",
            "0.9333333333333333\n",
            "Accuracy Train\n",
            "1.0\n"
          ]
        }
      ]
    },
    {
      "cell_type": "markdown",
      "source": [
        "Migliorato\n"
      ],
      "metadata": {
        "id": "0C9C6_5yxhwO"
      }
    },
    {
      "cell_type": "markdown",
      "source": [
        "# Provo RandomizedSearchCV con SVM"
      ],
      "metadata": {
        "id": "PGWDhzZi90jD"
      }
    },
    {
      "cell_type": "code",
      "source": [],
      "metadata": {
        "id": "C0ColhKaS6RQ"
      },
      "execution_count": null,
      "outputs": []
    },
    {
      "cell_type": "code",
      "source": [
        "from sklearn.utils.fixes import loguniform\n",
        "\n",
        "\n",
        "# Setting for each parameter the value space (i.e., the set of values to evaluate)\n",
        "paramSpace1 = {\n",
        "   'classifier__C': loguniform(1e-4, 1e3), # Values for grid search should be enclosed by []\n",
        "   'classifier__gamma':loguniform(1e-4, 1e3),\n",
        "   #'classifier__solver': ['liblinear'],\n",
        "   #'classifier__class_weight': [None, 'balanced'], # if the classes were imbalanced, we could try this approach\n",
        "   'vectorizer__preprocessor': [unityFunction], # since we provided a customized preprocessing pipeline, we turn off the usual preprocessing pipeline\n",
        "   'vectorizer__tokenizer': [unityFunction], # Same as above.\n",
        "   'vectorizer__ngram_range': [(1,1), (1,2), (1,3)],   #\n",
        "   'vectorizer__max_df': uniform.rvs(0.5, 0.4, size = 1000, random_state = 42),  # If a term is in more of the 70% of documents, it is too frequent to be discriminative\n",
        "   'vectorizer__min_df': uniform.rvs(0, 0.3, size = 1000, random_state = 42), # Minimum number of documents where the term should appear (otherwise it won't be considered in the Vocabulary)\n",
        "   'vectorizer__norm': [\"l1\", \"l2\", None],\n",
        "   'vectorizer__use_idf': [True, False]\n",
        "\n",
        "} # a python list [] is mandatory even if only one element is in"
      ],
      "metadata": {
        "id": "0GEXB96V9-2v"
      },
      "execution_count": null,
      "outputs": []
    },
    {
      "cell_type": "code",
      "source": [
        "start_time = time.time()\n",
        "# cv=5 k-fold validation, con k=5\n",
        "gsSVM_RandCV = RandomizedSearchCV(cpSVM, param_distributions=paramSpace1, scoring='accuracy', cv=5, verbose = 1, random_state = 42, n_jobs = -1, n_iter=1000)\n",
        "gsSVM_RandCV.fit(xTrain,yTrain)\n",
        "# ora mostro il tempo di fine\n",
        "print(\"--- %s seconds ---\" % (time.time() - start_time))\n",
        "print(gsSVM_RandCV.best_params_)\n",
        "print('Scoring result')\n",
        "print(gsSVM_RandCV.best_score_)"
      ],
      "metadata": {
        "colab": {
          "base_uri": "https://localhost:8080/"
        },
        "id": "hP08B3tj_Bme",
        "outputId": "1694b3c6-8214-4b1e-cbce-bcd9b0b64449"
      },
      "execution_count": null,
      "outputs": [
        {
          "output_type": "stream",
          "name": "stdout",
          "text": [
            "Fitting 5 folds for each of 1000 candidates, totalling 5000 fits\n",
            "--- 384.6132357120514 seconds ---\n",
            "{'classifier__C': 131.77629543651508, 'classifier__gamma': 0.3721928171068365, 'vectorizer__max_df': 0.5180874680424757, 'vectorizer__min_df': 0.23858019355796706, 'vectorizer__ngram_range': (1, 1), 'vectorizer__norm': 'l2', 'vectorizer__preprocessor': <function unityFunction at 0x7f53bde25630>, 'vectorizer__tokenizer': <function unityFunction at 0x7f53bde25630>, 'vectorizer__use_idf': True}\n",
            "Scoring result\n",
            "0.8693121693121693\n"
          ]
        }
      ]
    },
    {
      "cell_type": "code",
      "source": [],
      "metadata": {
        "id": "NBPy0gqpS4Uw"
      },
      "execution_count": null,
      "outputs": []
    },
    {
      "cell_type": "code",
      "source": [
        "#####\n",
        "#\n",
        "cpSVM_RandCV = Pipeline([\n",
        "   #('Str2Unicode', Str2Unicode()), no more required in Python3\n",
        "   ('HTMLAccentsReplacer', HTMLAccentsReplacer() ),\n",
        "   ('Tokenizer', Tokenizer() ),\n",
        "   ('LowerCaseReducer', LowerCaseReducer() ),\n",
        "   ('StopWordsRemover', EnglishStopWordsRemover() ),\n",
        "   ('Stemmer', EnglishStemmer() ),\n",
        "   ('RemoveNumbers', RemoveNumbers() ),\n",
        "   ('RemoveEmptyWords', RemoveEmptyWords() ),\n",
        "   #('Bag2Text', Bag2Text() ),\n",
        "   ('vectorizer', TfidfVectorizer()),\n",
        "   ('classifier', SVC() ), # LinearSVC\n",
        "                           ])\n",
        "# Doing classification again, using the best parameters, as selected by Grid Search.\n",
        "# The params used here might be sligthly different w.r.t to the previous grid search output\n",
        "clsfParams = {\n",
        "    'classifier__kernel': \"rbf\",\n",
        "   'classifier__C': 0.9982345413465941,\n",
        "   'classifier__gamma': 4.3130458082022205,\n",
        "   'vectorizer__preprocessor': unityFunction, # since we provided a customized preprocessing pipeline, we turn off the usual preprocessing pipeline\n",
        "   'vectorizer__tokenizer': unityFunction,\n",
        "   'vectorizer__ngram_range': (1,1),\n",
        "   'vectorizer__min_df': 0.16945233997878492,\n",
        "   'vectorizer__max_df': 0.6760609974958405,\n",
        "   'vectorizer__norm': 'l1',\n",
        "   'vectorizer__use_idf': True\n",
        "}\n",
        "cpSVM_RandCV.set_params(**clsfParams)\n",
        "cpSVM_RandCV.fit(xTrain, yTrain)\n",
        "yPred=cpSVM_RandCV.predict(xTest)\n",
        "print('Classification report')\n",
        "print(classification_report(yTest,yPred))\n",
        "print('Accuracy')\n",
        "print(accuracy_score(yTest,yPred))\n",
        "\n",
        "print(\"Accuracy Train\")\n",
        "print(accuracy_score(yTrain,cpSVM_RandCV.predict(xTrain)))"
      ],
      "metadata": {
        "colab": {
          "base_uri": "https://localhost:8080/"
        },
        "id": "DO5hgY7p_lvO",
        "outputId": "2595e9dd-4871-4b24-d646-3194bf17b057"
      },
      "execution_count": null,
      "outputs": [
        {
          "output_type": "stream",
          "name": "stdout",
          "text": [
            "Classification report\n",
            "              precision    recall  f1-score   support\n",
            "\n",
            "           0       0.92      0.77      0.84        30\n",
            "           1       0.80      0.93      0.86        30\n",
            "\n",
            "    accuracy                           0.85        60\n",
            "   macro avg       0.86      0.85      0.85        60\n",
            "weighted avg       0.86      0.85      0.85        60\n",
            "\n",
            "Accuracy\n",
            "0.85\n",
            "Accuracy Train\n",
            "0.9057971014492754\n"
          ]
        }
      ]
    },
    {
      "cell_type": "markdown",
      "source": [
        "Risultati peggiore di GridSearchCV"
      ],
      "metadata": {
        "id": "nqlzU0sYAhto"
      }
    },
    {
      "cell_type": "markdown",
      "source": [
        "# Provo Random Forest - Baseline"
      ],
      "metadata": {
        "id": "IsSb-LHCKMbV"
      }
    },
    {
      "cell_type": "code",
      "source": [
        "# Let's build a pipeline for preprocessing and classifying job vacancy titles\n",
        "cpForest = Pipeline([\n",
        "   #('Str2Unicode', Str2Unicode()), no more required in Python3\n",
        "   ('HTMLAccentsReplacer', HTMLAccentsReplacer() ),\n",
        "   ('Tokenizer', Tokenizer() ),\n",
        "   ('LowerCaseReducer', LowerCaseReducer() ),\n",
        "   ('StopWordsRemover', EnglishStopWordsRemover() ),\n",
        "   ('Stemmer', EnglishStemmer() ),\n",
        "   ('RemoveNumbers', RemoveNumbers() ),\n",
        "   ('RemoveEmptyWords', RemoveEmptyWords() ),\n",
        "   #('Bag2Text', Bag2Text() ),\n",
        "   ('vectorizer', TfidfVectorizer()),\n",
        "   ('classifier', RandomForestClassifier() ), # LinearSVC\n",
        "                           ])\n",
        "\n",
        "# Collecting all the param values in a single data structure.\n",
        "# The parameter keyword should be composed as follows: pipelineComponentName + '__' + paramName.\n",
        "clsfParams = {\n",
        "   'classifier__random_state': 42,\n",
        "   'vectorizer__preprocessor': unityFunction, # since we provided a customized preprocessing pipeline, we turn off the usual preprocessing pipeline\n",
        "   'vectorizer__tokenizer': unityFunction, # Same as above.\n",
        "   'vectorizer__ngram_range': (1,1),\n",
        "}\n",
        "\n",
        "cpForest.set_params(**clsfParams)\n",
        "cpForest.fit(xTrain, yTrain)\n",
        "\n",
        "print(\"cross val score\")\n",
        "print(np.mean(cross_val_score(cpForest, xTrain, yTrain, cv = 5)))\n",
        "print(cross_val_score(cpForest, xTrain, yTrain, cv = 5))\n",
        "yPred=cpForest.predict(xTest)\n",
        "print('Classification report')\n",
        "clasRepSt02Forest = classification_report(yTest,yPred)\n",
        "print(clasRepSt02Forest)\n",
        "print('Accuracy')\n",
        "print(accuracy_score(yTest,yPred))\n",
        "\n",
        "print(\"Accuracy Train\")\n",
        "print(accuracy_score(yTrain,cpForest.predict(xTrain)))\n",
        "#Over fitting"
      ],
      "metadata": {
        "colab": {
          "base_uri": "https://localhost:8080/"
        },
        "id": "ktUwYF1iKQi-",
        "outputId": "23936aa3-7643-45b6-84c4-9e50ed70e112"
      },
      "execution_count": null,
      "outputs": [
        {
          "output_type": "stream",
          "name": "stdout",
          "text": [
            "cross val score\n",
            "0.8473544973544973\n",
            "[0.82142857 0.85714286 0.92857143 0.85185185 0.77777778]\n",
            "Classification report\n",
            "              precision    recall  f1-score   support\n",
            "\n",
            "           0       0.89      0.83      0.86        30\n",
            "           1       0.84      0.90      0.87        30\n",
            "\n",
            "    accuracy                           0.87        60\n",
            "   macro avg       0.87      0.87      0.87        60\n",
            "weighted avg       0.87      0.87      0.87        60\n",
            "\n",
            "Accuracy\n",
            "0.8666666666666667\n",
            "Accuracy Train\n",
            "1.0\n"
          ]
        }
      ]
    },
    {
      "cell_type": "markdown",
      "source": [
        "Usiamo RandomizedSearchCV\n"
      ],
      "metadata": {
        "id": "VeCX8z0KK889"
      }
    },
    {
      "cell_type": "code",
      "source": [
        "#max_features = [int(x) for x in np.arange(1, len(feature_list) + 1)]\n",
        "#min_samples_split = loguniform(1e-4, 1e0)\n",
        "\n",
        "paramSpace1 = {\n",
        "    'classifier__n_estimators': [100], #prova\n",
        "   'classifier__min_samples_split': uniform.rvs(0, 0.8, size = 1000, random_state = 42), # Values for grid search should be enclosed by []\n",
        "   'classifier__random_state': [42],\n",
        "   'classifier__max_features': uniform.rvs(0, 1, size = 1000, random_state = 42),\n",
        "   #'classifier__solver': ['liblinear'],\n",
        "   #'classifier__class_weight': [None, 'balanced'], # if the classes were imbalanced, we could try this approach\n",
        "   'vectorizer__preprocessor': [unityFunction], # since we provided a customized preprocessing pipeline, we turn off the usual preprocessing pipeline\n",
        "   'vectorizer__tokenizer': [unityFunction], # Same as above.\n",
        "   'vectorizer__ngram_range': [(1,1), (1,2), (1,3)],   #\n",
        "   'vectorizer__max_df': uniform.rvs(0.5, 0.4, size = 1000, random_state = 42),  # If a term is in more of the 70% of documents, it is too frequent to be discriminative\n",
        "   'vectorizer__min_df': uniform.rvs(0, 0.3, size = 1000, random_state = 42), # Minimum number of documents where the term should appear (otherwise it won't be considered in the Vocabulary)\n",
        "   'vectorizer__norm': [\"l1\", \"l2\", None],\n",
        "   'vectorizer__use_idf': [True, False]\n",
        "} # a python list [] is mandatory even if only one element is in\n"
      ],
      "metadata": {
        "id": "1x_oa2rzQ52W"
      },
      "execution_count": null,
      "outputs": []
    },
    {
      "cell_type": "code",
      "source": [
        "start_time = time.time()\n",
        "# cv=5 k-fold validation, con k=5\n",
        "gsForest = RandomizedSearchCV(cpForest, param_distributions=paramSpace1, scoring='accuracy', cv=5, verbose = 1, random_state = 42, n_jobs = -1, n_iter=200)\n",
        "gsForest.fit(xTrain,yTrain)\n",
        "# ora mostro il tempo di fine\n",
        "print(\"--- %s seconds ---\" % (time.time() - start_time))\n",
        "print(gsForest.best_params_)\n",
        "print('Scoring result')\n",
        "print(gsForest.best_score_)\n",
        "\n",
        "#0.8693277310924369\n"
      ],
      "metadata": {
        "colab": {
          "base_uri": "https://localhost:8080/"
        },
        "id": "yRW8G1OlU7bi",
        "outputId": "13b31ac2-48ca-4035-ffc8-7531d5dadaa8"
      },
      "execution_count": null,
      "outputs": [
        {
          "output_type": "stream",
          "name": "stdout",
          "text": [
            "Fitting 5 folds for each of 200 candidates, totalling 1000 fits\n",
            "--- 170.87337160110474 seconds ---\n",
            "{'vectorizer__use_idf': True, 'vectorizer__tokenizer': <function unityFunction at 0x7fc1484797e0>, 'vectorizer__preprocessor': <function unityFunction at 0x7fc1484797e0>, 'vectorizer__norm': 'l1', 'vectorizer__ngram_range': (1, 1), 'vectorizer__min_df': 0.17288650805004394, 'vectorizer__max_df': 0.85870616985057, 'classifier__random_state': 42, 'classifier__n_estimators': 100, 'classifier__min_samples_split': 0.5527501904819728, 'classifier__max_features': 0.20788625514602732}\n",
            "Scoring result\n",
            "0.8835978835978835\n"
          ]
        }
      ]
    },
    {
      "cell_type": "code",
      "source": [
        "print(\"Classification report\")\n",
        "print(classification_report(yTest, gsForest.predict(xTest)))"
      ],
      "metadata": {
        "colab": {
          "base_uri": "https://localhost:8080/"
        },
        "id": "3Tp4RTjz4891",
        "outputId": "2f1e280e-54c1-4e8b-e11e-71bbb0b5005d"
      },
      "execution_count": null,
      "outputs": [
        {
          "output_type": "stream",
          "name": "stdout",
          "text": [
            "              precision    recall  f1-score   support\n",
            "\n",
            "           0       0.83      0.83      0.83        30\n",
            "           1       0.83      0.83      0.83        30\n",
            "\n",
            "    accuracy                           0.83        60\n",
            "   macro avg       0.83      0.83      0.83        60\n",
            "weighted avg       0.83      0.83      0.83        60\n",
            "\n"
          ]
        }
      ]
    },
    {
      "cell_type": "code",
      "source": [
        "# Doing classification again, using the best parameters, as selected by Grid Search.\n",
        "# The params used here might be sligthly different w.r.t to the previous grid search output\n",
        "cpForestRandCV = Pipeline([\n",
        "   #('Str2Unicode', Str2Unicode()), no more required in Python3\n",
        "   ('HTMLAccentsReplacer', HTMLAccentsReplacer() ),\n",
        "   ('Tokenizer', Tokenizer() ),\n",
        "   ('LowerCaseReducer', LowerCaseReducer() ),\n",
        "   ('StopWordsRemover', EnglishStopWordsRemover() ),\n",
        "   ('Stemmer', EnglishStemmer() ),\n",
        "   ('RemoveNumbers', RemoveNumbers() ),\n",
        "   ('RemoveEmptyWords', RemoveEmptyWords() ),\n",
        "   #('Bag2Text', Bag2Text() ),\n",
        "   ('vectorizer', TfidfVectorizer()),\n",
        "   ('classifier', RandomForestClassifier() ), # LinearSVC\n",
        "                           ])\n",
        "#Prova con None\n",
        "#provare con dizionario, nella pipeline\n",
        "\n",
        "clsfParams = {\n",
        "    'classifier__n_estimators': 100,\n",
        "   'classifier__min_samples_split': 0.5349145759395448, # Values for grid search should be enclosed by []\n",
        "   'classifier__max_features': 0.21144800699654465,\n",
        "   'classifier__random_state': 42,\n",
        "   'vectorizer__preprocessor': unityFunction, # since we provided a customized preprocessing pipeline, we turn off the usual preprocessing pipeline\n",
        "   'vectorizer__tokenizer': unityFunction,\n",
        "   'vectorizer__ngram_range': (1,1),\n",
        "   'vectorizer__min_df': 0.19955916620886002,\n",
        "   'vectorizer__max_df': 0.5993956559257863,\n",
        "   'vectorizer__norm': 'l2',\n",
        "   'vectorizer__use_idf': False\n",
        "\n",
        "}\n",
        "cpForestRandCV.set_params(**clsfParams)\n",
        "cpForestRandCV.fit(xTrain, yTrain)\n",
        "yPred=cpForestRandCV.predict(xTest)\n",
        "print('Classification report')\n",
        "print(classification_report(yTest,yPred))\n",
        "print('Accuracy')\n",
        "print(accuracy_score(yTest,yPred))\n",
        "\n",
        "print(\"Accuracy Train\")\n",
        "print(accuracy_score(yTrain,cpForestRandCV.predict(xTrain)))"
      ],
      "metadata": {
        "colab": {
          "base_uri": "https://localhost:8080/"
        },
        "id": "3S9X13dFdeCY",
        "outputId": "e9e85058-7d4d-46be-fa41-e79345faa438"
      },
      "execution_count": null,
      "outputs": [
        {
          "output_type": "stream",
          "name": "stdout",
          "text": [
            "Classification report\n",
            "              precision    recall  f1-score   support\n",
            "\n",
            "           0       0.89      0.83      0.86        30\n",
            "           1       0.84      0.90      0.87        30\n",
            "\n",
            "    accuracy                           0.87        60\n",
            "   macro avg       0.87      0.87      0.87        60\n",
            "weighted avg       0.87      0.87      0.87        60\n",
            "\n",
            "Accuracy\n",
            "0.8666666666666667\n",
            "Accuracy Train\n",
            "0.8623188405797102\n"
          ]
        }
      ]
    },
    {
      "cell_type": "markdown",
      "source": [
        "Sistemato overiftting?\n",
        "\n",
        "\n"
      ],
      "metadata": {
        "id": "QR7lXQbX2CBs"
      }
    },
    {
      "cell_type": "code",
      "source": [
        "cpSVM_CV.get_params"
      ],
      "metadata": {
        "colab": {
          "base_uri": "https://localhost:8080/"
        },
        "id": "4UPHO2LC0UO7",
        "outputId": "471409a7-d286-43d1-9fa0-ed887d9cc98a"
      },
      "execution_count": null,
      "outputs": [
        {
          "output_type": "execute_result",
          "data": {
            "text/plain": [
              "<bound method Pipeline.get_params of Pipeline(steps=[('HTMLAccentsReplacer', HTMLAccentsReplacer()),\n",
              "                ('Tokenizer', Tokenizer()),\n",
              "                ('LowerCaseReducer', LowerCaseReducer()),\n",
              "                ('StopWordsRemover', EnglishStopWordsRemover()),\n",
              "                ('Stemmer', EnglishStemmer()),\n",
              "                ('RemoveNumbers', RemoveNumbers()),\n",
              "                ('RemoveEmptyWords', RemoveEmptyWords()),\n",
              "                ('vectorizer',\n",
              "                 TfidfVectorizer(max_df=0.7, min_df=4, ngram_range=(1, 3),\n",
              "                                 norm='l1',\n",
              "                                 preprocessor=<function unityFunction at 0x7fc598bb9240>,\n",
              "                                 tokenizer=<function unityFunction at 0x7fc598bb9240>,\n",
              "                                 use_idf=False)),\n",
              "                ('classifier', SVC(C=10, gamma=10))])>"
            ]
          },
          "metadata": {},
          "execution_count": 75
        }
      ]
    },
    {
      "cell_type": "markdown",
      "source": [
        "# Salvo i 2 modelli migliori\n",
        "Riporto i risultati in validation:\n",
        "- cpLogitCV:     0.8253968253968254\n",
        "- cpLogitRandCV: 0.8693121693121693\n",
        "- cpSVM_CV : 0.8619047619047618\n",
        "- cpSVM_RandCV: 0.8693121693121693\n",
        "- Forest: 0.8473544973544973\n",
        "- cpForestRandCV: 0.8835978835978835\n"
      ],
      "metadata": {
        "id": "ix-ncbkGzq0b"
      }
    },
    {
      "cell_type": "code",
      "source": [
        "import pickle\n",
        "# Salva la pipeline su file\n",
        "with open('cpSVM_CV.pkl', 'wb') as file:\n",
        "    pickle.dump(cpSVM_CV, file)"
      ],
      "metadata": {
        "id": "f_GXaUq3ztmL"
      },
      "execution_count": null,
      "outputs": []
    },
    {
      "cell_type": "code",
      "source": [
        "\"\"\"\n",
        "# Carica la pipeline dal file\n",
        "with open('pipeline.pkl', 'rb') as file:\n",
        "    pipeline = pickle.load(file)\n",
        "\n",
        "# Esegui una previsione con la pipeline caricata\n",
        "previsione = pipeline.predict(X_test)\n",
        "print(previsione)\n",
        "\"\"\""
      ],
      "metadata": {
        "id": "qE4MlV5ozqb1"
      },
      "execution_count": null,
      "outputs": []
    },
    {
      "cell_type": "code",
      "source": [
        "with open('cpForestRandCV.pkl', 'wb') as file:\n",
        "    pickle.dump(cpForestRandCV, file)"
      ],
      "metadata": {
        "id": "wgzRyjeX0RCi"
      },
      "execution_count": null,
      "outputs": []
    },
    {
      "cell_type": "code",
      "source": [
        "!pip install tpot"
      ],
      "metadata": {
        "id": "cN3HMcBJtVtv",
        "colab": {
          "base_uri": "https://localhost:8080/"
        },
        "outputId": "c086d575-ea46-41eb-bbf3-998eb7eacede"
      },
      "execution_count": null,
      "outputs": [
        {
          "output_type": "stream",
          "name": "stdout",
          "text": [
            "Looking in indexes: https://pypi.org/simple, https://us-python.pkg.dev/colab-wheels/public/simple/\n",
            "Collecting tpot\n",
            "  Downloading TPOT-0.11.7-py3-none-any.whl (87 kB)\n",
            "\u001b[2K     \u001b[90m━━━━━━━━━━━━━━━━━━━━━━━━━━━━━━━━━━━━━━━━\u001b[0m \u001b[32m87.2/87.2 kB\u001b[0m \u001b[31m4.5 MB/s\u001b[0m eta \u001b[36m0:00:00\u001b[0m\n",
            "\u001b[?25hRequirement already satisfied: numpy>=1.16.3 in /usr/local/lib/python3.10/dist-packages (from tpot) (1.22.4)\n",
            "Requirement already satisfied: scipy>=1.3.1 in /usr/local/lib/python3.10/dist-packages (from tpot) (1.10.1)\n",
            "Requirement already satisfied: scikit-learn>=0.22.0 in /usr/local/lib/python3.10/dist-packages (from tpot) (1.2.2)\n",
            "Collecting deap>=1.2 (from tpot)\n",
            "  Downloading deap-1.3.3-cp310-cp310-manylinux_2_5_x86_64.manylinux1_x86_64.manylinux_2_17_x86_64.manylinux2014_x86_64.whl (139 kB)\n",
            "\u001b[2K     \u001b[90m━━━━━━━━━━━━━━━━━━━━━━━━━━━━━━━━━━━━━━\u001b[0m \u001b[32m139.9/139.9 kB\u001b[0m \u001b[31m10.5 MB/s\u001b[0m eta \u001b[36m0:00:00\u001b[0m\n",
            "\u001b[?25hCollecting update-checker>=0.16 (from tpot)\n",
            "  Downloading update_checker-0.18.0-py3-none-any.whl (7.0 kB)\n",
            "Requirement already satisfied: tqdm>=4.36.1 in /usr/local/lib/python3.10/dist-packages (from tpot) (4.65.0)\n",
            "Collecting stopit>=1.1.1 (from tpot)\n",
            "  Downloading stopit-1.1.2.tar.gz (18 kB)\n",
            "  Preparing metadata (setup.py) ... \u001b[?25l\u001b[?25hdone\n",
            "Requirement already satisfied: pandas>=0.24.2 in /usr/local/lib/python3.10/dist-packages (from tpot) (1.5.3)\n",
            "Requirement already satisfied: joblib>=0.13.2 in /usr/local/lib/python3.10/dist-packages (from tpot) (1.2.0)\n",
            "Requirement already satisfied: xgboost>=1.1.0 in /usr/local/lib/python3.10/dist-packages (from tpot) (1.7.5)\n",
            "Requirement already satisfied: python-dateutil>=2.8.1 in /usr/local/lib/python3.10/dist-packages (from pandas>=0.24.2->tpot) (2.8.2)\n",
            "Requirement already satisfied: pytz>=2020.1 in /usr/local/lib/python3.10/dist-packages (from pandas>=0.24.2->tpot) (2022.7.1)\n",
            "Requirement already satisfied: threadpoolctl>=2.0.0 in /usr/local/lib/python3.10/dist-packages (from scikit-learn>=0.22.0->tpot) (3.1.0)\n",
            "Requirement already satisfied: requests>=2.3.0 in /usr/local/lib/python3.10/dist-packages (from update-checker>=0.16->tpot) (2.27.1)\n",
            "Requirement already satisfied: six>=1.5 in /usr/local/lib/python3.10/dist-packages (from python-dateutil>=2.8.1->pandas>=0.24.2->tpot) (1.16.0)\n",
            "Requirement already satisfied: urllib3<1.27,>=1.21.1 in /usr/local/lib/python3.10/dist-packages (from requests>=2.3.0->update-checker>=0.16->tpot) (1.26.15)\n",
            "Requirement already satisfied: certifi>=2017.4.17 in /usr/local/lib/python3.10/dist-packages (from requests>=2.3.0->update-checker>=0.16->tpot) (2022.12.7)\n",
            "Requirement already satisfied: charset-normalizer~=2.0.0 in /usr/local/lib/python3.10/dist-packages (from requests>=2.3.0->update-checker>=0.16->tpot) (2.0.12)\n",
            "Requirement already satisfied: idna<4,>=2.5 in /usr/local/lib/python3.10/dist-packages (from requests>=2.3.0->update-checker>=0.16->tpot) (3.4)\n",
            "Building wheels for collected packages: stopit\n",
            "  Building wheel for stopit (setup.py) ... \u001b[?25l\u001b[?25hdone\n",
            "  Created wheel for stopit: filename=stopit-1.1.2-py3-none-any.whl size=11938 sha256=7676067fa9f46179f09430203f963c50bdc3e777087b3ef07543884f86d20870\n",
            "  Stored in directory: /root/.cache/pip/wheels/af/f9/87/bf5b3d565c2a007b4dae9d8142dccc85a9f164e517062dd519\n",
            "Successfully built stopit\n",
            "Installing collected packages: stopit, deap, update-checker, tpot\n",
            "Successfully installed deap-1.3.3 stopit-1.1.2 tpot-0.11.7 update-checker-0.18.0\n"
          ]
        }
      ]
    },
    {
      "cell_type": "code",
      "source": [
        "#SVM\n",
        "#{'classifier__C': 10, 'classifier__gamma': 10, 'vectorizer__max_df': 0.7, 'vectorizer__min_df': 4, 'vectorizer__ngram_range': (1, 3), 'vectorizer__norm': 'l1', 'vectorizer__preprocessor': <function unityFunction at 0x7fc598bb9240>, 'vectorizer__tokenizer': <function unityFunction at 0x7fc598bb9240>, 'vectorizer__use_idf': False}\n",
        "\n",
        "\n",
        "#Random Forest\n",
        "#{'vectorizer__use_idf': False, 'vectorizer__tokenizer': <function unityFunction at 0x7fc598bb9240>, 'vectorizer__preprocessor': <function unityFunction at 0x7fc598bb9240>, 'vectorizer__norm': 'l2', 'vectorizer__ngram_range': (1, 1), 'vectorizer__min_df': 0.19955916620886002, 'vectorizer__max_df': 0.5993956559257863, 'classifier__random_state': 42, 'classifier__n_estimators': 100, 'classifier__min_samples_split': 0.5349145759395448, 'classifier__max_features': 0.21144800699654465}\n"
      ],
      "metadata": {
        "id": "x0I2qkT5ZLBX"
      },
      "execution_count": null,
      "outputs": []
    },
    {
      "cell_type": "code",
      "source": [],
      "metadata": {
        "id": "qiCCFL_3ZP0n"
      },
      "execution_count": null,
      "outputs": []
    },
    {
      "cell_type": "code",
      "source": [
        "###################\n",
        "# Loading\n",
        "!pip install tpot\n",
        "from tpot import TPOTClassifier\n",
        "\n",
        "tpot = TPOTClassifier(\n",
        "    generations=2, #Number of iterations to the run pipeline optimization process\n",
        "                   # 2 is to keep the computation time limited.\n",
        "                   # Better 100 to get optimal (and stable) values.\n",
        "    population_size=50, # default=100 # Number of individuals to retain in the\n",
        "                        # genetic programming population every generation.\n",
        "                        # Generally, TPOT will work better when you give it\n",
        "                        # more individuals with which to optimize the pipeline.\n",
        "    verbosity=2, # How many explanation output will be printed during simulation\n",
        "    scoring='accuracy', # Metric score to optimize\n",
        "    cv=5, # cross-validation, default=5\n",
        "    n_jobs=-1, # Number of processes to use in parallel for evaluating pipelines\n",
        "              # during the TPOT optimization process. Default = 1 (1 processor/core)\n",
        "              # -1 is all available processors\n",
        "              # -2 is all available processors minus one (useful if you are running tpot\n",
        "              # on your pc and you want to work on something else during the computation)\n",
        "    config_dict='TPOT sparse', # The set of initial classifiers\n",
        "                               # and preprocessing component evaluated. In this set,\n",
        "                               # every preprocessing element can handle sparse matrices.\n",
        "    random_state=42 # The seed to make the process repeatable\n",
        ")"
      ],
      "metadata": {
        "id": "Oh42K8w5tJKl"
      },
      "execution_count": null,
      "outputs": []
    },
    {
      "cell_type": "code",
      "source": [
        "######\n",
        "# Creating the Document Term Matrix from xTrain and xTest\n",
        "#Uso i parametri ottenuti da SVM\n",
        "cv = TfidfVectorizer(\n",
        "    ngram_range = (1,3), # Those values were identified as optimal from a previous notebook\n",
        "    min_df = 4,\n",
        "    max_df = 0.7,\n",
        "    norm = 'l1',\n",
        "    use_idf= False\n",
        "\n",
        ")\n",
        "xTrainDtm = cv.fit_transform(xTrain)\n",
        "xTestDtm = cv.transform(xTest)"
      ],
      "metadata": {
        "id": "zNywgppjtRzX"
      },
      "execution_count": null,
      "outputs": []
    },
    {
      "cell_type": "code",
      "source": [
        "tpot.fit(xTrainDtm, yTrain)\n"
      ],
      "metadata": {
        "colab": {
          "base_uri": "https://localhost:8080/",
          "height": 214,
          "referenced_widgets": [
            "144fe531dffb425bbebd5cc47805f0f6",
            "0e1e6aa6e2d84a56abbab80e4254b547",
            "25a4564fc47e437db54a2de598e1b16b",
            "1d6078e1fc2448ceb33248925fc46f72",
            "7244f2d39e6845ea86b0403349a1f8af",
            "06bd9fce9fa04a96b6c1a44893eaf0eb",
            "147d48202656463c90869507f9679790",
            "a4965298e5ad4af1bcccb00d7b3e6adb",
            "76c5fb64538846638c90ac299880f4db",
            "704f9cd63dad4a659543805fb9495965",
            "e413c53e964142209fe4fce004929c5d"
          ]
        },
        "id": "yau7qKPHvFzB",
        "outputId": "0d13accd-768b-4214-9fc3-d1c1b0d72287"
      },
      "execution_count": null,
      "outputs": [
        {
          "output_type": "display_data",
          "data": {
            "text/plain": [
              "Optimization Progress:   0%|          | 0/150 [00:00<?, ?pipeline/s]"
            ],
            "application/vnd.jupyter.widget-view+json": {
              "version_major": 2,
              "version_minor": 0,
              "model_id": "144fe531dffb425bbebd5cc47805f0f6"
            }
          },
          "metadata": {}
        },
        {
          "output_type": "stream",
          "name": "stdout",
          "text": [
            "\n",
            "Generation 1 - Current best internal CV score: 0.8552910052910052\n",
            "\n",
            "Generation 2 - Current best internal CV score: 0.8552910052910052\n",
            "\n",
            "Best pipeline: RandomForestClassifier(input_matrix, bootstrap=False, criterion=entropy, max_features=0.35000000000000003, min_samples_leaf=4, min_samples_split=7, n_estimators=100)\n"
          ]
        },
        {
          "output_type": "execute_result",
          "data": {
            "text/plain": [
              "TPOTClassifier(config_dict='TPOT sparse', generations=2, n_jobs=-1,\n",
              "               population_size=50, random_state=42, scoring='accuracy',\n",
              "               verbosity=2)"
            ],
            "text/html": [
              "<style>#sk-container-id-1 {color: black;background-color: white;}#sk-container-id-1 pre{padding: 0;}#sk-container-id-1 div.sk-toggleable {background-color: white;}#sk-container-id-1 label.sk-toggleable__label {cursor: pointer;display: block;width: 100%;margin-bottom: 0;padding: 0.3em;box-sizing: border-box;text-align: center;}#sk-container-id-1 label.sk-toggleable__label-arrow:before {content: \"▸\";float: left;margin-right: 0.25em;color: #696969;}#sk-container-id-1 label.sk-toggleable__label-arrow:hover:before {color: black;}#sk-container-id-1 div.sk-estimator:hover label.sk-toggleable__label-arrow:before {color: black;}#sk-container-id-1 div.sk-toggleable__content {max-height: 0;max-width: 0;overflow: hidden;text-align: left;background-color: #f0f8ff;}#sk-container-id-1 div.sk-toggleable__content pre {margin: 0.2em;color: black;border-radius: 0.25em;background-color: #f0f8ff;}#sk-container-id-1 input.sk-toggleable__control:checked~div.sk-toggleable__content {max-height: 200px;max-width: 100%;overflow: auto;}#sk-container-id-1 input.sk-toggleable__control:checked~label.sk-toggleable__label-arrow:before {content: \"▾\";}#sk-container-id-1 div.sk-estimator input.sk-toggleable__control:checked~label.sk-toggleable__label {background-color: #d4ebff;}#sk-container-id-1 div.sk-label input.sk-toggleable__control:checked~label.sk-toggleable__label {background-color: #d4ebff;}#sk-container-id-1 input.sk-hidden--visually {border: 0;clip: rect(1px 1px 1px 1px);clip: rect(1px, 1px, 1px, 1px);height: 1px;margin: -1px;overflow: hidden;padding: 0;position: absolute;width: 1px;}#sk-container-id-1 div.sk-estimator {font-family: monospace;background-color: #f0f8ff;border: 1px dotted black;border-radius: 0.25em;box-sizing: border-box;margin-bottom: 0.5em;}#sk-container-id-1 div.sk-estimator:hover {background-color: #d4ebff;}#sk-container-id-1 div.sk-parallel-item::after {content: \"\";width: 100%;border-bottom: 1px solid gray;flex-grow: 1;}#sk-container-id-1 div.sk-label:hover label.sk-toggleable__label {background-color: #d4ebff;}#sk-container-id-1 div.sk-serial::before {content: \"\";position: absolute;border-left: 1px solid gray;box-sizing: border-box;top: 0;bottom: 0;left: 50%;z-index: 0;}#sk-container-id-1 div.sk-serial {display: flex;flex-direction: column;align-items: center;background-color: white;padding-right: 0.2em;padding-left: 0.2em;position: relative;}#sk-container-id-1 div.sk-item {position: relative;z-index: 1;}#sk-container-id-1 div.sk-parallel {display: flex;align-items: stretch;justify-content: center;background-color: white;position: relative;}#sk-container-id-1 div.sk-item::before, #sk-container-id-1 div.sk-parallel-item::before {content: \"\";position: absolute;border-left: 1px solid gray;box-sizing: border-box;top: 0;bottom: 0;left: 50%;z-index: -1;}#sk-container-id-1 div.sk-parallel-item {display: flex;flex-direction: column;z-index: 1;position: relative;background-color: white;}#sk-container-id-1 div.sk-parallel-item:first-child::after {align-self: flex-end;width: 50%;}#sk-container-id-1 div.sk-parallel-item:last-child::after {align-self: flex-start;width: 50%;}#sk-container-id-1 div.sk-parallel-item:only-child::after {width: 0;}#sk-container-id-1 div.sk-dashed-wrapped {border: 1px dashed gray;margin: 0 0.4em 0.5em 0.4em;box-sizing: border-box;padding-bottom: 0.4em;background-color: white;}#sk-container-id-1 div.sk-label label {font-family: monospace;font-weight: bold;display: inline-block;line-height: 1.2em;}#sk-container-id-1 div.sk-label-container {text-align: center;}#sk-container-id-1 div.sk-container {/* jupyter's `normalize.less` sets `[hidden] { display: none; }` but bootstrap.min.css set `[hidden] { display: none !important; }` so we also need the `!important` here to be able to override the default hidden behavior on the sphinx rendered scikit-learn.org. See: https://github.com/scikit-learn/scikit-learn/issues/21755 */display: inline-block !important;position: relative;}#sk-container-id-1 div.sk-text-repr-fallback {display: none;}</style><div id=\"sk-container-id-1\" class=\"sk-top-container\"><div class=\"sk-text-repr-fallback\"><pre>TPOTClassifier(config_dict=&#x27;TPOT sparse&#x27;, generations=2, n_jobs=-1,\n",
              "               population_size=50, random_state=42, scoring=&#x27;accuracy&#x27;,\n",
              "               verbosity=2)</pre><b>In a Jupyter environment, please rerun this cell to show the HTML representation or trust the notebook. <br />On GitHub, the HTML representation is unable to render, please try loading this page with nbviewer.org.</b></div><div class=\"sk-container\" hidden><div class=\"sk-item\"><div class=\"sk-estimator sk-toggleable\"><input class=\"sk-toggleable__control sk-hidden--visually\" id=\"sk-estimator-id-1\" type=\"checkbox\" checked><label for=\"sk-estimator-id-1\" class=\"sk-toggleable__label sk-toggleable__label-arrow\">TPOTClassifier</label><div class=\"sk-toggleable__content\"><pre>TPOTClassifier(config_dict=&#x27;TPOT sparse&#x27;, generations=2, n_jobs=-1,\n",
              "               population_size=50, random_state=42, scoring=&#x27;accuracy&#x27;,\n",
              "               verbosity=2)</pre></div></div></div></div></div>"
            ]
          },
          "metadata": {},
          "execution_count": 15
        }
      ]
    },
    {
      "cell_type": "code",
      "source": [
        "print('Score: ', tpot.score(xTestDtm, yTest))"
      ],
      "metadata": {
        "colab": {
          "base_uri": "https://localhost:8080/"
        },
        "id": "ZKD8mFFPvnKw",
        "outputId": "0b2e04ac-fa15-44bd-e186-9d3b8718c09f"
      },
      "execution_count": null,
      "outputs": [
        {
          "output_type": "stream",
          "name": "stdout",
          "text": [
            "Score:  0.8\n"
          ]
        }
      ]
    },
    {
      "cell_type": "code",
      "source": [
        "tpotLong = TPOTClassifier(\n",
        "    generations=100, #Number of iterations to the run pipeline optimization process\n",
        "                   # 2 is to keep the computation time limited.\n",
        "                   # Better 100 to get optimal (and stable) values.\n",
        "    population_size=50, # default=100 # Number of individuals to retain in the\n",
        "                        # genetic programming population every generation.\n",
        "                        # Generally, TPOT will work better when you give it\n",
        "                        # more individuals with which to optimize the pipeline.\n",
        "    verbosity=2, # How many explanation output will be printed during simulation\n",
        "    scoring='accuracy', # Metric score to optimize\n",
        "    cv=5, # cross-validation, default=5\n",
        "    n_jobs=-1, # Number of processes to use in parallel for evaluating pipelines\n",
        "              # during the TPOT optimization process. Default = 1 (1 processor/core)\n",
        "              # -1 is all available processors\n",
        "              # -2 is all available processors minus one (useful if you are running tpot\n",
        "              # on your pc and you want to work on something else during the computation)\n",
        "    config_dict='TPOT sparse', # The set of initial classifiers\n",
        "                               # and preprocessing component evaluated. In this set,\n",
        "                               # every preprocessing element can handle sparse matrices.\n",
        "    random_state=42 # The seed to make the process repeatable\n",
        ")"
      ],
      "metadata": {
        "id": "bki5zxzq3_RL"
      },
      "execution_count": null,
      "outputs": []
    },
    {
      "cell_type": "code",
      "source": [
        "tpotLong.fit(xTrainDtm, yTrain)\n"
      ],
      "metadata": {
        "colab": {
          "base_uri": "https://localhost:8080/",
          "height": 1000,
          "referenced_widgets": [
            "7476d0666f77432c88034eeda3e091e3",
            "05fbdd4f3a7f4e1dbaf5a065fdff0a74",
            "6f648d0ff2b14c87af96c523f4eb8c9f",
            "13fdb9f669014d97b399786508c10c39",
            "ff2e1d359ecf40ea876775f30b4089c0",
            "b80aa17cb40d4a0aa107312f357019dd",
            "d3fa68c564894b4d856f9586aafbbf85",
            "e90f6f41b3fb433190294ff9acd6417b",
            "8cedc627c47b44bba77db188174a28f8",
            "609c98e6d3f744689577dbe2142710e3",
            "074de04ee9814d109898b4faab271c93"
          ]
        },
        "id": "Quuf0bMG4A2S",
        "outputId": "87e46fb6-09ed-4030-df57-aad398864646"
      },
      "execution_count": null,
      "outputs": [
        {
          "output_type": "display_data",
          "data": {
            "text/plain": [
              "Optimization Progress:   0%|          | 0/5050 [00:00<?, ?pipeline/s]"
            ],
            "application/vnd.jupyter.widget-view+json": {
              "version_major": 2,
              "version_minor": 0,
              "model_id": "7476d0666f77432c88034eeda3e091e3"
            }
          },
          "metadata": {}
        },
        {
          "output_type": "stream",
          "name": "stdout",
          "text": [
            "\n",
            "Generation 1 - Current best internal CV score: 0.8552910052910052\n",
            "\n",
            "Generation 2 - Current best internal CV score: 0.8552910052910052\n",
            "\n",
            "Generation 3 - Current best internal CV score: 0.8552910052910052\n",
            "\n",
            "Generation 4 - Current best internal CV score: 0.8552910052910052\n",
            "\n",
            "Generation 5 - Current best internal CV score: 0.8687830687830689\n",
            "\n",
            "Generation 6 - Current best internal CV score: 0.8761904761904763\n",
            "\n",
            "Generation 7 - Current best internal CV score: 0.8761904761904763\n",
            "\n",
            "Generation 8 - Current best internal CV score: 0.8761904761904763\n",
            "\n",
            "Generation 9 - Current best internal CV score: 0.8761904761904763\n",
            "\n",
            "Generation 10 - Current best internal CV score: 0.8761904761904763\n",
            "\n",
            "Generation 11 - Current best internal CV score: 0.8761904761904763\n",
            "\n",
            "Generation 12 - Current best internal CV score: 0.8761904761904763\n",
            "\n",
            "Generation 13 - Current best internal CV score: 0.8835978835978837\n",
            "\n",
            "Generation 14 - Current best internal CV score: 0.8835978835978837\n",
            "\n",
            "Generation 15 - Current best internal CV score: 0.8835978835978837\n",
            "\n",
            "Generation 16 - Current best internal CV score: 0.8835978835978837\n",
            "\n",
            "Generation 17 - Current best internal CV score: 0.8835978835978837\n",
            "\n",
            "Generation 18 - Current best internal CV score: 0.8835978835978837\n",
            "\n",
            "Generation 19 - Current best internal CV score: 0.8835978835978837\n",
            "\n",
            "Generation 20 - Current best internal CV score: 0.8835978835978837\n",
            "\n",
            "Generation 21 - Current best internal CV score: 0.8835978835978837\n",
            "\n",
            "Generation 22 - Current best internal CV score: 0.8835978835978837\n",
            "\n",
            "Generation 23 - Current best internal CV score: 0.8835978835978837\n",
            "\n",
            "Generation 24 - Current best internal CV score: 0.8835978835978837\n",
            "\n",
            "Generation 25 - Current best internal CV score: 0.8835978835978837\n",
            "\n",
            "Generation 26 - Current best internal CV score: 0.8835978835978837\n",
            "\n",
            "Generation 27 - Current best internal CV score: 0.8835978835978837\n",
            "\n",
            "Generation 28 - Current best internal CV score: 0.8835978835978837\n",
            "\n",
            "Generation 29 - Current best internal CV score: 0.8835978835978837\n",
            "\n",
            "Generation 30 - Current best internal CV score: 0.8835978835978837\n",
            "\n",
            "Generation 31 - Current best internal CV score: 0.8907407407407408\n",
            "\n",
            "Generation 32 - Current best internal CV score: 0.8907407407407408\n",
            "\n",
            "Generation 33 - Current best internal CV score: 0.8907407407407408\n",
            "\n",
            "Generation 34 - Current best internal CV score: 0.8907407407407408\n",
            "\n",
            "Generation 35 - Current best internal CV score: 0.8907407407407408\n",
            "\n",
            "Generation 36 - Current best internal CV score: 0.8907407407407408\n",
            "\n",
            "Generation 37 - Current best internal CV score: 0.8907407407407408\n",
            "\n",
            "Generation 38 - Current best internal CV score: 0.8907407407407408\n",
            "\n",
            "Generation 39 - Current best internal CV score: 0.8907407407407408\n",
            "\n",
            "Generation 40 - Current best internal CV score: 0.8907407407407408\n",
            "\n",
            "Generation 41 - Current best internal CV score: 0.8907407407407408\n",
            "\n",
            "Generation 42 - Current best internal CV score: 0.8907407407407408\n",
            "\n",
            "Generation 43 - Current best internal CV score: 0.8907407407407408\n",
            "\n",
            "Generation 44 - Current best internal CV score: 0.8907407407407408\n",
            "\n",
            "Generation 45 - Current best internal CV score: 0.8907407407407408\n",
            "\n",
            "Generation 46 - Current best internal CV score: 0.8907407407407408\n",
            "\n",
            "Generation 47 - Current best internal CV score: 0.8907407407407408\n",
            "\n",
            "Generation 48 - Current best internal CV score: 0.8907407407407408\n",
            "\n",
            "Generation 49 - Current best internal CV score: 0.8907407407407408\n",
            "\n",
            "Generation 50 - Current best internal CV score: 0.8907407407407408\n",
            "\n",
            "Generation 51 - Current best internal CV score: 0.8907407407407408\n",
            "\n",
            "Generation 52 - Current best internal CV score: 0.8907407407407408\n",
            "\n",
            "Generation 53 - Current best internal CV score: 0.8907407407407408\n",
            "\n",
            "Generation 54 - Current best internal CV score: 0.8907407407407408\n",
            "\n",
            "Generation 55 - Current best internal CV score: 0.8907407407407408\n",
            "\n",
            "Generation 56 - Current best internal CV score: 0.8907407407407408\n",
            "\n",
            "Generation 57 - Current best internal CV score: 0.8907407407407408\n",
            "\n",
            "Generation 58 - Current best internal CV score: 0.8907407407407408\n",
            "\n",
            "Generation 59 - Current best internal CV score: 0.8907407407407408\n",
            "\n",
            "Generation 60 - Current best internal CV score: 0.8907407407407408\n",
            "\n",
            "Generation 61 - Current best internal CV score: 0.8907407407407408\n",
            "\n",
            "Generation 62 - Current best internal CV score: 0.8907407407407408\n",
            "\n",
            "Generation 63 - Current best internal CV score: 0.8907407407407408\n",
            "\n",
            "Generation 64 - Current best internal CV score: 0.8907407407407408\n",
            "\n",
            "Generation 65 - Current best internal CV score: 0.8907407407407408\n",
            "\n",
            "Generation 66 - Current best internal CV score: 0.8907407407407408\n",
            "\n",
            "Generation 67 - Current best internal CV score: 0.8907407407407408\n",
            "\n",
            "Generation 68 - Current best internal CV score: 0.8907407407407408\n",
            "\n",
            "Generation 69 - Current best internal CV score: 0.8907407407407408\n",
            "\n",
            "Generation 70 - Current best internal CV score: 0.8907407407407408\n",
            "\n",
            "Generation 71 - Current best internal CV score: 0.8907407407407408\n",
            "\n",
            "Generation 72 - Current best internal CV score: 0.8907407407407408\n",
            "\n",
            "Generation 73 - Current best internal CV score: 0.8907407407407408\n",
            "\n",
            "Generation 74 - Current best internal CV score: 0.8907407407407408\n",
            "\n",
            "Generation 75 - Current best internal CV score: 0.8907407407407408\n",
            "\n",
            "Generation 76 - Current best internal CV score: 0.8907407407407408\n",
            "\n",
            "Generation 77 - Current best internal CV score: 0.8907407407407408\n",
            "\n",
            "Generation 78 - Current best internal CV score: 0.8907407407407408\n",
            "\n",
            "Generation 79 - Current best internal CV score: 0.8907407407407408\n",
            "\n",
            "Generation 80 - Current best internal CV score: 0.8907407407407408\n",
            "\n",
            "Generation 81 - Current best internal CV score: 0.8907407407407408\n",
            "\n",
            "Generation 82 - Current best internal CV score: 0.8907407407407408\n",
            "\n",
            "Generation 83 - Current best internal CV score: 0.8907407407407408\n",
            "\n",
            "Generation 84 - Current best internal CV score: 0.8907407407407408\n",
            "\n",
            "Generation 85 - Current best internal CV score: 0.8907407407407408\n",
            "\n",
            "Generation 86 - Current best internal CV score: 0.8907407407407408\n",
            "\n",
            "Generation 87 - Current best internal CV score: 0.8907407407407408\n",
            "\n",
            "Generation 88 - Current best internal CV score: 0.8907407407407408\n",
            "\n",
            "Generation 89 - Current best internal CV score: 0.8907407407407408\n",
            "\n",
            "Generation 90 - Current best internal CV score: 0.8907407407407408\n",
            "\n",
            "Generation 91 - Current best internal CV score: 0.8907407407407408\n",
            "\n",
            "Generation 92 - Current best internal CV score: 0.8907407407407408\n",
            "\n",
            "Generation 93 - Current best internal CV score: 0.8907407407407408\n",
            "\n",
            "Generation 94 - Current best internal CV score: 0.8907407407407408\n",
            "\n",
            "Generation 95 - Current best internal CV score: 0.8907407407407408\n",
            "\n",
            "Generation 96 - Current best internal CV score: 0.8907407407407408\n",
            "\n",
            "Generation 97 - Current best internal CV score: 0.8907407407407408\n",
            "\n",
            "Generation 98 - Current best internal CV score: 0.8907407407407408\n",
            "\n",
            "Generation 99 - Current best internal CV score: 0.8907407407407408\n",
            "\n",
            "Generation 100 - Current best internal CV score: 0.8907407407407408\n",
            "\n",
            "Best pipeline: BernoulliNB(RFE(input_matrix, criterion=entropy, max_features=1.0, n_estimators=100, step=0.4), alpha=1.0, fit_prior=True)\n"
          ]
        },
        {
          "output_type": "execute_result",
          "data": {
            "text/plain": [
              "TPOTClassifier(config_dict='TPOT sparse', n_jobs=-1, population_size=50,\n",
              "               random_state=42, scoring='accuracy', verbosity=2)"
            ],
            "text/html": [
              "<style>#sk-container-id-2 {color: black;background-color: white;}#sk-container-id-2 pre{padding: 0;}#sk-container-id-2 div.sk-toggleable {background-color: white;}#sk-container-id-2 label.sk-toggleable__label {cursor: pointer;display: block;width: 100%;margin-bottom: 0;padding: 0.3em;box-sizing: border-box;text-align: center;}#sk-container-id-2 label.sk-toggleable__label-arrow:before {content: \"▸\";float: left;margin-right: 0.25em;color: #696969;}#sk-container-id-2 label.sk-toggleable__label-arrow:hover:before {color: black;}#sk-container-id-2 div.sk-estimator:hover label.sk-toggleable__label-arrow:before {color: black;}#sk-container-id-2 div.sk-toggleable__content {max-height: 0;max-width: 0;overflow: hidden;text-align: left;background-color: #f0f8ff;}#sk-container-id-2 div.sk-toggleable__content pre {margin: 0.2em;color: black;border-radius: 0.25em;background-color: #f0f8ff;}#sk-container-id-2 input.sk-toggleable__control:checked~div.sk-toggleable__content {max-height: 200px;max-width: 100%;overflow: auto;}#sk-container-id-2 input.sk-toggleable__control:checked~label.sk-toggleable__label-arrow:before {content: \"▾\";}#sk-container-id-2 div.sk-estimator input.sk-toggleable__control:checked~label.sk-toggleable__label {background-color: #d4ebff;}#sk-container-id-2 div.sk-label input.sk-toggleable__control:checked~label.sk-toggleable__label {background-color: #d4ebff;}#sk-container-id-2 input.sk-hidden--visually {border: 0;clip: rect(1px 1px 1px 1px);clip: rect(1px, 1px, 1px, 1px);height: 1px;margin: -1px;overflow: hidden;padding: 0;position: absolute;width: 1px;}#sk-container-id-2 div.sk-estimator {font-family: monospace;background-color: #f0f8ff;border: 1px dotted black;border-radius: 0.25em;box-sizing: border-box;margin-bottom: 0.5em;}#sk-container-id-2 div.sk-estimator:hover {background-color: #d4ebff;}#sk-container-id-2 div.sk-parallel-item::after {content: \"\";width: 100%;border-bottom: 1px solid gray;flex-grow: 1;}#sk-container-id-2 div.sk-label:hover label.sk-toggleable__label {background-color: #d4ebff;}#sk-container-id-2 div.sk-serial::before {content: \"\";position: absolute;border-left: 1px solid gray;box-sizing: border-box;top: 0;bottom: 0;left: 50%;z-index: 0;}#sk-container-id-2 div.sk-serial {display: flex;flex-direction: column;align-items: center;background-color: white;padding-right: 0.2em;padding-left: 0.2em;position: relative;}#sk-container-id-2 div.sk-item {position: relative;z-index: 1;}#sk-container-id-2 div.sk-parallel {display: flex;align-items: stretch;justify-content: center;background-color: white;position: relative;}#sk-container-id-2 div.sk-item::before, #sk-container-id-2 div.sk-parallel-item::before {content: \"\";position: absolute;border-left: 1px solid gray;box-sizing: border-box;top: 0;bottom: 0;left: 50%;z-index: -1;}#sk-container-id-2 div.sk-parallel-item {display: flex;flex-direction: column;z-index: 1;position: relative;background-color: white;}#sk-container-id-2 div.sk-parallel-item:first-child::after {align-self: flex-end;width: 50%;}#sk-container-id-2 div.sk-parallel-item:last-child::after {align-self: flex-start;width: 50%;}#sk-container-id-2 div.sk-parallel-item:only-child::after {width: 0;}#sk-container-id-2 div.sk-dashed-wrapped {border: 1px dashed gray;margin: 0 0.4em 0.5em 0.4em;box-sizing: border-box;padding-bottom: 0.4em;background-color: white;}#sk-container-id-2 div.sk-label label {font-family: monospace;font-weight: bold;display: inline-block;line-height: 1.2em;}#sk-container-id-2 div.sk-label-container {text-align: center;}#sk-container-id-2 div.sk-container {/* jupyter's `normalize.less` sets `[hidden] { display: none; }` but bootstrap.min.css set `[hidden] { display: none !important; }` so we also need the `!important` here to be able to override the default hidden behavior on the sphinx rendered scikit-learn.org. See: https://github.com/scikit-learn/scikit-learn/issues/21755 */display: inline-block !important;position: relative;}#sk-container-id-2 div.sk-text-repr-fallback {display: none;}</style><div id=\"sk-container-id-2\" class=\"sk-top-container\"><div class=\"sk-text-repr-fallback\"><pre>TPOTClassifier(config_dict=&#x27;TPOT sparse&#x27;, n_jobs=-1, population_size=50,\n",
              "               random_state=42, scoring=&#x27;accuracy&#x27;, verbosity=2)</pre><b>In a Jupyter environment, please rerun this cell to show the HTML representation or trust the notebook. <br />On GitHub, the HTML representation is unable to render, please try loading this page with nbviewer.org.</b></div><div class=\"sk-container\" hidden><div class=\"sk-item\"><div class=\"sk-estimator sk-toggleable\"><input class=\"sk-toggleable__control sk-hidden--visually\" id=\"sk-estimator-id-2\" type=\"checkbox\" checked><label for=\"sk-estimator-id-2\" class=\"sk-toggleable__label sk-toggleable__label-arrow\">TPOTClassifier</label><div class=\"sk-toggleable__content\"><pre>TPOTClassifier(config_dict=&#x27;TPOT sparse&#x27;, n_jobs=-1, population_size=50,\n",
              "               random_state=42, scoring=&#x27;accuracy&#x27;, verbosity=2)</pre></div></div></div></div></div>"
            ]
          },
          "metadata": {},
          "execution_count": 18
        }
      ]
    },
    {
      "cell_type": "code",
      "source": [
        "tpotLong.export('tpot_optimal_pipeline2.py')"
      ],
      "metadata": {
        "id": "yRllZM4VftyO"
      },
      "execution_count": null,
      "outputs": []
    },
    {
      "cell_type": "code",
      "source": [
        "!cat tpot_optimal_pipeline2.py"
      ],
      "metadata": {
        "colab": {
          "base_uri": "https://localhost:8080/"
        },
        "id": "92EClGM0frFI",
        "outputId": "974fcf75-c21d-4e6e-a42d-13308d0aeba9"
      },
      "execution_count": null,
      "outputs": [
        {
          "output_type": "stream",
          "name": "stdout",
          "text": [
            "import numpy as np\n",
            "import pandas as pd\n",
            "from sklearn.ensemble import ExtraTreesClassifier\n",
            "from sklearn.feature_selection import RFE\n",
            "from sklearn.model_selection import train_test_split\n",
            "from sklearn.naive_bayes import BernoulliNB\n",
            "from sklearn.pipeline import make_pipeline\n",
            "from tpot.export_utils import set_param_recursive\n",
            "\n",
            "# NOTE: Make sure that the outcome column is labeled 'target' in the data file\n",
            "tpot_data = pd.read_csv('PATH/TO/DATA/FILE', sep='COLUMN_SEPARATOR', dtype=np.float64)\n",
            "features = tpot_data.drop('target', axis=1)\n",
            "training_features, testing_features, training_target, testing_target = \\\n",
            "            train_test_split(features, tpot_data['target'], random_state=42)\n",
            "\n",
            "# Average CV score on the training set was: 0.8907407407407408\n",
            "exported_pipeline = make_pipeline(\n",
            "    RFE(estimator=ExtraTreesClassifier(criterion=\"entropy\", max_features=1.0, n_estimators=100), step=0.4),\n",
            "    BernoulliNB(alpha=1.0, fit_prior=True)\n",
            ")\n",
            "# Fix random state for all the steps in exported pipeline\n",
            "set_param_recursive(exported_pipeline.steps, 'random_state', 42)\n",
            "\n",
            "exported_pipeline.fit(training_features, training_target)\n",
            "results = exported_pipeline.predict(testing_features)\n"
          ]
        }
      ]
    },
    {
      "cell_type": "code",
      "source": [
        "print('Score: ', tpotLong.score(xTestDtm, yTest))\n",
        "#tpotLong.export('tpot_optimal_pipeline2.py')"
      ],
      "metadata": {
        "id": "ojJlxZkgQu0X",
        "colab": {
          "base_uri": "https://localhost:8080/"
        },
        "outputId": "4de417d4-2644-4d56-ee4c-35b8cf80d5fb"
      },
      "execution_count": null,
      "outputs": [
        {
          "output_type": "stream",
          "name": "stdout",
          "text": [
            "Score:  0.8833333333333333\n"
          ]
        }
      ]
    },
    {
      "cell_type": "code",
      "source": [
        "!cat tpot_optimal_pipeline2.py"
      ],
      "metadata": {
        "id": "UXtkIpEGkSyg"
      },
      "execution_count": null,
      "outputs": []
    },
    {
      "cell_type": "code",
      "source": [
        "#Creo il mio modello con pipeline di tpot\n",
        "from sklearn.ensemble import ExtraTreesClassifier\n",
        "from sklearn.feature_selection import RFE\n",
        "from sklearn.model_selection import train_test_split\n",
        "from sklearn.naive_bayes import BernoulliNB\n",
        "from sklearn.pipeline import make_pipeline\n",
        "!pip install tpot\n",
        "import tpot\n",
        "from tpot.export_utils import set_param_recursive\n",
        "\n",
        "exported_pipeline = make_pipeline(\n",
        "    RFE(estimator=ExtraTreesClassifier(criterion=\"entropy\",\n",
        "                                       max_features=1.0,\n",
        "                                       n_estimators=100), step=0.4),\n",
        "    BernoulliNB(alpha=1.0, fit_prior=True)\n",
        ")\n",
        "\n",
        "set_param_recursive(exported_pipeline.steps, 'random_state', 42)\n",
        "exported_pipeline.fit(xTrainDtm, yTrain)\n"
      ],
      "metadata": {
        "colab": {
          "base_uri": "https://localhost:8080/",
          "height": 555
        },
        "id": "nG-aUAeaf9Z_",
        "outputId": "b5a4de00-642a-47e4-bdc3-4d18cb2297be"
      },
      "execution_count": null,
      "outputs": [
        {
          "output_type": "stream",
          "name": "stdout",
          "text": [
            "Looking in indexes: https://pypi.org/simple, https://us-python.pkg.dev/colab-wheels/public/simple/\n",
            "Requirement already satisfied: tpot in /usr/local/lib/python3.10/dist-packages (0.12.0)\n",
            "Requirement already satisfied: numpy>=1.16.3 in /usr/local/lib/python3.10/dist-packages (from tpot) (1.22.4)\n",
            "Requirement already satisfied: scipy>=1.3.1 in /usr/local/lib/python3.10/dist-packages (from tpot) (1.10.1)\n",
            "Requirement already satisfied: scikit-learn>=0.22.0 in /usr/local/lib/python3.10/dist-packages (from tpot) (1.2.2)\n",
            "Requirement already satisfied: deap>=1.2 in /usr/local/lib/python3.10/dist-packages (from tpot) (1.3.3)\n",
            "Requirement already satisfied: update-checker>=0.16 in /usr/local/lib/python3.10/dist-packages (from tpot) (0.18.0)\n",
            "Requirement already satisfied: tqdm>=4.36.1 in /usr/local/lib/python3.10/dist-packages (from tpot) (4.65.0)\n",
            "Requirement already satisfied: stopit>=1.1.1 in /usr/local/lib/python3.10/dist-packages (from tpot) (1.1.2)\n",
            "Requirement already satisfied: pandas>=0.24.2 in /usr/local/lib/python3.10/dist-packages (from tpot) (1.5.3)\n",
            "Requirement already satisfied: joblib>=0.13.2 in /usr/local/lib/python3.10/dist-packages (from tpot) (1.2.0)\n",
            "Requirement already satisfied: xgboost>=1.1.0 in /usr/local/lib/python3.10/dist-packages (from tpot) (1.7.5)\n",
            "Requirement already satisfied: python-dateutil>=2.8.1 in /usr/local/lib/python3.10/dist-packages (from pandas>=0.24.2->tpot) (2.8.2)\n",
            "Requirement already satisfied: pytz>=2020.1 in /usr/local/lib/python3.10/dist-packages (from pandas>=0.24.2->tpot) (2022.7.1)\n",
            "Requirement already satisfied: threadpoolctl>=2.0.0 in /usr/local/lib/python3.10/dist-packages (from scikit-learn>=0.22.0->tpot) (3.1.0)\n",
            "Requirement already satisfied: requests>=2.3.0 in /usr/local/lib/python3.10/dist-packages (from update-checker>=0.16->tpot) (2.27.1)\n",
            "Requirement already satisfied: six>=1.5 in /usr/local/lib/python3.10/dist-packages (from python-dateutil>=2.8.1->pandas>=0.24.2->tpot) (1.16.0)\n",
            "Requirement already satisfied: urllib3<1.27,>=1.21.1 in /usr/local/lib/python3.10/dist-packages (from requests>=2.3.0->update-checker>=0.16->tpot) (1.26.15)\n",
            "Requirement already satisfied: certifi>=2017.4.17 in /usr/local/lib/python3.10/dist-packages (from requests>=2.3.0->update-checker>=0.16->tpot) (2022.12.7)\n",
            "Requirement already satisfied: charset-normalizer~=2.0.0 in /usr/local/lib/python3.10/dist-packages (from requests>=2.3.0->update-checker>=0.16->tpot) (2.0.12)\n",
            "Requirement already satisfied: idna<4,>=2.5 in /usr/local/lib/python3.10/dist-packages (from requests>=2.3.0->update-checker>=0.16->tpot) (3.4)\n"
          ]
        },
        {
          "output_type": "execute_result",
          "data": {
            "text/plain": [
              "Pipeline(steps=[('rfe',\n",
              "                 RFE(estimator=ExtraTreesClassifier(criterion='entropy',\n",
              "                                                    max_features=1.0,\n",
              "                                                    random_state=42),\n",
              "                     step=0.4)),\n",
              "                ('bernoullinb', BernoulliNB())])"
            ],
            "text/html": [
              "<style>#sk-container-id-2 {color: black;background-color: white;}#sk-container-id-2 pre{padding: 0;}#sk-container-id-2 div.sk-toggleable {background-color: white;}#sk-container-id-2 label.sk-toggleable__label {cursor: pointer;display: block;width: 100%;margin-bottom: 0;padding: 0.3em;box-sizing: border-box;text-align: center;}#sk-container-id-2 label.sk-toggleable__label-arrow:before {content: \"▸\";float: left;margin-right: 0.25em;color: #696969;}#sk-container-id-2 label.sk-toggleable__label-arrow:hover:before {color: black;}#sk-container-id-2 div.sk-estimator:hover label.sk-toggleable__label-arrow:before {color: black;}#sk-container-id-2 div.sk-toggleable__content {max-height: 0;max-width: 0;overflow: hidden;text-align: left;background-color: #f0f8ff;}#sk-container-id-2 div.sk-toggleable__content pre {margin: 0.2em;color: black;border-radius: 0.25em;background-color: #f0f8ff;}#sk-container-id-2 input.sk-toggleable__control:checked~div.sk-toggleable__content {max-height: 200px;max-width: 100%;overflow: auto;}#sk-container-id-2 input.sk-toggleable__control:checked~label.sk-toggleable__label-arrow:before {content: \"▾\";}#sk-container-id-2 div.sk-estimator input.sk-toggleable__control:checked~label.sk-toggleable__label {background-color: #d4ebff;}#sk-container-id-2 div.sk-label input.sk-toggleable__control:checked~label.sk-toggleable__label {background-color: #d4ebff;}#sk-container-id-2 input.sk-hidden--visually {border: 0;clip: rect(1px 1px 1px 1px);clip: rect(1px, 1px, 1px, 1px);height: 1px;margin: -1px;overflow: hidden;padding: 0;position: absolute;width: 1px;}#sk-container-id-2 div.sk-estimator {font-family: monospace;background-color: #f0f8ff;border: 1px dotted black;border-radius: 0.25em;box-sizing: border-box;margin-bottom: 0.5em;}#sk-container-id-2 div.sk-estimator:hover {background-color: #d4ebff;}#sk-container-id-2 div.sk-parallel-item::after {content: \"\";width: 100%;border-bottom: 1px solid gray;flex-grow: 1;}#sk-container-id-2 div.sk-label:hover label.sk-toggleable__label {background-color: #d4ebff;}#sk-container-id-2 div.sk-serial::before {content: \"\";position: absolute;border-left: 1px solid gray;box-sizing: border-box;top: 0;bottom: 0;left: 50%;z-index: 0;}#sk-container-id-2 div.sk-serial {display: flex;flex-direction: column;align-items: center;background-color: white;padding-right: 0.2em;padding-left: 0.2em;position: relative;}#sk-container-id-2 div.sk-item {position: relative;z-index: 1;}#sk-container-id-2 div.sk-parallel {display: flex;align-items: stretch;justify-content: center;background-color: white;position: relative;}#sk-container-id-2 div.sk-item::before, #sk-container-id-2 div.sk-parallel-item::before {content: \"\";position: absolute;border-left: 1px solid gray;box-sizing: border-box;top: 0;bottom: 0;left: 50%;z-index: -1;}#sk-container-id-2 div.sk-parallel-item {display: flex;flex-direction: column;z-index: 1;position: relative;background-color: white;}#sk-container-id-2 div.sk-parallel-item:first-child::after {align-self: flex-end;width: 50%;}#sk-container-id-2 div.sk-parallel-item:last-child::after {align-self: flex-start;width: 50%;}#sk-container-id-2 div.sk-parallel-item:only-child::after {width: 0;}#sk-container-id-2 div.sk-dashed-wrapped {border: 1px dashed gray;margin: 0 0.4em 0.5em 0.4em;box-sizing: border-box;padding-bottom: 0.4em;background-color: white;}#sk-container-id-2 div.sk-label label {font-family: monospace;font-weight: bold;display: inline-block;line-height: 1.2em;}#sk-container-id-2 div.sk-label-container {text-align: center;}#sk-container-id-2 div.sk-container {/* jupyter's `normalize.less` sets `[hidden] { display: none; }` but bootstrap.min.css set `[hidden] { display: none !important; }` so we also need the `!important` here to be able to override the default hidden behavior on the sphinx rendered scikit-learn.org. See: https://github.com/scikit-learn/scikit-learn/issues/21755 */display: inline-block !important;position: relative;}#sk-container-id-2 div.sk-text-repr-fallback {display: none;}</style><div id=\"sk-container-id-2\" class=\"sk-top-container\"><div class=\"sk-text-repr-fallback\"><pre>Pipeline(steps=[(&#x27;rfe&#x27;,\n",
              "                 RFE(estimator=ExtraTreesClassifier(criterion=&#x27;entropy&#x27;,\n",
              "                                                    max_features=1.0,\n",
              "                                                    random_state=42),\n",
              "                     step=0.4)),\n",
              "                (&#x27;bernoullinb&#x27;, BernoulliNB())])</pre><b>In a Jupyter environment, please rerun this cell to show the HTML representation or trust the notebook. <br />On GitHub, the HTML representation is unable to render, please try loading this page with nbviewer.org.</b></div><div class=\"sk-container\" hidden><div class=\"sk-item sk-dashed-wrapped\"><div class=\"sk-label-container\"><div class=\"sk-label sk-toggleable\"><input class=\"sk-toggleable__control sk-hidden--visually\" id=\"sk-estimator-id-11\" type=\"checkbox\" ><label for=\"sk-estimator-id-11\" class=\"sk-toggleable__label sk-toggleable__label-arrow\">Pipeline</label><div class=\"sk-toggleable__content\"><pre>Pipeline(steps=[(&#x27;rfe&#x27;,\n",
              "                 RFE(estimator=ExtraTreesClassifier(criterion=&#x27;entropy&#x27;,\n",
              "                                                    max_features=1.0,\n",
              "                                                    random_state=42),\n",
              "                     step=0.4)),\n",
              "                (&#x27;bernoullinb&#x27;, BernoulliNB())])</pre></div></div></div><div class=\"sk-serial\"><div class=\"sk-item sk-dashed-wrapped\"><div class=\"sk-label-container\"><div class=\"sk-label sk-toggleable\"><input class=\"sk-toggleable__control sk-hidden--visually\" id=\"sk-estimator-id-12\" type=\"checkbox\" ><label for=\"sk-estimator-id-12\" class=\"sk-toggleable__label sk-toggleable__label-arrow\">rfe: RFE</label><div class=\"sk-toggleable__content\"><pre>RFE(estimator=ExtraTreesClassifier(criterion=&#x27;entropy&#x27;, max_features=1.0,\n",
              "                                   random_state=42),\n",
              "    step=0.4)</pre></div></div></div><div class=\"sk-parallel\"><div class=\"sk-parallel-item\"><div class=\"sk-item\"><div class=\"sk-label-container\"><div class=\"sk-label sk-toggleable\"><input class=\"sk-toggleable__control sk-hidden--visually\" id=\"sk-estimator-id-13\" type=\"checkbox\" ><label for=\"sk-estimator-id-13\" class=\"sk-toggleable__label sk-toggleable__label-arrow\">estimator: ExtraTreesClassifier</label><div class=\"sk-toggleable__content\"><pre>ExtraTreesClassifier(criterion=&#x27;entropy&#x27;, max_features=1.0, random_state=42)</pre></div></div></div><div class=\"sk-serial\"><div class=\"sk-item\"><div class=\"sk-estimator sk-toggleable\"><input class=\"sk-toggleable__control sk-hidden--visually\" id=\"sk-estimator-id-14\" type=\"checkbox\" ><label for=\"sk-estimator-id-14\" class=\"sk-toggleable__label sk-toggleable__label-arrow\">ExtraTreesClassifier</label><div class=\"sk-toggleable__content\"><pre>ExtraTreesClassifier(criterion=&#x27;entropy&#x27;, max_features=1.0, random_state=42)</pre></div></div></div></div></div></div></div></div><div class=\"sk-item\"><div class=\"sk-estimator sk-toggleable\"><input class=\"sk-toggleable__control sk-hidden--visually\" id=\"sk-estimator-id-15\" type=\"checkbox\" ><label for=\"sk-estimator-id-15\" class=\"sk-toggleable__label sk-toggleable__label-arrow\">BernoulliNB</label><div class=\"sk-toggleable__content\"><pre>BernoulliNB()</pre></div></div></div></div></div></div></div>"
            ]
          },
          "metadata": {},
          "execution_count": 33
        }
      ]
    },
    {
      "cell_type": "code",
      "source": [
        "yPred=exported_pipeline.predict(xTestDtm)\n",
        "print(\"Cross val score\")\n",
        "print(np.mean(cross_val_score(exported_pipeline, xTrainDtm, yTrain, cv = 5)))\n",
        "print('Classification report')\n",
        "print(classification_report(yTest,yPred))\n",
        "print('Accuracy')\n",
        "print(accuracy_score(yTest,yPred))\n",
        "\n",
        "print(\"Accuracy Train\")\n",
        "print(accuracy_score(yTrain,exported_pipeline.predict(xTrainDtm)))"
      ],
      "metadata": {
        "colab": {
          "base_uri": "https://localhost:8080/"
        },
        "id": "axZ9zkMJgST3",
        "outputId": "d3fd04f0-13c5-4ae2-fbdc-a0a3608e40e6"
      },
      "execution_count": null,
      "outputs": [
        {
          "output_type": "stream",
          "name": "stdout",
          "text": [
            "Cross val score\n",
            "0.8907407407407408\n",
            "Classification report\n",
            "              precision    recall  f1-score   support\n",
            "\n",
            "           0       0.87      0.90      0.89        30\n",
            "           1       0.90      0.87      0.88        30\n",
            "\n",
            "    accuracy                           0.88        60\n",
            "   macro avg       0.88      0.88      0.88        60\n",
            "weighted avg       0.88      0.88      0.88        60\n",
            "\n",
            "Accuracy\n",
            "0.8833333333333333\n",
            "Accuracy Train\n",
            "0.8985507246376812\n"
          ]
        }
      ]
    },
    {
      "cell_type": "code",
      "source": [
        "#Salvo il modello\n",
        "import pickle\n",
        "# Salva la pipeline su file\n",
        "with open('tpotPipe.pkl', 'wb') as file:\n",
        "    pickle.dump(exported_pipeline, file)"
      ],
      "metadata": {
        "id": "Kr9CDYOEgmyg"
      },
      "execution_count": null,
      "outputs": []
    },
    {
      "cell_type": "markdown",
      "source": [
        "# BERT\n"
      ],
      "metadata": {
        "id": "PFRvqUxIn37P"
      }
    },
    {
      "cell_type": "code",
      "source": [
        "!pip install 'transformers'\n",
        "import torch\n",
        "from torch import nn\n",
        "from transformers import AutoModelForSequenceClassification, AutoTokenizer\n",
        "from torch.optim.lr_scheduler import ReduceLROnPlateau\n",
        "from torch.optim import Adam\n",
        "from tqdm import tqdm\n",
        "from nltk import sent_tokenize\n",
        "import nltk\n",
        "nltk.download('punkt')\n",
        "from google.colab import files, runtime, drive\n",
        "from datetime import datetime\n",
        "import time"
      ],
      "metadata": {
        "colab": {
          "base_uri": "https://localhost:8080/"
        },
        "id": "iPjN4yx3n6mN",
        "outputId": "cfe29404-6d11-42d3-a24d-2c52bbb03373"
      },
      "execution_count": null,
      "outputs": [
        {
          "output_type": "stream",
          "name": "stdout",
          "text": [
            "Looking in indexes: https://pypi.org/simple, https://us-python.pkg.dev/colab-wheels/public/simple/\n",
            "Collecting transformers\n",
            "  Downloading transformers-4.29.2-py3-none-any.whl (7.1 MB)\n",
            "\u001b[2K     \u001b[90m━━━━━━━━━━━━━━━━━━━━━━━━━━━━━━━━━━━━━━━━\u001b[0m \u001b[32m7.1/7.1 MB\u001b[0m \u001b[31m75.1 MB/s\u001b[0m eta \u001b[36m0:00:00\u001b[0m\n",
            "\u001b[?25hRequirement already satisfied: filelock in /usr/local/lib/python3.10/dist-packages (from transformers) (3.12.0)\n",
            "Collecting huggingface-hub<1.0,>=0.14.1 (from transformers)\n",
            "  Downloading huggingface_hub-0.15.1-py3-none-any.whl (236 kB)\n",
            "\u001b[2K     \u001b[90m━━━━━━━━━━━━━━━━━━━━━━━━━━━━━━━━━━━━━━\u001b[0m \u001b[32m236.8/236.8 kB\u001b[0m \u001b[31m25.5 MB/s\u001b[0m eta \u001b[36m0:00:00\u001b[0m\n",
            "\u001b[?25hRequirement already satisfied: numpy>=1.17 in /usr/local/lib/python3.10/dist-packages (from transformers) (1.22.4)\n",
            "Requirement already satisfied: packaging>=20.0 in /usr/local/lib/python3.10/dist-packages (from transformers) (23.1)\n",
            "Requirement already satisfied: pyyaml>=5.1 in /usr/local/lib/python3.10/dist-packages (from transformers) (6.0)\n",
            "Requirement already satisfied: regex!=2019.12.17 in /usr/local/lib/python3.10/dist-packages (from transformers) (2022.10.31)\n",
            "Requirement already satisfied: requests in /usr/local/lib/python3.10/dist-packages (from transformers) (2.27.1)\n",
            "Collecting tokenizers!=0.11.3,<0.14,>=0.11.1 (from transformers)\n",
            "  Downloading tokenizers-0.13.3-cp310-cp310-manylinux_2_17_x86_64.manylinux2014_x86_64.whl (7.8 MB)\n",
            "\u001b[2K     \u001b[90m━━━━━━━━━━━━━━━━━━━━━━━━━━━━━━━━━━━━━━━━\u001b[0m \u001b[32m7.8/7.8 MB\u001b[0m \u001b[31m69.1 MB/s\u001b[0m eta \u001b[36m0:00:00\u001b[0m\n",
            "\u001b[?25hRequirement already satisfied: tqdm>=4.27 in /usr/local/lib/python3.10/dist-packages (from transformers) (4.65.0)\n",
            "Requirement already satisfied: fsspec in /usr/local/lib/python3.10/dist-packages (from huggingface-hub<1.0,>=0.14.1->transformers) (2023.4.0)\n",
            "Requirement already satisfied: typing-extensions>=3.7.4.3 in /usr/local/lib/python3.10/dist-packages (from huggingface-hub<1.0,>=0.14.1->transformers) (4.5.0)\n",
            "Requirement already satisfied: urllib3<1.27,>=1.21.1 in /usr/local/lib/python3.10/dist-packages (from requests->transformers) (1.26.15)\n",
            "Requirement already satisfied: certifi>=2017.4.17 in /usr/local/lib/python3.10/dist-packages (from requests->transformers) (2022.12.7)\n",
            "Requirement already satisfied: charset-normalizer~=2.0.0 in /usr/local/lib/python3.10/dist-packages (from requests->transformers) (2.0.12)\n",
            "Requirement already satisfied: idna<4,>=2.5 in /usr/local/lib/python3.10/dist-packages (from requests->transformers) (3.4)\n",
            "Installing collected packages: tokenizers, huggingface-hub, transformers\n",
            "Successfully installed huggingface-hub-0.15.1 tokenizers-0.13.3 transformers-4.29.2\n"
          ]
        },
        {
          "output_type": "stream",
          "name": "stderr",
          "text": [
            "[nltk_data] Downloading package punkt to /root/nltk_data...\n",
            "[nltk_data]   Unzipping tokenizers/punkt.zip.\n"
          ]
        }
      ]
    },
    {
      "cell_type": "code",
      "source": [
        "tokenizer = AutoTokenizer.from_pretrained(\"dmis-lab/biobert-base-cased-v1.1\")\n",
        "model = AutoModelForSequenceClassification.from_pretrained(\n",
        "    \"/content/drive/MyDrive/biobert_clsf_julius_10_05_2023\"\n",
        ")"
      ],
      "metadata": {
        "id": "RsJoMaOvssG4",
        "colab": {
          "base_uri": "https://localhost:8080/",
          "height": 81,
          "referenced_widgets": [
            "1ecc8d7072aa41bb8d4a792fe5298959",
            "7f4eef78027c40a4a768955cb5ec379d",
            "579e4c7922314adbb1516ababcb05eec",
            "f9f5905989054834a3cc6f6ece581d6b",
            "b3eb892981d1463fbc11f21342d9d80a",
            "43c179b881f542bcbcefeb7224aa7e7e",
            "f4b2563c04724146b2ab37883eccd8c3",
            "39ad7a632cbe4768af975ccaedf388ea",
            "a1cce537caaf465f902e64bc37343ac1",
            "e226e50acd7c4e97a498a15a03f52fca",
            "31c2c5659c5a4634aceb1d8e4411fc2c",
            "393e1d3e8a2e4e9d93393bcadf102082",
            "1b6dfd6f6c9b4288a4faae70f57aaa2e",
            "eb06ce329ca8437d9ecb07bdfc6ba1d7",
            "53b2a2e78ba84523b50143e6a26a4b81",
            "4d500e3c8b07493daa78025eb00b139f",
            "77a4be6ad6c24076812da3f5a94de845",
            "ef5b43fd07654594a1aee58a61fbf01b",
            "9e86cb4e82a142df931667a58ec70919",
            "e1ff1dc5973b4e27a0b066af30849669",
            "56ae6e8d234447f6b778dc169163bbb0",
            "eecff8bab8eb4432845bae66e1a18e49"
          ]
        },
        "outputId": "c600a275-9f00-44b6-82d6-6855edb38e24"
      },
      "execution_count": null,
      "outputs": [
        {
          "output_type": "display_data",
          "data": {
            "text/plain": [
              "Downloading (…)lve/main/config.json:   0%|          | 0.00/313 [00:00<?, ?B/s]"
            ],
            "application/vnd.jupyter.widget-view+json": {
              "version_major": 2,
              "version_minor": 0,
              "model_id": "1ecc8d7072aa41bb8d4a792fe5298959"
            }
          },
          "metadata": {}
        },
        {
          "output_type": "display_data",
          "data": {
            "text/plain": [
              "Downloading (…)solve/main/vocab.txt:   0%|          | 0.00/213k [00:00<?, ?B/s]"
            ],
            "application/vnd.jupyter.widget-view+json": {
              "version_major": 2,
              "version_minor": 0,
              "model_id": "393e1d3e8a2e4e9d93393bcadf102082"
            }
          },
          "metadata": {}
        }
      ]
    },
    {
      "cell_type": "code",
      "source": [
        "# Crea una lista vuota per le previsioni\n",
        "predictions = []\n",
        "\n",
        "# Itera su ogni testo nella colonna 'testi'\n",
        "for text in xTest:\n",
        "    # Tokenizza il testo\n",
        "    inputs = tokenizer(text,\n",
        "                padding='max_length', max_length = 512, truncation=True,\n",
        "                return_tensors=\"pt\")\n",
        "    # Esegue la previsione\n",
        "    outputs = model(**inputs)\n",
        "\n",
        "    # Estrae la classe predetta\n",
        "    predicted_class = outputs.logits.argmax().item()\n",
        "\n",
        "    # Aggiunge la classe predetta alla lista di previsioni\n",
        "    predictions.append(predicted_class)\n",
        "\n",
        "# Aggiunge la lista di previsioni come nuova colonna del DataFrame\n",
        "yPred = predictions"
      ],
      "metadata": {
        "id": "3KqunC_Pvs5E"
      },
      "execution_count": null,
      "outputs": []
    },
    {
      "cell_type": "code",
      "source": [
        "print(classification_report(yTest,yPred))"
      ],
      "metadata": {
        "colab": {
          "base_uri": "https://localhost:8080/"
        },
        "id": "AEan57zCxftj",
        "outputId": "1a4e9c55-3761-45d8-d86c-508b7c620d57"
      },
      "execution_count": null,
      "outputs": [
        {
          "output_type": "stream",
          "name": "stdout",
          "text": [
            "              precision    recall  f1-score   support\n",
            "\n",
            "           0       0.97      0.97      0.97        30\n",
            "           1       0.97      0.97      0.97        30\n",
            "\n",
            "    accuracy                           0.97        60\n",
            "   macro avg       0.97      0.97      0.97        60\n",
            "weighted avg       0.97      0.97      0.97        60\n",
            "\n"
          ]
        }
      ]
    },
    {
      "cell_type": "markdown",
      "source": [
        "Non posso confrontare. Abbiamo usato split diversi del dataset"
      ],
      "metadata": {
        "id": "LBnoFqntyn-M"
      }
    }
  ]
}